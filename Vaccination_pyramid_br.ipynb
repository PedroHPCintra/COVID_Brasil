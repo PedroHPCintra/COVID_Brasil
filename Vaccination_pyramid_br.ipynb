{
  "nbformat": 4,
  "nbformat_minor": 0,
  "metadata": {
    "colab": {
      "name": "Vaccination_pyramid_br.ipynb",
      "provenance": []
    },
    "kernelspec": {
      "name": "python3",
      "display_name": "Python 3"
    },
    "language_info": {
      "name": "python"
    }
  },
  "cells": [
    {
      "cell_type": "markdown",
      "metadata": {
        "id": "fQYYunSs0yWV"
      },
      "source": [
        "# Piramide de vacinação brasileira\n",
        "\n",
        "Fontes:\n",
        "\n",
        "1. população brasileira - [Projeção da população do Brasil e das Unidades da Federação - IBGE](https://www.ibge.gov.br/apps/populacao/projecao//index.html)\n",
        "2. população vacinada - [Registros de Vacinação COVID19 - OpenDataSUS](https://opendatasus.saude.gov.br/dataset/covid-19-vacinacao/resource/ef3bd0b8-b605-474b-9ae5-c97390c197a8)"
      ]
    },
    {
      "cell_type": "markdown",
      "metadata": {
        "id": "Nv0Y0jkl1IdN"
      },
      "source": [
        "Baixe o ```.csv``` completo com os dados de vacinação no Brasil e substitua **adress** no código abaixo pelo endereço no computador onde o arquivo ```.csv``` está baixado."
      ]
    },
    {
      "cell_type": "code",
      "metadata": {
        "id": "9NOsjdZM0rCF"
      },
      "source": [
        "vac = pd.read_csv('adress',\n",
        "                  error_bad_lines=False, nrows=1000000, delimiter = ';')"
      ],
      "execution_count": null,
      "outputs": []
    },
    {
      "cell_type": "code",
      "metadata": {
        "id": "AYReJUtw0-86"
      },
      "source": [
        "vac.head()"
      ],
      "execution_count": null,
      "outputs": []
    },
    {
      "cell_type": "markdown",
      "metadata": {
        "id": "W-yjFYAx1jT2"
      },
      "source": [
        "No local de **date** coloque a data de corte para até onde você irá pegar dados. Se deseja pegar dados de vacinação até o dia 01/06/2021, por exemplo, coloque a data como 02/06/2021."
      ]
    },
    {
      "cell_type": "code",
      "metadata": {
        "id": "apfJzQH_1DTN"
      },
      "source": [
        "dates = ['date'] #Substitua aqui a data de corte que deseja\n",
        "dates_pd = pd.DataFrame({'dates': dates})\n",
        "dates_pd['dates'] = pd.to_datetime(dates_pd['dates'], format = '%Y-%m-%d').dt.tz_localize(None)\n",
        "\n",
        "rows_n = 2000000\n",
        "\n",
        "pop_br = 212981000\n",
        "\n",
        "man = [0.0356,0.0354,0.0357,0.0380,0.0411,0.0401,0.0403,0.0394,0.0358,0.0311,0.0285,0.0251,0.0205,\n",
        "       0.0158,0.0113,0.0073,0.0045,0.0022,0.0013]\n",
        "woman = [0.0340,0.0338,0.0342,0.0366,0.0402,0.0401,0.0410,0.0410,0.0379,0.0334,0.0311,0.0281,0.0238,\n",
        "         0.0189,0.0142,0.0098,0.0067,0.0037,0.0026]\n",
        "\n",
        "br = pd.DataFrame({'Age': ['0-4','5-9','10-14','15-19','20-24','25-29','30-34','35-39','40-44','45-49','50-54','55-59','60-64','65-69','70-74','75-79','80-84','85-89','90+'],\n",
        "                   'Male': np.array(man)*pop_br,\n",
        "                   'Female': np.array(woman)*(-pop_br)})\n",
        "AgeClass = ['90+','85-89','80-84','75-79','70-74','65-69','60-64','55-59','50-54','45-49','40-44','35-39','30-34','25-29','20-24','15-19','10-14','5-9','0-4']\n",
        "\n",
        "for date in dates:\n",
        "  dat = date\n",
        "  print(f'Threshold date: {dat}')\n",
        "  male_first = []\n",
        "  female_first = []\n",
        "  male_second = []\n",
        "  female_second = []\n",
        "  for i in range(32):\n",
        "    print(f'Section number: {i+1}')\n",
        "    if i == 0:\n",
        "        vac = pd.read_csv('gdrive/MyDrive/COVID/Vaccination/Vacinacao_COVID_Brasil_completo.csv',\n",
        "                        error_bad_lines=False, nrows=rows_n, delimiter = ';')\n",
        "    elif i > 0:\n",
        "      vac = pd.read_csv('gdrive/MyDrive/COVID/Vaccination/Vacinacao_COVID_Brasil_completo.csv',\n",
        "                        error_bad_lines=False, skiprows=range(1, i*rows_n) , nrows=rows_n, delimiter = ';')\n",
        "    vac['vacina_dataaplicacao'] = pd.to_datetime(vac['vacina_dataaplicacao'], format = '%Y-%m-%d').dt.tz_localize(None)\n",
        "    vac = vac.loc[vac['vacina_dataaplicacao'] < dates_pd['dates'].values[0]]\n",
        "    print(f\"Last date in this section: {vac.sort_values('vacina_dataaplicacao').reset_index(drop=True)['vacina_dataaplicacao'][len(vac['vacina_dataaplicacao'])-1]}\")\n",
        "    vacina_1_dose = vac.loc[vac['vacina_descricao_dose'] == '\\xa0\\xa0\\xa0\\xa01ª\\xa0Dose']\n",
        "    vacina_2_dose = vac.loc[vac['vacina_descricao_dose'] == '\\xa0\\xa0\\xa0\\xa02ª\\xa0Dose']\n",
        "    for j in range(19):\n",
        "      x = vacina_1_dose.loc[vacina_1_dose['paciente_idade'] >= j*5]\n",
        "      x = x.loc[x['paciente_idade'] <= j*5 + 4]\n",
        "      x2 = vacina_2_dose.loc[vacina_2_dose['paciente_idade'] >= j*5]\n",
        "      x2 = x2.loc[x2['paciente_idade'] <= j*5 + 4]\n",
        "      if j == 18:\n",
        "        x = vacina_1_dose.loc[vacina_1_dose['paciente_idade'] >= j*5]\n",
        "        x2 = vacina_2_dose.loc[vacina_2_dose['paciente_idade'] >= j*5]\n",
        "      m = len(x.loc[x['paciente_enumsexobiologico'] == 'M'])\n",
        "      m2 = len(x2.loc[x2['paciente_enumsexobiologico'] == 'M'])\n",
        "      male_first.append(m)\n",
        "      male_second.append(m2)\n",
        "      f = len(x.loc[x['paciente_enumsexobiologico'] == 'F'])\n",
        "      f2 = len(x2.loc[x2['paciente_enumsexobiologico'] == 'F'])\n",
        "      female_first.append(-f)\n",
        "      female_second.append(-f2)\n",
        "  print(len(male_first))\n",
        "  print(len(female_first))\n",
        "  male_final_1 = np.zeros(19)\n",
        "  female_final_1 =np.zeros(19)\n",
        "  male_final_2 = np.zeros(19)\n",
        "  female_final_2 =np.zeros(19)\n",
        "\n",
        "  for i in range(int(len(male_first)/19)):\n",
        "    male_final_1 += male_first[i*19:i*19+19]\n",
        "    female_final_1 += female_first[i*19:i*19+19]\n",
        "    male_final_2 += male_second[i*19:i*19+19]\n",
        "    female_final_2 += female_second[i*19:i*19+19]\n",
        "\n",
        "  print(male_final_1.shape)\n",
        "  print(female_final_1.shape)\n",
        "\n",
        "  df = pd.DataFrame({'Age': ['0-4','5-9','10-14','15-19','20-24','25-29','30-34','35-39','40-44','45-49','50-54','55-59','60-64','65-69','70-74','75-79','80-84','85-89','90+'],\n",
        "                   'Male_1dose': male_final_1,\n",
        "                   'Female_1dose': female_final_1,\n",
        "                   'Male_2dose': male_final_2,\n",
        "                   'Female_2dose': female_final_2})\n",
        "  print(df.head(5))\n",
        "  #plt.figure(figsize=(10,8))\n",
        "  bar_plot = sns.barplot(x='Male', y='Age', data=br, order=AgeClass, color = 'blue', alpha = 0.4, label = 'Homens população')\n",
        "  bar_plot = sns.barplot(x='Female', y='Age', data=br, order=AgeClass, color = 'red', alpha = 0.4, label = 'Mulheres população')\n",
        "\n",
        "  bar_plot = sns.barplot(x='Male_1dose', y='Age', data=df, order=AgeClass, color = 'blue', alpha = 0.7, label = 'Homens vacinados 1ª dose')\n",
        "  bar_plot = sns.barplot(x='Female_1dose', y='Age', data=df, order=AgeClass, color = 'red', alpha = 0.7, label = 'Mulheres vacinadas 1ª dose')\n",
        "\n",
        "  bar_plot = sns.barplot(x='Male_2dose', y='Age', data=df, order=AgeClass, color = 'darkblue', label = 'Homens vacinados 2ª dose')\n",
        "  bar_plot = sns.barplot(x='Female_2dose', y='Age', data=df, order=AgeClass, color = 'darkred', label = 'Mulheres vacinadas 2ª dose')\n",
        "\n",
        "  plt.ylabel('Grupo Etário', fontsize = 14)\n",
        "  plt.xlabel('População (milhões)', fontsize = 14)\n",
        "  plt.title(f'Pirâmide de vacinação ({dat})', fontsize = 18)\n",
        "  plt.xticks([-10e6, -7.5e6, -5e6, -2.5e6, 0, 2.5e6, 5e6, 7.5e6, 10e6],\n",
        "            labels = ['10','7.5','5','2.5','0','2.5','5','7.5','10'])\n",
        "  plt.legend(title = 'Populações', bbox_to_anchor = (1.01,1), fontsize = 12)\n",
        "  # plt.text(-10e6, 22, r'$\\bf{Fontes:}$'\n",
        "  # '\\n'\n",
        "  # '1. População brasileira: Projeção da população do Brasil e das Unidades da Federação - IBGE'\n",
        "  # '\\n'\n",
        "  # '2. População vacinada: Registros de Vacinação COVID19 - OpenDataSUS', fontsize = 12)\n",
        "  plt.savefig(f'vaccination_pyramid_{dat}.png', bbox_inches = 'tight')#, dpi = 300)\n",
        "  plt.close()"
      ],
      "execution_count": null,
      "outputs": []
    }
  ]
}