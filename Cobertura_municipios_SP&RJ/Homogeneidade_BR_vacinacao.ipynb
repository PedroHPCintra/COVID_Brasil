{
  "nbformat": 4,
  "nbformat_minor": 0,
  "metadata": {
    "colab": {
      "name": "Homogeneidade_BR_vacinacao.ipynb",
      "provenance": []
    },
    "kernelspec": {
      "name": "python3",
      "display_name": "Python 3"
    },
    "language_info": {
      "name": "python"
    }
  },
  "cells": [
    {
      "cell_type": "code",
      "metadata": {
        "colab": {
          "base_uri": "https://localhost:8080/"
        },
        "id": "pabkbKLHyDSt",
        "outputId": "d4a9fcf8-4aa8-40f2-8af9-4893d1e831d4"
      },
      "source": [
        "import matplotlib.pyplot as plt\n",
        "import numpy as np\n",
        "import pandas as pd\n",
        "import datetime\n",
        "import io\n",
        "from PIL import Image\n",
        "import folium\n",
        "from folium import plugins\n",
        "import json\n",
        "from google.colab import drive\n",
        "from tqdm import tqdm\n",
        "import scipy.stats as st\n",
        "import seaborn as sns\n",
        "import warnings\n",
        "warnings.filterwarnings('ignore')\n",
        "drive.mount(\"/content/gdrive\")"
      ],
      "execution_count": 9,
      "outputs": [
        {
          "output_type": "stream",
          "name": "stdout",
          "text": [
            "Drive already mounted at /content/gdrive; to attempt to forcibly remount, call drive.mount(\"/content/gdrive\", force_remount=True).\n"
          ]
        }
      ]
    },
    {
      "cell_type": "code",
      "metadata": {
        "colab": {
          "base_uri": "https://localhost:8080/"
        },
        "id": "wy8t_AqUyPOT",
        "outputId": "845e0570-15ca-4f14-ad36-53df44ab54ce"
      },
      "source": [
        "!pip install geopandas\n",
        "import geopandas as gpd"
      ],
      "execution_count": 2,
      "outputs": [
        {
          "output_type": "stream",
          "name": "stdout",
          "text": [
            "Collecting geopandas\n",
            "  Downloading geopandas-0.10.2-py2.py3-none-any.whl (1.0 MB)\n",
            "\u001b[?25l\r\u001b[K     |▎                               | 10 kB 28.6 MB/s eta 0:00:01\r\u001b[K     |▋                               | 20 kB 27.2 MB/s eta 0:00:01\r\u001b[K     |█                               | 30 kB 18.9 MB/s eta 0:00:01\r\u001b[K     |█▎                              | 40 kB 16.4 MB/s eta 0:00:01\r\u001b[K     |█▋                              | 51 kB 8.4 MB/s eta 0:00:01\r\u001b[K     |██                              | 61 kB 9.7 MB/s eta 0:00:01\r\u001b[K     |██▎                             | 71 kB 9.1 MB/s eta 0:00:01\r\u001b[K     |██▌                             | 81 kB 10.1 MB/s eta 0:00:01\r\u001b[K     |██▉                             | 92 kB 7.9 MB/s eta 0:00:01\r\u001b[K     |███▏                            | 102 kB 8.2 MB/s eta 0:00:01\r\u001b[K     |███▌                            | 112 kB 8.2 MB/s eta 0:00:01\r\u001b[K     |███▉                            | 122 kB 8.2 MB/s eta 0:00:01\r\u001b[K     |████▏                           | 133 kB 8.2 MB/s eta 0:00:01\r\u001b[K     |████▌                           | 143 kB 8.2 MB/s eta 0:00:01\r\u001b[K     |████▊                           | 153 kB 8.2 MB/s eta 0:00:01\r\u001b[K     |█████                           | 163 kB 8.2 MB/s eta 0:00:01\r\u001b[K     |█████▍                          | 174 kB 8.2 MB/s eta 0:00:01\r\u001b[K     |█████▊                          | 184 kB 8.2 MB/s eta 0:00:01\r\u001b[K     |██████                          | 194 kB 8.2 MB/s eta 0:00:01\r\u001b[K     |██████▍                         | 204 kB 8.2 MB/s eta 0:00:01\r\u001b[K     |██████▊                         | 215 kB 8.2 MB/s eta 0:00:01\r\u001b[K     |███████                         | 225 kB 8.2 MB/s eta 0:00:01\r\u001b[K     |███████▎                        | 235 kB 8.2 MB/s eta 0:00:01\r\u001b[K     |███████▋                        | 245 kB 8.2 MB/s eta 0:00:01\r\u001b[K     |████████                        | 256 kB 8.2 MB/s eta 0:00:01\r\u001b[K     |████████▎                       | 266 kB 8.2 MB/s eta 0:00:01\r\u001b[K     |████████▋                       | 276 kB 8.2 MB/s eta 0:00:01\r\u001b[K     |█████████                       | 286 kB 8.2 MB/s eta 0:00:01\r\u001b[K     |█████████▏                      | 296 kB 8.2 MB/s eta 0:00:01\r\u001b[K     |█████████▌                      | 307 kB 8.2 MB/s eta 0:00:01\r\u001b[K     |█████████▉                      | 317 kB 8.2 MB/s eta 0:00:01\r\u001b[K     |██████████▏                     | 327 kB 8.2 MB/s eta 0:00:01\r\u001b[K     |██████████▌                     | 337 kB 8.2 MB/s eta 0:00:01\r\u001b[K     |██████████▉                     | 348 kB 8.2 MB/s eta 0:00:01\r\u001b[K     |███████████▏                    | 358 kB 8.2 MB/s eta 0:00:01\r\u001b[K     |███████████▍                    | 368 kB 8.2 MB/s eta 0:00:01\r\u001b[K     |███████████▊                    | 378 kB 8.2 MB/s eta 0:00:01\r\u001b[K     |████████████                    | 389 kB 8.2 MB/s eta 0:00:01\r\u001b[K     |████████████▍                   | 399 kB 8.2 MB/s eta 0:00:01\r\u001b[K     |████████████▊                   | 409 kB 8.2 MB/s eta 0:00:01\r\u001b[K     |█████████████                   | 419 kB 8.2 MB/s eta 0:00:01\r\u001b[K     |█████████████▍                  | 430 kB 8.2 MB/s eta 0:00:01\r\u001b[K     |█████████████▋                  | 440 kB 8.2 MB/s eta 0:00:01\r\u001b[K     |██████████████                  | 450 kB 8.2 MB/s eta 0:00:01\r\u001b[K     |██████████████▎                 | 460 kB 8.2 MB/s eta 0:00:01\r\u001b[K     |██████████████▋                 | 471 kB 8.2 MB/s eta 0:00:01\r\u001b[K     |███████████████                 | 481 kB 8.2 MB/s eta 0:00:01\r\u001b[K     |███████████████▎                | 491 kB 8.2 MB/s eta 0:00:01\r\u001b[K     |███████████████▋                | 501 kB 8.2 MB/s eta 0:00:01\r\u001b[K     |███████████████▉                | 512 kB 8.2 MB/s eta 0:00:01\r\u001b[K     |████████████████▏               | 522 kB 8.2 MB/s eta 0:00:01\r\u001b[K     |████████████████▌               | 532 kB 8.2 MB/s eta 0:00:01\r\u001b[K     |████████████████▉               | 542 kB 8.2 MB/s eta 0:00:01\r\u001b[K     |█████████████████▏              | 552 kB 8.2 MB/s eta 0:00:01\r\u001b[K     |█████████████████▌              | 563 kB 8.2 MB/s eta 0:00:01\r\u001b[K     |█████████████████▉              | 573 kB 8.2 MB/s eta 0:00:01\r\u001b[K     |██████████████████              | 583 kB 8.2 MB/s eta 0:00:01\r\u001b[K     |██████████████████▍             | 593 kB 8.2 MB/s eta 0:00:01\r\u001b[K     |██████████████████▊             | 604 kB 8.2 MB/s eta 0:00:01\r\u001b[K     |███████████████████             | 614 kB 8.2 MB/s eta 0:00:01\r\u001b[K     |███████████████████▍            | 624 kB 8.2 MB/s eta 0:00:01\r\u001b[K     |███████████████████▊            | 634 kB 8.2 MB/s eta 0:00:01\r\u001b[K     |████████████████████            | 645 kB 8.2 MB/s eta 0:00:01\r\u001b[K     |████████████████████▎           | 655 kB 8.2 MB/s eta 0:00:01\r\u001b[K     |████████████████████▋           | 665 kB 8.2 MB/s eta 0:00:01\r\u001b[K     |█████████████████████           | 675 kB 8.2 MB/s eta 0:00:01\r\u001b[K     |█████████████████████▎          | 686 kB 8.2 MB/s eta 0:00:01\r\u001b[K     |█████████████████████▋          | 696 kB 8.2 MB/s eta 0:00:01\r\u001b[K     |██████████████████████          | 706 kB 8.2 MB/s eta 0:00:01\r\u001b[K     |██████████████████████▎         | 716 kB 8.2 MB/s eta 0:00:01\r\u001b[K     |██████████████████████▋         | 727 kB 8.2 MB/s eta 0:00:01\r\u001b[K     |██████████████████████▉         | 737 kB 8.2 MB/s eta 0:00:01\r\u001b[K     |███████████████████████▏        | 747 kB 8.2 MB/s eta 0:00:01\r\u001b[K     |███████████████████████▌        | 757 kB 8.2 MB/s eta 0:00:01\r\u001b[K     |███████████████████████▉        | 768 kB 8.2 MB/s eta 0:00:01\r\u001b[K     |████████████████████████▏       | 778 kB 8.2 MB/s eta 0:00:01\r\u001b[K     |████████████████████████▌       | 788 kB 8.2 MB/s eta 0:00:01\r\u001b[K     |████████████████████████▉       | 798 kB 8.2 MB/s eta 0:00:01\r\u001b[K     |█████████████████████████       | 808 kB 8.2 MB/s eta 0:00:01\r\u001b[K     |█████████████████████████▍      | 819 kB 8.2 MB/s eta 0:00:01\r\u001b[K     |█████████████████████████▊      | 829 kB 8.2 MB/s eta 0:00:01\r\u001b[K     |██████████████████████████      | 839 kB 8.2 MB/s eta 0:00:01\r\u001b[K     |██████████████████████████▍     | 849 kB 8.2 MB/s eta 0:00:01\r\u001b[K     |██████████████████████████▊     | 860 kB 8.2 MB/s eta 0:00:01\r\u001b[K     |███████████████████████████     | 870 kB 8.2 MB/s eta 0:00:01\r\u001b[K     |███████████████████████████▎    | 880 kB 8.2 MB/s eta 0:00:01\r\u001b[K     |███████████████████████████▋    | 890 kB 8.2 MB/s eta 0:00:01\r\u001b[K     |████████████████████████████    | 901 kB 8.2 MB/s eta 0:00:01\r\u001b[K     |████████████████████████████▎   | 911 kB 8.2 MB/s eta 0:00:01\r\u001b[K     |████████████████████████████▋   | 921 kB 8.2 MB/s eta 0:00:01\r\u001b[K     |█████████████████████████████   | 931 kB 8.2 MB/s eta 0:00:01\r\u001b[K     |█████████████████████████████▎  | 942 kB 8.2 MB/s eta 0:00:01\r\u001b[K     |█████████████████████████████▌  | 952 kB 8.2 MB/s eta 0:00:01\r\u001b[K     |█████████████████████████████▉  | 962 kB 8.2 MB/s eta 0:00:01\r\u001b[K     |██████████████████████████████▏ | 972 kB 8.2 MB/s eta 0:00:01\r\u001b[K     |██████████████████████████████▌ | 983 kB 8.2 MB/s eta 0:00:01\r\u001b[K     |██████████████████████████████▉ | 993 kB 8.2 MB/s eta 0:00:01\r\u001b[K     |███████████████████████████████▏| 1.0 MB 8.2 MB/s eta 0:00:01\r\u001b[K     |███████████████████████████████▌| 1.0 MB 8.2 MB/s eta 0:00:01\r\u001b[K     |███████████████████████████████▊| 1.0 MB 8.2 MB/s eta 0:00:01\r\u001b[K     |████████████████████████████████| 1.0 MB 8.2 MB/s \n",
            "\u001b[?25hRequirement already satisfied: pandas>=0.25.0 in /usr/local/lib/python3.7/dist-packages (from geopandas) (1.1.5)\n",
            "Collecting pyproj>=2.2.0\n",
            "  Downloading pyproj-3.2.1-cp37-cp37m-manylinux2010_x86_64.whl (6.3 MB)\n",
            "\u001b[K     |████████████████████████████████| 6.3 MB 38.9 MB/s \n",
            "\u001b[?25hCollecting fiona>=1.8\n",
            "  Downloading Fiona-1.8.20-cp37-cp37m-manylinux1_x86_64.whl (15.4 MB)\n",
            "\u001b[K     |████████████████████████████████| 15.4 MB 36.5 MB/s \n",
            "\u001b[?25hRequirement already satisfied: shapely>=1.6 in /usr/local/lib/python3.7/dist-packages (from geopandas) (1.8.0)\n",
            "Requirement already satisfied: setuptools in /usr/local/lib/python3.7/dist-packages (from fiona>=1.8->geopandas) (57.4.0)\n",
            "Requirement already satisfied: attrs>=17 in /usr/local/lib/python3.7/dist-packages (from fiona>=1.8->geopandas) (21.2.0)\n",
            "Requirement already satisfied: six>=1.7 in /usr/local/lib/python3.7/dist-packages (from fiona>=1.8->geopandas) (1.15.0)\n",
            "Collecting cligj>=0.5\n",
            "  Downloading cligj-0.7.2-py3-none-any.whl (7.1 kB)\n",
            "Requirement already satisfied: click>=4.0 in /usr/local/lib/python3.7/dist-packages (from fiona>=1.8->geopandas) (7.1.2)\n",
            "Requirement already satisfied: certifi in /usr/local/lib/python3.7/dist-packages (from fiona>=1.8->geopandas) (2021.10.8)\n",
            "Collecting click-plugins>=1.0\n",
            "  Downloading click_plugins-1.1.1-py2.py3-none-any.whl (7.5 kB)\n",
            "Collecting munch\n",
            "  Downloading munch-2.5.0-py2.py3-none-any.whl (10 kB)\n",
            "Requirement already satisfied: numpy>=1.15.4 in /usr/local/lib/python3.7/dist-packages (from pandas>=0.25.0->geopandas) (1.19.5)\n",
            "Requirement already satisfied: pytz>=2017.2 in /usr/local/lib/python3.7/dist-packages (from pandas>=0.25.0->geopandas) (2018.9)\n",
            "Requirement already satisfied: python-dateutil>=2.7.3 in /usr/local/lib/python3.7/dist-packages (from pandas>=0.25.0->geopandas) (2.8.2)\n",
            "Installing collected packages: munch, cligj, click-plugins, pyproj, fiona, geopandas\n",
            "Successfully installed click-plugins-1.1.1 cligj-0.7.2 fiona-1.8.20 geopandas-0.10.2 munch-2.5.0 pyproj-3.2.1\n"
          ]
        }
      ]
    },
    {
      "cell_type": "code",
      "metadata": {
        "colab": {
          "base_uri": "https://localhost:8080/",
          "height": 305
        },
        "id": "qcejl4fYXVAY",
        "outputId": "1453857d-1616-464d-dff1-91136214d220"
      },
      "source": [
        "plt.figure(figsize=(10,4))\n",
        "plt.fill_between([0,0.2], 0, 1, color = sns.color_palette('YlGnBu', 9)[0])\n",
        "plt.fill_between([0.2,0.3], 0, 1, color = sns.color_palette('YlGnBu', 9)[1])\n",
        "plt.fill_between([0.3,0.4], 0, 1, color = sns.color_palette('YlGnBu', 9)[2])\n",
        "plt.fill_between([0.4,0.5], 0, 1, color = sns.color_palette('YlGnBu', 9)[3])\n",
        "plt.fill_between([0.5,0.6], 0, 1, color = sns.color_palette('YlGnBu', 9)[4])\n",
        "plt.fill_between([0.6,0.7], 0, 1, color = sns.color_palette('YlGnBu', 9)[5])\n",
        "plt.fill_between([0.7,0.8], 0, 1, color = sns.color_palette('YlGnBu', 9)[6])\n",
        "plt.fill_between([0.8,0.9], 0, 1, color = sns.color_palette('YlGnBu', 9)[7])\n",
        "plt.fill_between([0.9,1], 0, 1, color = sns.color_palette('YlGnBu', 9)[8])\n",
        "plt.ylim(0, 1)\n",
        "plt.xlim(0, 1)\n",
        "plt.xlabel('Cobertura vacinal', fontsize = 18)\n",
        "plt.yticks([])"
      ],
      "execution_count": 18,
      "outputs": [
        {
          "output_type": "execute_result",
          "data": {
            "text/plain": [
              "([], <a list of 0 Text major ticklabel objects>)"
            ]
          },
          "metadata": {},
          "execution_count": 18
        },
        {
          "output_type": "display_data",
          "data": {
            "image/png": "[encoded data removed]",
            "text/plain": [
              "<Figure size 720x288 with 1 Axes>"
            ]
          },
          "metadata": {
            "needs_background": "light"
          }
        }
      ]
    },
    {
      "cell_type": "code",
      "metadata": {
        "id": "aBquIoanyRFT"
      },
      "source": [
        "date = '2021-12-06'\n",
        "date_new = date.replace('-','')"
      ],
      "execution_count": 3,
      "outputs": []
    },
    {
      "cell_type": "code",
      "metadata": {
        "id": "VAS4d1NuySvt"
      },
      "source": [
        "df = pd.read_csv('https://github.com/PedroHPCintra/COVID_Brasil/raw/main/Cobertura_municipios_SP%26RJ/cobertura_vacinal_brasil_por_municipio.csv')"
      ],
      "execution_count": 4,
      "outputs": []
    },
    {
      "cell_type": "code",
      "metadata": {
        "id": "WfzIPyON41Qj"
      },
      "source": [
        "if df.columns[0] == '[Município]':\n",
        "  df = df.rename(columns={'[Município]': 'Município'})"
      ],
      "execution_count": 5,
      "outputs": []
    },
    {
      "cell_type": "code",
      "metadata": {
        "id": "WiZK2K2UzzIc"
      },
      "source": [
        "states = ['AC','AL','AM','AP','BA','CE','DF','ES','GO','MA','MG','MS','MT','PA',\n",
        "          'PB','PE','PI','PR','RJ','RN','RO','RR','RS','SC','SE','SP','TO']\n",
        "names = ['Acre', 'Alagoas', 'Amazonas', 'Amapá', 'Bahia', 'Ceará', 'Distrito Federal',\n",
        "         'Espirito Santo', 'Goiás', 'Maranhão', 'Minas Gerias', 'Mato Grosso do Sul',\n",
        "         'Mato Grosso', 'Pará', 'Paraíba', 'Pernambuco', 'Piauí', 'Paraná', 'Rio de Janeiro',\n",
        "         'Rio Grande do Norte', 'Rôndonia', 'Roraima', 'Rio Grande do Sul', 'Santa Catarina',\n",
        "         'Sergipe', 'São Paulo', 'Tocantins']\n",
        "stds = []\n",
        "normality = []\n",
        "norm_p = []\n",
        "iqrs = []\n",
        "cis = []"
      ],
      "execution_count": 6,
      "outputs": []
    },
    {
      "cell_type": "code",
      "metadata": {
        "colab": {
          "base_uri": "https://localhost:8080/",
          "height": 310
        },
        "id": "kdnxSm7Y5T2z",
        "outputId": "ad50458b-a879-4027-a3f7-e158824d23c8"
      },
      "source": [
        "df.head(5)"
      ],
      "execution_count": 7,
      "outputs": [
        {
          "output_type": "execute_result",
          "data": {
            "text/html": [
              "<div>\n",
              "<style scoped>\n",
              "    .dataframe tbody tr th:only-of-type {\n",
              "        vertical-align: middle;\n",
              "    }\n",
              "\n",
              "    .dataframe tbody tr th {\n",
              "        vertical-align: top;\n",
              "    }\n",
              "\n",
              "    .dataframe thead th {\n",
              "        text-align: right;\n",
              "    }\n",
              "</style>\n",
              "<table border=\"1\" class=\"dataframe\">\n",
              "  <thead>\n",
              "    <tr style=\"text-align: right;\">\n",
              "      <th></th>\n",
              "      <th>Município</th>\n",
              "      <th>Cód. IBGE</th>\n",
              "      <th>UF</th>\n",
              "      <th>Região</th>\n",
              "      <th>Fabricante</th>\n",
              "      <th>Total de doses aplicadas</th>\n",
              "      <th>1ª Dose D1</th>\n",
              "      <th>2ª Dose D2</th>\n",
              "      <th>Dose Adicional DA</th>\n",
              "      <th>Dose Reforço DR</th>\n",
              "      <th>Dose Única DU</th>\n",
              "    </tr>\n",
              "  </thead>\n",
              "  <tbody>\n",
              "    <tr>\n",
              "      <th>0</th>\n",
              "      <td>Abadia De Goiás</td>\n",
              "      <td>520005</td>\n",
              "      <td>GO</td>\n",
              "      <td>Centro-Oeste</td>\n",
              "      <td>BUTANTAN/SINOVAC</td>\n",
              "      <td>6.766</td>\n",
              "      <td>3.793</td>\n",
              "      <td>2.970</td>\n",
              "      <td>1.0</td>\n",
              "      <td>2</td>\n",
              "      <td>0.0</td>\n",
              "    </tr>\n",
              "    <tr>\n",
              "      <th>1</th>\n",
              "      <td>Abadia De Goiás</td>\n",
              "      <td>520005</td>\n",
              "      <td>GO</td>\n",
              "      <td>Centro-Oeste</td>\n",
              "      <td>FIOCRUZ/ASTRAZENECA</td>\n",
              "      <td>7.296</td>\n",
              "      <td>3.792</td>\n",
              "      <td>3.502</td>\n",
              "      <td>0.0</td>\n",
              "      <td>2</td>\n",
              "      <td>0.0</td>\n",
              "    </tr>\n",
              "    <tr>\n",
              "      <th>2</th>\n",
              "      <td>Abadia De Goiás</td>\n",
              "      <td>520005</td>\n",
              "      <td>GO</td>\n",
              "      <td>Centro-Oeste</td>\n",
              "      <td>JANSSEN</td>\n",
              "      <td>166</td>\n",
              "      <td>0</td>\n",
              "      <td>0</td>\n",
              "      <td>0.0</td>\n",
              "      <td>0</td>\n",
              "      <td>166.0</td>\n",
              "    </tr>\n",
              "    <tr>\n",
              "      <th>3</th>\n",
              "      <td>Abadia De Goiás</td>\n",
              "      <td>520005</td>\n",
              "      <td>GO</td>\n",
              "      <td>Centro-Oeste</td>\n",
              "      <td>PFIZER/BIONTECH</td>\n",
              "      <td>7.552</td>\n",
              "      <td>4.574</td>\n",
              "      <td>2.252</td>\n",
              "      <td>16.0</td>\n",
              "      <td>710</td>\n",
              "      <td>0.0</td>\n",
              "    </tr>\n",
              "    <tr>\n",
              "      <th>4</th>\n",
              "      <td>Abadia Dos Dourados</td>\n",
              "      <td>310010</td>\n",
              "      <td>MG</td>\n",
              "      <td>Sudeste</td>\n",
              "      <td>BUTANTAN/SINOVAC</td>\n",
              "      <td>2.670</td>\n",
              "      <td>1.384</td>\n",
              "      <td>1.285</td>\n",
              "      <td>0.0</td>\n",
              "      <td>1</td>\n",
              "      <td>0.0</td>\n",
              "    </tr>\n",
              "  </tbody>\n",
              "</table>\n",
              "</div>"
            ],
            "text/plain": [
              "             Município  Cód. IBGE  ... Dose Reforço DR Dose Única DU\n",
              "0      Abadia De Goiás     520005  ...               2           0.0\n",
              "1      Abadia De Goiás     520005  ...               2           0.0\n",
              "2      Abadia De Goiás     520005  ...               0         166.0\n",
              "3      Abadia De Goiás     520005  ...             710           0.0\n",
              "4  Abadia Dos Dourados     310010  ...               1           0.0\n",
              "\n",
              "[5 rows x 11 columns]"
            ]
          },
          "metadata": {},
          "execution_count": 7
        }
      ]
    },
    {
      "cell_type": "markdown",
      "metadata": {
        "id": "qsjtTw8NQht4"
      },
      "source": [
        "# Homogeneidade"
      ]
    },
    {
      "cell_type": "code",
      "metadata": {
        "colab": {
          "base_uri": "https://localhost:8080/"
        },
        "id": "W_eXJliu0TTm",
        "outputId": "b3f9814a-05bb-460a-bdb7-75f3a28f8e4c"
      },
      "source": [
        "for j in tqdm(range(len(states))):\n",
        "  state = states[j]\n",
        "  pe = df.loc[df['UF'] == state].reset_index(drop=True)\n",
        "  pe = pe.drop([len(pe)-1])\n",
        "  pe_pops = pd.read_csv(f'gdrive/MyDrive/Brasil/Populacao_municipios/{state}_info.csv')\n",
        "  for i in range(len(pe)):\n",
        "    municip = ''\n",
        "    if pe['Município'][i] == 'Abreu E Lima':\n",
        "      municip += 'Abreu e Lima'\n",
        "      pe['Município'][i] = municip\n",
        "    elif 'Tabocão' in pe['Município'][i] and state == 'TO':\n",
        "      municip += 'Tabocão'\n",
        "      pe['Município'][i] = municip\n",
        "    elif pe['Município'][i] == 'Passa E Fica':\n",
        "      municip += 'Passa e Fica'\n",
        "      pe['Município'][i] = municip\n",
        "    elif pe['Município'][i] == 'Biritiba-Mirim':\n",
        "      municip += 'Biritiba Mirim'\n",
        "      pe['Município'][i] = municip\n",
        "    elif pe['Município'][i] == 'Embu':\n",
        "      municip += 'Embu das Artes'\n",
        "      pe['Município'][i] = municip\n",
        "    elif pe['Município'][i] == 'Amparo De São Francisco':\n",
        "      municip += 'Amparo do São Francisco'\n",
        "      pe['Município'][i] = municip\n",
        "    elif pe['Município'][i] == 'Grão Pará':\n",
        "      municip += 'Grão-Pará'\n",
        "      pe['Município'][i] = municip\n",
        "    elif pe['Município'][i] == 'Augusto Severo':\n",
        "      municip += 'Campo Grande'\n",
        "      pe['Município'][i] = municip\n",
        "    elif pe['Município'][i] == 'Restinga Seca':\n",
        "      municip += 'Restinga Sêca'\n",
        "      pe['Município'][i] = municip\n",
        "    elif pe['Município'][i] == 'Vespasiano Correa':\n",
        "      municip += 'Vespasiano Corrêa'\n",
        "      pe['Município'][i] = municip\n",
        "    elif pe['Município'][i] == 'Xangri-Lá':\n",
        "      municip += 'Xangri-lá'\n",
        "      pe['Município'][i] = municip\n",
        "    elif pe['Município'][i] == 'Westfalia':\n",
        "      municip += 'Westfália'\n",
        "      pe['Município'][i] = municip\n",
        "    elif pe['Município'][i] == \"Sant'Ana Do Livramento\":\n",
        "      municip += \"Sant'Ana do Livramento\"\n",
        "      pe['Município'][i] = municip\n",
        "    elif pe['Município'][i] == 'Não-Me-Toque':\n",
        "      municip += 'Não-Me-Toque'\n",
        "      pe['Município'][i] = municip\n",
        "    elif pe['Município'][i] == \"Olho-D'Água Do Borges\":\n",
        "      municip += \"Olho d'Água do Borges\"\n",
        "      pe['Município'][i] = municip\n",
        "    elif pe['Município'][i] == \"Diamante D'Oeste\":\n",
        "      municip += \"Diamante D'Oeste\"\n",
        "      pe['Município'][i] = municip\n",
        "    elif pe['Município'][i] == \"Rancho Alegre D'Oeste\":\n",
        "      municip += \"Rancho Alegre D'Oeste\"\n",
        "      pe['Município'][i] = municip\n",
        "    elif pe['Município'][i] == \"Barra D'Alcântara\":\n",
        "      municip += \"Barra D'Alcântara\"\n",
        "      pe['Município'][i] = municip\n",
        "    elif pe['Município'][i] == \"Olho D'Água Do Piauí\":\n",
        "      municip += \"Olho D'Água do Piauí\"\n",
        "      pe['Município'][i] = municip\n",
        "    elif pe['Município'][i] == \"Pau D'Arco Do Piauí\":\n",
        "      municip += \"Pau D'Arco do Piauí\"\n",
        "      pe['Município'][i] = municip\n",
        "    elif pe['Município'][i] == 'Pedro Ii':\n",
        "      municip += 'Pedro II'\n",
        "      pe['Município'][i] = municip\n",
        "    elif pe['Município'][i] == 'Pio Ix':\n",
        "      municip += 'Pio IX'\n",
        "      pe['Município'][i] = municip\n",
        "    elif pe['Município'][i] == 'Pontes E Lacerda':\n",
        "      municip += 'Pontes e Lacerda'\n",
        "      pe['Município'][i] = municip\n",
        "    elif pe['Município'][i] == \"Pau D'Arco\":\n",
        "      municip += \"Pau D'Arco\"\n",
        "      pe['Município'][i] = municip\n",
        "    elif pe['Município'][i] == \"Conquista D'Oeste\":\n",
        "      municip += \"Conquista D'Oeste\"\n",
        "      pe['Município'][i] = municip\n",
        "    elif pe['Município'][i] == \"Figueirópolis D'Oeste\":\n",
        "      municip += \"Figueirópolis D'Oeste\"\n",
        "      pe['Município'][i] = municip\n",
        "    elif pe['Município'][i] == \"Glória D'Oeste\":\n",
        "      municip += \"Glória D'Oeste\"\n",
        "      pe['Município'][i] = municip\n",
        "    elif pe['Município'][i] == \"Lambari D'Oeste\":\n",
        "      municip += \"Lambari D'Oeste\"\n",
        "      pe['Município'][i] = municip\n",
        "    elif pe['Município'][i] == 'Amparo Da Serra':\n",
        "      municip += 'Amparo do Serra'\n",
        "      pe['Município'][i] = municip\n",
        "    elif pe['Município'][i] == 'Dona Euzebia':\n",
        "      municip += 'Dona Euzébia'\n",
        "      pe['Município'][i] = municip\n",
        "    elif pe['Município'][i] == \"Olhos-D'Água\":\n",
        "      municip += \"Olhos-d'Água\"\n",
        "      pe['Município'][i] = municip\n",
        "    elif pe['Município'][i] == 'Guarda-Mor':\n",
        "      municip += 'Guarda-Mor'\n",
        "      pe['Município'][i] = municip\n",
        "    elif pe['Município'][i] == 'Passa-Vinte':\n",
        "      municip += 'Passa Vinte'\n",
        "      pe['Município'][i] = municip\n",
        "    elif pe['Município'][i] == 'São João Del Rei':\n",
        "      municip += 'São João del Rei'\n",
        "      pe['Município'][i] = municip\n",
        "    elif pe['Município'][i] == \"Pingo-D'Água\":\n",
        "      municip += \"Pingo-d'Água\"\n",
        "      pe['Município'][i] = municip\n",
        "    elif pe['Município'][i] == \"São Thomé Das Letras\":\n",
        "      municip += \"São Tomé das Letras\"\n",
        "      pe['Município'][i] = municip\n",
        "    elif pe['Município'][i] == \"Sapucaí-Mirim\":\n",
        "      municip += \"Sapucaí-Mirim\"\n",
        "      pe['Município'][i] = municip\n",
        "    elif pe['Município'][i] == \"Sem-Peixe\":\n",
        "      municip += \"Sem-Peixe\"\n",
        "      pe['Município'][i] = municip\n",
        "    elif pe['Município'][i] == 'Apicum-Açu':\n",
        "      municip += 'Apicum-Açu'\n",
        "      pe['Município'][i] = municip\n",
        "    elif pe['Município'][i] == 'Conceição Do Lago-Açu':\n",
        "      municip += 'Conceição do Lago-Açu'\n",
        "      pe['Município'][i] = municip\n",
        "    elif pe['Município'][i] == \"Olho D'Água Das Cunhãs\":\n",
        "      municip += \"Olho d'Água das Cunhãs\"\n",
        "      pe['Município'][i] = municip\n",
        "    elif pe['Município'][i] == 'Pindaré-Mirim':\n",
        "      municip += 'Pindaré-Mirim'\n",
        "      pe['Município'][i] = municip\n",
        "    elif pe['Município'][i] == 'Pio Xii':\n",
        "      municip += 'Pio XII'\n",
        "      pe['Município'][i] = municip\n",
        "    elif pe['Município'][i] == 'Varre-Sai':\n",
        "      municip += 'Varre-Sai'\n",
        "      pe['Município'][i] = municip\n",
        "    elif pe['Município'][i] == \"Olho D'Água Das Flores\":\n",
        "      municip += \"Olho d'Água das Flores\"\n",
        "      pe['Município'][i] = municip\n",
        "    elif pe['Município'][i] == \"Olho D'Água Do Casado\":\n",
        "      municip += \"Olho d'Água do Casado\"\n",
        "      pe['Município'][i] = municip\n",
        "    elif pe['Município'][i] == \"Olho D'Água Grande\":\n",
        "      municip += \"Olho d'Água Grande\"\n",
        "      pe['Município'][i] = municip\n",
        "    elif pe['Município'][i] == \"Tanque D'Arca\":\n",
        "      municip += \"Tanque d'Arca\"\n",
        "      pe['Município'][i] = municip\n",
        "    elif pe['Município'][i] == \"Dias D'Ávila\":\n",
        "      municip += \"Dias d'Ávila\"\n",
        "      pe['Município'][i] = municip\n",
        "    elif pe['Município'][i] == \"Xique-Xique\":\n",
        "      municip += \"Xique-Xique\"\n",
        "      pe['Município'][i] = municip\n",
        "    elif pe['Município'][i] == \"Ererê\":\n",
        "      municip += \"Ereré\"\n",
        "      pe['Município'][i] = municip\n",
        "    elif pe['Município'][i] == \"Itapagé\":\n",
        "      municip += \"Itapajé\"\n",
        "      pe['Município'][i] = municip\n",
        "    elif pe['Município'][i] == \"Atilio Vivacqua\":\n",
        "      municip += \"Atílio Vivácqua\"\n",
        "      pe['Município'][i] = municip\n",
        "    elif pe['Município'][i] == \"São João D'Aliança\":\n",
        "      municip += \"São João d'Aliança\"\n",
        "      pe['Município'][i] = municip\n",
        "    elif pe['Município'][i] == \"Sítio D'Abadia\":\n",
        "      municip += \"Sítio d'Abadia\"\n",
        "      pe['Município'][i] = municip\n",
        "    elif pe['Município'][i] == \"Seridó\":\n",
        "      municip += \"São Vicente do Seridó\"\n",
        "      pe['Município'][i] = municip\n",
        "    elif \"D'\" in pe['Município'][i] and state != 'RO':\n",
        "      slices = pe['Município'][i].split(' ')\n",
        "      for k in range(len(slices)):\n",
        "        if \"D'\" in slices[k]:\n",
        "          if k != len(slices)-1:\n",
        "            subslices = slices[k].split(\"'\")\n",
        "            municip += \"d'\" + subslices[1] + ' '\n",
        "          else:\n",
        "            subslices = slices[k].split(\"'\")\n",
        "            municip += \"d'\" + subslices[1]\n",
        "        elif slices[k] == 'De' or slices[k] == 'Do' or slices[k] == 'Da' or slices[k] == 'Dos' or slices[k] == 'Das' or slices[k] == 'Del':\n",
        "            name = slices[k].lower()\n",
        "            municip += name + ' '\n",
        "        else:\n",
        "          if k != len(slices)-1:\n",
        "            municip += slices[k] + ' '\n",
        "          else:\n",
        "            municip += slices[k]\n",
        "      pe['Município'][i] = municip\n",
        "    elif \"D'\" in pe['Município'][i] and state == 'RO':\n",
        "      slices = pe['Município'][i].split(' ')\n",
        "      for k in range(len(slices)):\n",
        "        if \"D'\" in slices[k]:\n",
        "          if k != len(slices)-1:\n",
        "            subslices = slices[k].split(\"'\")\n",
        "            municip += \"D'\" + subslices[1] + ' '\n",
        "          else:\n",
        "            subslices = slices[k].split(\"'\")\n",
        "            municip += \"D'\" + subslices[1]\n",
        "        elif slices[k] == 'De' or slices[k] == 'Do' or slices[k] == 'Da' or slices[k] == 'Dos' or slices[k] == 'Das' or slices[k] == 'Del':\n",
        "            name = slices[k].lower()\n",
        "            municip += name + ' '\n",
        "        else:\n",
        "          if k != len(slices)-1:\n",
        "            municip += slices[k] + ' '\n",
        "          else:\n",
        "            municip += slices[k]\n",
        "      pe['Município'][i] = municip\n",
        "    elif '-' in pe['Município'][i]:\n",
        "      slices = pe['Município'][i].split(' ')\n",
        "      for k in range(len(slices)):\n",
        "        if \"-\" in slices[k]:\n",
        "          if k != len(slices)-1:\n",
        "            subslices = slices[k].split(\"-\")\n",
        "            municip += subslices[0][0] + subslices[0][1:].lower() + '-' + subslices[1][0] + subslices[1][1:].lower() + ' '\n",
        "          else:\n",
        "            subslices = slices[k].split(\"-\")\n",
        "            municip += subslices[0][0] + subslices[0][1:].lower() + '-' + subslices[1][0] + subslices[1][1:].lower()\n",
        "        elif slices[k] == 'De' or slices[k] == 'Do' or slices[k] == 'Da' or slices[k] == 'Dos' or slices[k] == 'Das' or slices[k] == 'Del':\n",
        "            name = slices[k].lower()\n",
        "            municip += name + ' '\n",
        "        else:\n",
        "          if k != len(slices)-1:\n",
        "            municip += slices[k] + ' '\n",
        "          else:\n",
        "            municip += slices[k]\n",
        "      pe['Município'][i] = municip\n",
        "    else:\n",
        "      n = pe['Município'][i].split(' ')\n",
        "      for j in range(len(n)):\n",
        "        if j < len(n)-1:\n",
        "          if n[j] == 'De' or n[j] == 'Do' or n[j] == 'Da' or n[j] == 'Dos' or n[j] == 'Das' or n[j] == 'Del' or n[j] == 'No' or n[j] == 'Na':\n",
        "            name = n[j].lower()\n",
        "            municip += name + ' '\n",
        "          else:\n",
        "            name = n[j][1:].lower()\n",
        "            municip += n[j][0] + name + ' '\n",
        "        else:\n",
        "          name = n[j][1:].lower()\n",
        "          municip += n[j][0] + name\n",
        "    pe['Município'][i] = municip\n",
        "  \n",
        "  pops = []\n",
        "\n",
        "  for i in range(len(pe)):\n",
        "    pops.append(pe_pops.loc[pe_pops['Município [-]'] == pe['Município'][i]]['População estimada - pessoas [2021]'].values[0])\n",
        "\n",
        "  pe['Populacao'] = pops\n",
        "\n",
        "  for i in range(len(pe['2ª Dose D2'])):\n",
        "    try:\n",
        "      if len(pe['2ª Dose D2'][i].split('.')) == 2:\n",
        "        pe['2ª Dose D2'][i] = int(pe['2ª Dose D2'][i].split('.')[0]+pe['2ª Dose D2'][i].split('.')[1])\n",
        "      elif len(pe['2ª Dose D2'][i].split('.')) == 3:\n",
        "        pe['2ª Dose D2'][i] = int(pe['2ª Dose D2'][i].split('.')[0]+pe['2ª Dose D2'][i].split('.')[1]+pe['2ª Dose D2'][i].split('.')[2])\n",
        "    except:\n",
        "      pass\n",
        "    \n",
        "    if str(pe['Dose Única DU'][i]).split('.')[1] == '000' or str(pe['Dose Única DU'][i]).split('.')[1] == '0':\n",
        "      pe['Dose Única DU'][i] = int(str(pe['Dose Única DU'][i]).split('.')[0])\n",
        "    elif len(str(pe['Dose Única DU'][i]).split('.')[1]) > 8:\n",
        "      pe['Dose Única DU'][i] = int(str(pe['Dose Única DU'][i]).split('.')[0]+str(pe['Dose Única DU'][i]).split('.')[1][:3])\n",
        "    elif '9999999' in str(pe['Dose Única DU'][i]).split('.')[1]:\n",
        "      pe['Dose Única DU'][i] = int(str(pe['Dose Única DU'][i]).split('.')[0]+str(pe['Dose Única DU'][i]).split('.')[1][:3])\n",
        "    else:\n",
        "      pe['Dose Única DU'][i] = int(str(pe['Dose Única DU'][i]).split('.')[0]+str(pe['Dose Única DU'][i]).split('.')[1])\n",
        "\n",
        "  pe['2ª Dose D2'] = pe['2ª Dose D2'].astype('float')\n",
        "\n",
        "  pe_final = {}\n",
        "  muns = []\n",
        "  doses = []\n",
        "\n",
        "  for i in range(len(pe_pops)):\n",
        "    muns.append(pe_pops['Município [-]'][i])\n",
        "    pe_doses = pe.loc[pe['Município'] == pe_pops['Município [-]'][i]]\n",
        "    try:\n",
        "      doses.append(np.sum(pe_doses['2ª Dose D2'].values)+pe_doses.loc[pe_doses['Fabricante'] == 'JANSSEN']['Dose Única DU'].values[0])\n",
        "    except:\n",
        "      doses.append(np.sum(pe_doses['2ª Dose D2'].values))\n",
        "\n",
        "  pe_final['Municipio'] = muns\n",
        "  pe_final['Imunização completa'] = np.array(doses)\n",
        "  pe_final['Populacao'] = pe_pops['População estimada - pessoas [2021]']\n",
        "  pe_final['Cobertura vacinal'] = 100*pe_final['Imunização completa']/pe_final['Populacao']\n",
        "  pe_final['Cobertura vacinal norm'] = pe_final['Imunização completa']/pe_final['Populacao']\n",
        "\n",
        "  for i in range(len(pe_final['Cobertura vacinal norm'])):\n",
        "    if pe_final['Cobertura vacinal'][i] > 100:\n",
        "      pe_final['Cobertura vacinal'][i] = 100\n",
        "    if pe_final['Cobertura vacinal norm'][i] > 1:\n",
        "      pe_final['Cobertura vacinal norm'][i] = 1\n",
        "\n",
        "  pe_final = pd.DataFrame(pe_final)\n",
        "\n",
        "  # fig = plt.figure(figsize=(12,6))\n",
        "  # n,x,_ = plt.hist(pe_final['Cobertura vacinal norm'], bins=np.linspace(0,1,41), color = 'lightseagreen', edgecolor='black',\n",
        "  #                 alpha = 0.6)\n",
        "  # bin_centers = 0.5*(x[1:]+x[:-1])\n",
        "  # plt.plot(bin_centers,n, color = 'crimson', linestyle='dashed')\n",
        "  # plt.xlabel('Fração completamente imunizada', fontsize = 14)\n",
        "  # plt.ylabel('Quantidade de municipios', fontsize = 14)\n",
        "  # plt.xlim(0,1)\n",
        "  # fig.patch.set_alpha(1)\n",
        "  # for ax in fig.axes:\n",
        "  #     ax.patch.set_alpha(1)\n",
        "  # plt.savefig(f'Distribution_coverages_{state}.png', dpi = 300, bbox_inches = 'tight')\n",
        "  # plt.close()\n",
        "\n",
        "  if state == 'MG' or state == 'SC' or state == 'TO':\n",
        "    !unzip 'gdrive/MyDrive/Brasil/Malha_municipal/{state}_Municipios_2020.zip'\n",
        "  else:\n",
        "    !wget 'https://github.com/PedroHPCintra/COVID_Brasil/raw/main/Cobertura_municipios_SP%26RJ/{state}_Municipios_2020.zip'\n",
        "  !unzip '{state}_Municipios_2020.zip'\n",
        "  if state == 'SP':\n",
        "    shp_file = gpd.read_file(f'SP_Municipios_2020/{state}_Municipios_2020.shp')\n",
        "  else:\n",
        "    shp_file = gpd.read_file(f'{state}_Municipios_2020.shp')\n",
        "  shp_file.to_file(f'{state}_Municipios_2020.geojson',\n",
        "                  driver='GeoJSON')\n",
        "  pe_mun = f'{state}_Municipios_2020.geojson'\n",
        "  geo_json_data = json.load(open(pe_mun))\n",
        "\n",
        "  map = folium.Map(width='100%', height='100%', location = [-15.8420, -47.9428], zoom_start = 6)\n",
        "\n",
        "  map.choropleth(geo_data = geo_json_data, name = 'Cobertura vacinal completa', data = pe_final, columns = ['Municipio', 'Cobertura vacinal norm'],\n",
        "               key_on = 'feature.properties.NM_MUN', fill_color = 'YlGnBu', fill_opacity = 0.9, line_color = 'black',\n",
        "               line_opacity = 0.6,\n",
        "               show = False,\n",
        "               legend_name = f'Cobertura vacinal completa ({date})',\n",
        "               bins = [0,0.2,0.3,0.4,0.5,0.6,0.7,0.8,0.9,1])\n",
        "  \n",
        "  map.save(f'gdrive/MyDrive/COVID/Vaccination/Maps/vaccine_{state}_2_dose.html')\n",
        "\n",
        "  stds.append(np.var(pe_final['Cobertura vacinal']))\n",
        "  iqrs.append(st.iqr(pe_final['Cobertura vacinal'], rng = (25,75)))\n",
        "  if state != 'DF':\n",
        "    cis.append(st.iqr(pe_final['Cobertura vacinal'], rng = (2.5,97.5)))\n",
        "    normality.append(st.shapiro(pe_final['Cobertura vacinal'])[0])\n",
        "    norm_p.append(st.shapiro(pe_final['Cobertura vacinal'])[1])\n",
        "  else:\n",
        "    cis.append(st.iqr(pe_final['Cobertura vacinal'], rng = (2.5,97.5)))\n",
        "    normality.append(np.nan)\n",
        "    norm_p.append(np.nan)"
      ],
      "execution_count": 8,
      "outputs": [
        {
          "output_type": "stream",
          "name": "stderr",
          "text": [
            "\r  0%|          | 0/27 [00:00<?, ?it/s]"
          ]
        },
        {
          "output_type": "stream",
          "name": "stdout",
          "text": [
            "--2021-12-08 13:36:38--  https://github.com/PedroHPCintra/COVID_Brasil/raw/main/Cobertura_municipios_SP%26RJ/AC_Municipios_2020.zip\n",
            "Resolving github.com (github.com)... 140.82.112.3\n",
            "Connecting to github.com (github.com)|140.82.112.3|:443... connected.\n",
            "HTTP request sent, awaiting response... 302 Found\n",
            "Location: https://raw.githubusercontent.com/PedroHPCintra/COVID_Brasil/main/Cobertura_municipios_SP%26RJ/AC_Municipios_2020.zip [following]\n",
            "--2021-12-08 13:36:39--  https://raw.githubusercontent.com/PedroHPCintra/COVID_Brasil/main/Cobertura_municipios_SP%26RJ/AC_Municipios_2020.zip\n",
            "Resolving raw.githubusercontent.com (raw.githubusercontent.com)... 185.199.110.133, 185.199.109.133, 185.199.108.133, ...\n",
            "Connecting to raw.githubusercontent.com (raw.githubusercontent.com)|185.199.110.133|:443... connected.\n",
            "HTTP request sent, awaiting response... 200 OK\n",
            "Length: 1683179 (1.6M) [application/zip]\n",
            "Saving to: ‘AC_Municipios_2020.zip’\n",
            "\n",
            "AC_Municipios_2020. 100%[===================>]   1.60M  --.-KB/s    in 0.05s   \n",
            "\n",
            "2021-12-08 13:36:39 (35.2 MB/s) - ‘AC_Municipios_2020.zip’ saved [1683179/1683179]\n",
            "\n",
            "Archive:  AC_Municipios_2020.zip\n",
            "  inflating: AC_Municipios_2020.cpg  \n",
            "  inflating: AC_Municipios_2020.dbf  \n",
            "  inflating: AC_Municipios_2020.prj  \n",
            "  inflating: AC_Municipios_2020.shp  \n",
            "  inflating: AC_Municipios_2020.shx  \n"
          ]
        },
        {
          "output_type": "stream",
          "name": "stderr",
          "text": [
            "\r  4%|▎         | 1/27 [00:04<02:02,  4.70s/it]"
          ]
        },
        {
          "output_type": "stream",
          "name": "stdout",
          "text": [
            "--2021-12-08 13:36:43--  https://github.com/PedroHPCintra/COVID_Brasil/raw/main/Cobertura_municipios_SP%26RJ/AL_Municipios_2020.zip\n",
            "Resolving github.com (github.com)... 140.82.113.3\n",
            "Connecting to github.com (github.com)|140.82.113.3|:443... connected.\n",
            "HTTP request sent, awaiting response... 302 Found\n",
            "Location: https://raw.githubusercontent.com/PedroHPCintra/COVID_Brasil/main/Cobertura_municipios_SP%26RJ/AL_Municipios_2020.zip [following]\n",
            "--2021-12-08 13:36:44--  https://raw.githubusercontent.com/PedroHPCintra/COVID_Brasil/main/Cobertura_municipios_SP%26RJ/AL_Municipios_2020.zip\n",
            "Resolving raw.githubusercontent.com (raw.githubusercontent.com)... 185.199.110.133, 185.199.109.133, 185.199.108.133, ...\n",
            "Connecting to raw.githubusercontent.com (raw.githubusercontent.com)|185.199.110.133|:443... connected.\n",
            "HTTP request sent, awaiting response... 200 OK\n",
            "Length: 1751724 (1.7M) [application/zip]\n",
            "Saving to: ‘AL_Municipios_2020.zip’\n",
            "\n",
            "AL_Municipios_2020. 100%[===================>]   1.67M  --.-KB/s    in 0.04s   \n",
            "\n",
            "2021-12-08 13:36:44 (40.6 MB/s) - ‘AL_Municipios_2020.zip’ saved [1751724/1751724]\n",
            "\n",
            "Archive:  AL_Municipios_2020.zip\n",
            "  inflating: AL_Municipios_2020.cpg  \n",
            "  inflating: AL_Municipios_2020.dbf  \n",
            "  inflating: AL_Municipios_2020.prj  \n",
            "  inflating: AL_Municipios_2020.shp  \n",
            "  inflating: AL_Municipios_2020.shx  \n"
          ]
        },
        {
          "output_type": "stream",
          "name": "stderr",
          "text": [
            "\r  7%|▋         | 2/27 [00:09<01:53,  4.55s/it]"
          ]
        },
        {
          "output_type": "stream",
          "name": "stdout",
          "text": [
            "--2021-12-08 13:36:47--  https://github.com/PedroHPCintra/COVID_Brasil/raw/main/Cobertura_municipios_SP%26RJ/AM_Municipios_2020.zip\n",
            "Resolving github.com (github.com)... 140.82.113.3\n",
            "Connecting to github.com (github.com)|140.82.113.3|:443... connected.\n",
            "HTTP request sent, awaiting response... 302 Found\n",
            "Location: https://raw.githubusercontent.com/PedroHPCintra/COVID_Brasil/main/Cobertura_municipios_SP%26RJ/AM_Municipios_2020.zip [following]\n",
            "--2021-12-08 13:36:48--  https://raw.githubusercontent.com/PedroHPCintra/COVID_Brasil/main/Cobertura_municipios_SP%26RJ/AM_Municipios_2020.zip\n",
            "Resolving raw.githubusercontent.com (raw.githubusercontent.com)... 185.199.108.133, 185.199.109.133, 185.199.110.133, ...\n",
            "Connecting to raw.githubusercontent.com (raw.githubusercontent.com)|185.199.108.133|:443... connected.\n",
            "HTTP request sent, awaiting response... 200 OK\n",
            "Length: 8953561 (8.5M) [application/zip]\n",
            "Saving to: ‘AM_Municipios_2020.zip’\n",
            "\n",
            "AM_Municipios_2020. 100%[===================>]   8.54M  --.-KB/s    in 0.07s   \n",
            "\n",
            "2021-12-08 13:36:48 (115 MB/s) - ‘AM_Municipios_2020.zip’ saved [8953561/8953561]\n",
            "\n",
            "Archive:  AM_Municipios_2020.zip\n",
            "  inflating: AM_Municipios_2020.cpg  \n",
            "  inflating: AM_Municipios_2020.dbf  \n",
            "  inflating: AM_Municipios_2020.prj  \n",
            "  inflating: AM_Municipios_2020.shp  \n",
            "  inflating: AM_Municipios_2020.shx  \n"
          ]
        },
        {
          "output_type": "stream",
          "name": "stderr",
          "text": [
            "\r 11%|█         | 3/27 [00:21<03:16,  8.18s/it]"
          ]
        },
        {
          "output_type": "stream",
          "name": "stdout",
          "text": [
            "--2021-12-08 13:36:59--  https://github.com/PedroHPCintra/COVID_Brasil/raw/main/Cobertura_municipios_SP%26RJ/AP_Municipios_2020.zip\n",
            "Resolving github.com (github.com)... 140.82.113.3\n",
            "Connecting to github.com (github.com)|140.82.113.3|:443... connected.\n",
            "HTTP request sent, awaiting response... 302 Found\n",
            "Location: https://raw.githubusercontent.com/PedroHPCintra/COVID_Brasil/main/Cobertura_municipios_SP%26RJ/AP_Municipios_2020.zip [following]\n",
            "--2021-12-08 13:37:00--  https://raw.githubusercontent.com/PedroHPCintra/COVID_Brasil/main/Cobertura_municipios_SP%26RJ/AP_Municipios_2020.zip\n",
            "Resolving raw.githubusercontent.com (raw.githubusercontent.com)... 185.199.111.133, 185.199.109.133, 185.199.108.133, ...\n",
            "Connecting to raw.githubusercontent.com (raw.githubusercontent.com)|185.199.111.133|:443... connected.\n",
            "HTTP request sent, awaiting response... 200 OK\n",
            "Length: 979992 (957K) [application/zip]\n",
            "Saving to: ‘AP_Municipios_2020.zip’\n",
            "\n",
            "AP_Municipios_2020. 100%[===================>] 957.02K  --.-KB/s    in 0.03s   \n",
            "\n",
            "2021-12-08 13:37:00 (30.7 MB/s) - ‘AP_Municipios_2020.zip’ saved [979992/979992]\n",
            "\n",
            "Archive:  AP_Municipios_2020.zip\n",
            "  inflating: AP_Municipios_2020.cpg  \n",
            "  inflating: AP_Municipios_2020.dbf  \n",
            "  inflating: AP_Municipios_2020.prj  \n",
            "  inflating: AP_Municipios_2020.shp  \n",
            "  inflating: AP_Municipios_2020.shx  \n"
          ]
        },
        {
          "output_type": "stream",
          "name": "stderr",
          "text": [
            "\r 15%|█▍        | 4/27 [00:24<02:18,  6.02s/it]"
          ]
        },
        {
          "output_type": "stream",
          "name": "stdout",
          "text": [
            "--2021-12-08 13:37:05--  https://github.com/PedroHPCintra/COVID_Brasil/raw/main/Cobertura_municipios_SP%26RJ/BA_Municipios_2020.zip\n",
            "Resolving github.com (github.com)... 192.30.255.113\n",
            "Connecting to github.com (github.com)|192.30.255.113|:443... connected.\n",
            "HTTP request sent, awaiting response... 302 Found\n",
            "Location: https://raw.githubusercontent.com/PedroHPCintra/COVID_Brasil/main/Cobertura_municipios_SP%26RJ/BA_Municipios_2020.zip [following]\n",
            "--2021-12-08 13:37:05--  https://raw.githubusercontent.com/PedroHPCintra/COVID_Brasil/main/Cobertura_municipios_SP%26RJ/BA_Municipios_2020.zip\n",
            "Resolving raw.githubusercontent.com (raw.githubusercontent.com)... 185.199.111.133, 185.199.108.133, 185.199.109.133, ...\n",
            "Connecting to raw.githubusercontent.com (raw.githubusercontent.com)|185.199.111.133|:443... connected.\n",
            "HTTP request sent, awaiting response... 200 OK\n",
            "Length: 13724619 (13M) [application/zip]\n",
            "Saving to: ‘BA_Municipios_2020.zip’\n",
            "\n",
            "BA_Municipios_2020. 100%[===================>]  13.09M  --.-KB/s    in 0.1s    \n",
            "\n",
            "2021-12-08 13:37:06 (123 MB/s) - ‘BA_Municipios_2020.zip’ saved [13724619/13724619]\n",
            "\n",
            "Archive:  BA_Municipios_2020.zip\n",
            "  inflating: BA_Municipios_2020.cpg  \n",
            "  inflating: BA_Municipios_2020.dbf  \n",
            "  inflating: BA_Municipios_2020.prj  \n",
            "  inflating: BA_Municipios_2020.shp  \n",
            "  inflating: BA_Municipios_2020.shx  \n"
          ]
        },
        {
          "output_type": "stream",
          "name": "stderr",
          "text": [
            "\r 19%|█▊        | 5/27 [00:46<04:17, 11.68s/it]"
          ]
        },
        {
          "output_type": "stream",
          "name": "stdout",
          "text": [
            "--2021-12-08 13:37:25--  https://github.com/PedroHPCintra/COVID_Brasil/raw/main/Cobertura_municipios_SP%26RJ/CE_Municipios_2020.zip\n",
            "Resolving github.com (github.com)... 140.82.113.4\n",
            "Connecting to github.com (github.com)|140.82.113.4|:443... connected.\n",
            "HTTP request sent, awaiting response... 302 Found\n",
            "Location: https://raw.githubusercontent.com/PedroHPCintra/COVID_Brasil/main/Cobertura_municipios_SP%26RJ/CE_Municipios_2020.zip [following]\n",
            "--2021-12-08 13:37:26--  https://raw.githubusercontent.com/PedroHPCintra/COVID_Brasil/main/Cobertura_municipios_SP%26RJ/CE_Municipios_2020.zip\n",
            "Resolving raw.githubusercontent.com (raw.githubusercontent.com)... 185.199.109.133, 185.199.108.133, 185.199.111.133, ...\n",
            "Connecting to raw.githubusercontent.com (raw.githubusercontent.com)|185.199.109.133|:443... connected.\n",
            "HTTP request sent, awaiting response... 200 OK\n",
            "Length: 3427861 (3.3M) [application/zip]\n",
            "Saving to: ‘CE_Municipios_2020.zip’\n",
            "\n",
            "CE_Municipios_2020. 100%[===================>]   3.27M  --.-KB/s    in 0.05s   \n",
            "\n",
            "2021-12-08 13:37:26 (60.9 MB/s) - ‘CE_Municipios_2020.zip’ saved [3427861/3427861]\n",
            "\n",
            "Archive:  CE_Municipios_2020.zip\n",
            "  inflating: CE_Municipios_2020.cpg  \n",
            "  inflating: CE_Municipios_2020.dbf  \n",
            "  inflating: CE_Municipios_2020.prj  \n",
            "  inflating: CE_Municipios_2020.shp  \n",
            "  inflating: CE_Municipios_2020.shx  \n"
          ]
        },
        {
          "output_type": "stream",
          "name": "stderr",
          "text": [
            "\r 22%|██▏       | 6/27 [00:52<03:30, 10.01s/it]"
          ]
        },
        {
          "output_type": "stream",
          "name": "stdout",
          "text": [
            "--2021-12-08 13:37:30--  https://github.com/PedroHPCintra/COVID_Brasil/raw/main/Cobertura_municipios_SP%26RJ/DF_Municipios_2020.zip\n",
            "Resolving github.com (github.com)... 140.82.112.4\n",
            "Connecting to github.com (github.com)|140.82.112.4|:443... connected.\n",
            "HTTP request sent, awaiting response... 302 Found\n",
            "Location: https://raw.githubusercontent.com/PedroHPCintra/COVID_Brasil/main/Cobertura_municipios_SP%26RJ/DF_Municipios_2020.zip [following]\n",
            "--2021-12-08 13:37:31--  https://raw.githubusercontent.com/PedroHPCintra/COVID_Brasil/main/Cobertura_municipios_SP%26RJ/DF_Municipios_2020.zip\n",
            "Resolving raw.githubusercontent.com (raw.githubusercontent.com)... 185.199.108.133, 185.199.109.133, 185.199.110.133, ...\n",
            "Connecting to raw.githubusercontent.com (raw.githubusercontent.com)|185.199.108.133|:443... connected.\n",
            "HTTP request sent, awaiting response... 200 OK\n",
            "Length: 121575 (119K) [application/zip]\n",
            "Saving to: ‘DF_Municipios_2020.zip’\n",
            "\n",
            "DF_Municipios_2020. 100%[===================>] 118.73K  --.-KB/s    in 0.01s   \n",
            "\n",
            "2021-12-08 13:37:31 (8.09 MB/s) - ‘DF_Municipios_2020.zip’ saved [121575/121575]\n",
            "\n",
            "Archive:  DF_Municipios_2020.zip\n",
            "  inflating: DF_Municipios_2020.cpg  \n",
            "  inflating: DF_Municipios_2020.dbf  \n",
            "  inflating: DF_Municipios_2020.prj  \n",
            "  inflating: DF_Municipios_2020.shp  \n",
            "  inflating: DF_Municipios_2020.shx  \n"
          ]
        },
        {
          "output_type": "stream",
          "name": "stderr",
          "text": [
            "\r 26%|██▌       | 7/27 [00:54<02:23,  7.18s/it]"
          ]
        },
        {
          "output_type": "stream",
          "name": "stdout",
          "text": [
            "--2021-12-08 13:37:32--  https://github.com/PedroHPCintra/COVID_Brasil/raw/main/Cobertura_municipios_SP%26RJ/ES_Municipios_2020.zip\n",
            "Resolving github.com (github.com)... 140.82.114.4\n",
            "Connecting to github.com (github.com)|140.82.114.4|:443... connected.\n",
            "HTTP request sent, awaiting response... 302 Found\n",
            "Location: https://raw.githubusercontent.com/PedroHPCintra/COVID_Brasil/main/Cobertura_municipios_SP%26RJ/ES_Municipios_2020.zip [following]\n",
            "--2021-12-08 13:37:33--  https://raw.githubusercontent.com/PedroHPCintra/COVID_Brasil/main/Cobertura_municipios_SP%26RJ/ES_Municipios_2020.zip\n",
            "Resolving raw.githubusercontent.com (raw.githubusercontent.com)... 185.199.109.133, 185.199.108.133, 185.199.111.133, ...\n",
            "Connecting to raw.githubusercontent.com (raw.githubusercontent.com)|185.199.109.133|:443... connected.\n",
            "HTTP request sent, awaiting response... 200 OK\n",
            "Length: 3428115 (3.3M) [application/zip]\n",
            "Saving to: ‘ES_Municipios_2020.zip’\n",
            "\n",
            "ES_Municipios_2020. 100%[===================>]   3.27M  --.-KB/s    in 0.04s   \n",
            "\n",
            "2021-12-08 13:37:34 (73.9 MB/s) - ‘ES_Municipios_2020.zip’ saved [3428115/3428115]\n",
            "\n",
            "Archive:  ES_Municipios_2020.zip\n",
            "  inflating: ES_Municipios_2020.cpg  \n",
            "  inflating: ES_Municipios_2020.dbf  \n",
            "  inflating: ES_Municipios_2020.prj  \n",
            "  inflating: ES_Municipios_2020.shp  \n",
            "  inflating: ES_Municipios_2020.shx  \n"
          ]
        },
        {
          "output_type": "stream",
          "name": "stderr",
          "text": [
            "\r 30%|██▉       | 8/27 [01:01<02:14,  7.09s/it]"
          ]
        },
        {
          "output_type": "stream",
          "name": "stdout",
          "text": [
            "--2021-12-08 13:37:40--  https://github.com/PedroHPCintra/COVID_Brasil/raw/main/Cobertura_municipios_SP%26RJ/GO_Municipios_2020.zip\n",
            "Resolving github.com (github.com)... 140.82.114.4\n",
            "Connecting to github.com (github.com)|140.82.114.4|:443... connected.\n",
            "HTTP request sent, awaiting response... 302 Found\n",
            "Location: https://raw.githubusercontent.com/PedroHPCintra/COVID_Brasil/main/Cobertura_municipios_SP%26RJ/GO_Municipios_2020.zip [following]\n",
            "--2021-12-08 13:37:41--  https://raw.githubusercontent.com/PedroHPCintra/COVID_Brasil/main/Cobertura_municipios_SP%26RJ/GO_Municipios_2020.zip\n",
            "Resolving raw.githubusercontent.com (raw.githubusercontent.com)... 185.199.108.133, 185.199.109.133, 185.199.110.133, ...\n",
            "Connecting to raw.githubusercontent.com (raw.githubusercontent.com)|185.199.108.133|:443... connected.\n",
            "HTTP request sent, awaiting response... 200 OK\n",
            "Length: 5112674 (4.9M) [application/zip]\n",
            "Saving to: ‘GO_Municipios_2020.zip’\n",
            "\n",
            "GO_Municipios_2020. 100%[===================>]   4.88M  --.-KB/s    in 0.07s   \n",
            "\n",
            "2021-12-08 13:37:41 (72.5 MB/s) - ‘GO_Municipios_2020.zip’ saved [5112674/5112674]\n",
            "\n",
            "Archive:  GO_Municipios_2020.zip\n",
            "  inflating: GO_Municipios_2020.cpg  \n",
            "  inflating: GO_Municipios_2020.dbf  \n",
            "  inflating: GO_Municipios_2020.prj  \n",
            "  inflating: GO_Municipios_2020.shp  \n",
            "  inflating: GO_Municipios_2020.shx  \n"
          ]
        },
        {
          "output_type": "stream",
          "name": "stderr",
          "text": [
            "\r 33%|███▎      | 9/27 [01:10<02:20,  7.81s/it]"
          ]
        },
        {
          "output_type": "stream",
          "name": "stdout",
          "text": [
            "--2021-12-08 13:37:50--  https://github.com/PedroHPCintra/COVID_Brasil/raw/main/Cobertura_municipios_SP%26RJ/MA_Municipios_2020.zip\n",
            "Resolving github.com (github.com)... 140.82.113.3\n",
            "Connecting to github.com (github.com)|140.82.113.3|:443... connected.\n",
            "HTTP request sent, awaiting response... 302 Found\n",
            "Location: https://raw.githubusercontent.com/PedroHPCintra/COVID_Brasil/main/Cobertura_municipios_SP%26RJ/MA_Municipios_2020.zip [following]\n",
            "--2021-12-08 13:37:50--  https://raw.githubusercontent.com/PedroHPCintra/COVID_Brasil/main/Cobertura_municipios_SP%26RJ/MA_Municipios_2020.zip\n",
            "Resolving raw.githubusercontent.com (raw.githubusercontent.com)... 185.199.111.133, 185.199.109.133, 185.199.108.133, ...\n",
            "Connecting to raw.githubusercontent.com (raw.githubusercontent.com)|185.199.111.133|:443... connected.\n",
            "HTTP request sent, awaiting response... 200 OK\n",
            "Length: 5954229 (5.7M) [application/zip]\n",
            "Saving to: ‘MA_Municipios_2020.zip’\n",
            "\n",
            "MA_Municipios_2020. 100%[===================>]   5.68M  --.-KB/s    in 0.07s   \n",
            "\n",
            "2021-12-08 13:37:51 (86.3 MB/s) - ‘MA_Municipios_2020.zip’ saved [5954229/5954229]\n",
            "\n",
            "Archive:  MA_Municipios_2020.zip\n",
            "  inflating: MA_Municipios_2020.cpg  \n",
            "  inflating: MA_Municipios_2020.dbf  \n",
            "  inflating: MA_Municipios_2020.prj  \n",
            "  inflating: MA_Municipios_2020.shp  \n",
            "  inflating: MA_Municipios_2020.shx  \n"
          ]
        },
        {
          "output_type": "stream",
          "name": "stderr",
          "text": [
            "\r 37%|███▋      | 10/27 [01:20<02:23,  8.45s/it]"
          ]
        },
        {
          "output_type": "stream",
          "name": "stdout",
          "text": [
            "Archive:  gdrive/MyDrive/Brasil/Malha_municipal/MG_Municipios_2020.zip\n",
            "  inflating: MG_Municipios_2020.cpg  \n",
            "  inflating: MG_Municipios_2020.dbf  \n",
            "  inflating: MG_Municipios_2020.prj  \n",
            "  inflating: MG_Municipios_2020.shp  \n",
            "  inflating: MG_Municipios_2020.shx  \n",
            "unzip:  cannot find or open MG_Municipios_2020.zip, MG_Municipios_2020.zip.zip or MG_Municipios_2020.zip.ZIP.\n"
          ]
        },
        {
          "output_type": "stream",
          "name": "stderr",
          "text": [
            "\r 41%|████      | 11/27 [02:11<05:43, 21.46s/it]"
          ]
        },
        {
          "output_type": "stream",
          "name": "stdout",
          "text": [
            "--2021-12-08 13:38:50--  https://github.com/PedroHPCintra/COVID_Brasil/raw/main/Cobertura_municipios_SP%26RJ/MS_Municipios_2020.zip\n",
            "Resolving github.com (github.com)... 192.30.255.112\n",
            "Connecting to github.com (github.com)|192.30.255.112|:443... connected.\n",
            "HTTP request sent, awaiting response... 302 Found\n",
            "Location: https://raw.githubusercontent.com/PedroHPCintra/COVID_Brasil/main/Cobertura_municipios_SP%26RJ/MS_Municipios_2020.zip [following]\n",
            "--2021-12-08 13:38:52--  https://raw.githubusercontent.com/PedroHPCintra/COVID_Brasil/main/Cobertura_municipios_SP%26RJ/MS_Municipios_2020.zip\n",
            "Resolving raw.githubusercontent.com (raw.githubusercontent.com)... 185.199.108.133, 185.199.109.133, 185.199.110.133, ...\n",
            "Connecting to raw.githubusercontent.com (raw.githubusercontent.com)|185.199.108.133|:443... connected.\n",
            "HTTP request sent, awaiting response... 200 OK\n",
            "Length: 9020794 (8.6M) [application/zip]\n",
            "Saving to: ‘MS_Municipios_2020.zip’\n",
            "\n",
            "MS_Municipios_2020. 100%[===================>]   8.60M  --.-KB/s    in 0.07s   \n",
            "\n",
            "2021-12-08 13:38:52 (121 MB/s) - ‘MS_Municipios_2020.zip’ saved [9020794/9020794]\n",
            "\n",
            "Archive:  MS_Municipios_2020.zip\n",
            "  inflating: MS_Municipios_2020.cpg  \n",
            "  inflating: MS_Municipios_2020.dbf  \n",
            "  inflating: MS_Municipios_2020.prj  \n",
            "  inflating: MS_Municipios_2020.shp  \n",
            "  inflating: MS_Municipios_2020.shx  \n"
          ]
        },
        {
          "output_type": "stream",
          "name": "stderr",
          "text": [
            "\r 44%|████▍     | 12/27 [02:26<04:55, 19.69s/it]"
          ]
        },
        {
          "output_type": "stream",
          "name": "stdout",
          "text": [
            "--2021-12-08 13:39:06--  https://github.com/PedroHPCintra/COVID_Brasil/raw/main/Cobertura_municipios_SP%26RJ/MT_Municipios_2020.zip\n",
            "Resolving github.com (github.com)... 140.82.114.3\n",
            "Connecting to github.com (github.com)|140.82.114.3|:443... connected.\n",
            "HTTP request sent, awaiting response... 302 Found\n",
            "Location: https://raw.githubusercontent.com/PedroHPCintra/COVID_Brasil/main/Cobertura_municipios_SP%26RJ/MT_Municipios_2020.zip [following]\n",
            "--2021-12-08 13:39:06--  https://raw.githubusercontent.com/PedroHPCintra/COVID_Brasil/main/Cobertura_municipios_SP%26RJ/MT_Municipios_2020.zip\n",
            "Resolving raw.githubusercontent.com (raw.githubusercontent.com)... 185.199.108.133, 185.199.109.133, 185.199.110.133, ...\n",
            "Connecting to raw.githubusercontent.com (raw.githubusercontent.com)|185.199.108.133|:443... connected.\n",
            "HTTP request sent, awaiting response... 200 OK\n",
            "Length: 8832666 (8.4M) [application/zip]\n",
            "Saving to: ‘MT_Municipios_2020.zip’\n",
            "\n",
            "MT_Municipios_2020. 100%[===================>]   8.42M  --.-KB/s    in 0.08s   \n",
            "\n",
            "2021-12-08 13:39:07 (109 MB/s) - ‘MT_Municipios_2020.zip’ saved [8832666/8832666]\n",
            "\n",
            "Archive:  MT_Municipios_2020.zip\n",
            "  inflating: MT_Municipios_2020.cpg  \n",
            "  inflating: MT_Municipios_2020.dbf  \n",
            "  inflating: MT_Municipios_2020.prj  \n",
            "  inflating: MT_Municipios_2020.shp  \n",
            "  inflating: MT_Municipios_2020.shx  \n"
          ]
        },
        {
          "output_type": "stream",
          "name": "stderr",
          "text": [
            "\r 48%|████▊     | 13/27 [02:41<04:12, 18.06s/it]"
          ]
        },
        {
          "output_type": "stream",
          "name": "stdout",
          "text": [
            "--2021-12-08 13:39:20--  https://github.com/PedroHPCintra/COVID_Brasil/raw/main/Cobertura_municipios_SP%26RJ/PA_Municipios_2020.zip\n",
            "Resolving github.com (github.com)... 140.82.113.3\n",
            "Connecting to github.com (github.com)|140.82.113.3|:443... connected.\n",
            "HTTP request sent, awaiting response... 302 Found\n",
            "Location: https://raw.githubusercontent.com/PedroHPCintra/COVID_Brasil/main/Cobertura_municipios_SP%26RJ/PA_Municipios_2020.zip [following]\n",
            "--2021-12-08 13:39:20--  https://raw.githubusercontent.com/PedroHPCintra/COVID_Brasil/main/Cobertura_municipios_SP%26RJ/PA_Municipios_2020.zip\n",
            "Resolving raw.githubusercontent.com (raw.githubusercontent.com)... 185.199.108.133, 185.199.109.133, 185.199.110.133, ...\n",
            "Connecting to raw.githubusercontent.com (raw.githubusercontent.com)|185.199.108.133|:443... connected.\n",
            "HTTP request sent, awaiting response... 200 OK\n",
            "Length: 2393908 (2.3M) [application/zip]\n",
            "Saving to: ‘PA_Municipios_2020.zip’\n",
            "\n",
            "PA_Municipios_2020. 100%[===================>]   2.28M  --.-KB/s    in 0.04s   \n",
            "\n",
            "2021-12-08 13:39:21 (51.4 MB/s) - ‘PA_Municipios_2020.zip’ saved [2393908/2393908]\n",
            "\n",
            "Archive:  PA_Municipios_2020.zip\n",
            "  inflating: PA_Municipios_2020.cpg  \n",
            "  inflating: PA_Municipios_2020.dbf  \n",
            "  inflating: PA_Municipios_2020.prj  \n",
            "  inflating: PA_Municipios_2020.shp  \n",
            "  inflating: PA_Municipios_2020.shx  \n"
          ]
        },
        {
          "output_type": "stream",
          "name": "stderr",
          "text": [
            "\r 52%|█████▏    | 14/27 [02:46<03:03, 14.10s/it]"
          ]
        },
        {
          "output_type": "stream",
          "name": "stdout",
          "text": [
            "--2021-12-08 13:39:25--  https://github.com/PedroHPCintra/COVID_Brasil/raw/main/Cobertura_municipios_SP%26RJ/PB_Municipios_2020.zip\n",
            "Resolving github.com (github.com)... 140.82.113.4\n",
            "Connecting to github.com (github.com)|140.82.113.4|:443... connected.\n",
            "HTTP request sent, awaiting response... 302 Found\n",
            "Location: https://raw.githubusercontent.com/PedroHPCintra/COVID_Brasil/main/Cobertura_municipios_SP%26RJ/PB_Municipios_2020.zip [following]\n",
            "--2021-12-08 13:39:26--  https://raw.githubusercontent.com/PedroHPCintra/COVID_Brasil/main/Cobertura_municipios_SP%26RJ/PB_Municipios_2020.zip\n",
            "Resolving raw.githubusercontent.com (raw.githubusercontent.com)... 185.199.108.133, 185.199.109.133, 185.199.110.133, ...\n",
            "Connecting to raw.githubusercontent.com (raw.githubusercontent.com)|185.199.108.133|:443... connected.\n",
            "HTTP request sent, awaiting response... 200 OK\n",
            "Length: 2810296 (2.7M) [application/zip]\n",
            "Saving to: ‘PB_Municipios_2020.zip’\n",
            "\n",
            "PB_Municipios_2020. 100%[===================>]   2.68M  --.-KB/s    in 0.06s   \n",
            "\n",
            "2021-12-08 13:39:27 (47.8 MB/s) - ‘PB_Municipios_2020.zip’ saved [2810296/2810296]\n",
            "\n",
            "Archive:  PB_Municipios_2020.zip\n",
            "  inflating: PB_Municipios_2020.cpg  \n",
            "  inflating: PB_Municipios_2020.dbf  \n",
            "  inflating: PB_Municipios_2020.prj  \n",
            "  inflating: PB_Municipios_2020.shp  \n",
            "  inflating: PB_Municipios_2020.shx  \n"
          ]
        },
        {
          "output_type": "stream",
          "name": "stderr",
          "text": [
            "\r 56%|█████▌    | 15/27 [02:53<02:23, 11.95s/it]"
          ]
        },
        {
          "output_type": "stream",
          "name": "stdout",
          "text": [
            "--2021-12-08 13:39:32--  https://github.com/PedroHPCintra/COVID_Brasil/raw/main/Cobertura_municipios_SP%26RJ/PE_Municipios_2020.zip\n",
            "Resolving github.com (github.com)... 140.82.114.3\n",
            "Connecting to github.com (github.com)|140.82.114.3|:443... connected.\n",
            "HTTP request sent, awaiting response... 302 Found\n",
            "Location: https://raw.githubusercontent.com/PedroHPCintra/COVID_Brasil/main/Cobertura_municipios_SP%26RJ/PE_Municipios_2020.zip [following]\n",
            "--2021-12-08 13:39:33--  https://raw.githubusercontent.com/PedroHPCintra/COVID_Brasil/main/Cobertura_municipios_SP%26RJ/PE_Municipios_2020.zip\n",
            "Resolving raw.githubusercontent.com (raw.githubusercontent.com)... 185.199.110.133, 185.199.109.133, 185.199.108.133, ...\n",
            "Connecting to raw.githubusercontent.com (raw.githubusercontent.com)|185.199.110.133|:443... connected.\n",
            "HTTP request sent, awaiting response... 200 OK\n",
            "Length: 1434410 (1.4M) [application/zip]\n",
            "Saving to: ‘PE_Municipios_2020.zip’\n",
            "\n",
            "PE_Municipios_2020. 100%[===================>]   1.37M  --.-KB/s    in 0.04s   \n",
            "\n",
            "2021-12-08 13:39:33 (32.0 MB/s) - ‘PE_Municipios_2020.zip’ saved [1434410/1434410]\n",
            "\n",
            "Archive:  PE_Municipios_2020.zip\n",
            "  inflating: PE_Municipios_2020.cpg  \n",
            "  inflating: PE_Municipios_2020.dbf  \n",
            "  inflating: PE_Municipios_2020.prj  \n",
            "  inflating: PE_Municipios_2020.shp  \n",
            "  inflating: PE_Municipios_2020.shx  \n"
          ]
        },
        {
          "output_type": "stream",
          "name": "stderr",
          "text": [
            "\r 59%|█████▉    | 16/27 [02:57<01:47,  9.74s/it]"
          ]
        },
        {
          "output_type": "stream",
          "name": "stdout",
          "text": [
            "--2021-12-08 13:39:37--  https://github.com/PedroHPCintra/COVID_Brasil/raw/main/Cobertura_municipios_SP%26RJ/PI_Municipios_2020.zip\n",
            "Resolving github.com (github.com)... 140.82.113.4\n",
            "Connecting to github.com (github.com)|140.82.113.4|:443... connected.\n",
            "HTTP request sent, awaiting response... 302 Found\n",
            "Location: https://raw.githubusercontent.com/PedroHPCintra/COVID_Brasil/main/Cobertura_municipios_SP%26RJ/PI_Municipios_2020.zip [following]\n",
            "--2021-12-08 13:39:38--  https://raw.githubusercontent.com/PedroHPCintra/COVID_Brasil/main/Cobertura_municipios_SP%26RJ/PI_Municipios_2020.zip\n",
            "Resolving raw.githubusercontent.com (raw.githubusercontent.com)... 185.199.108.133, 185.199.109.133, 185.199.110.133, ...\n",
            "Connecting to raw.githubusercontent.com (raw.githubusercontent.com)|185.199.108.133|:443... connected.\n",
            "HTTP request sent, awaiting response... 200 OK\n",
            "Length: 1855599 (1.8M) [application/zip]\n",
            "Saving to: ‘PI_Municipios_2020.zip’\n",
            "\n",
            "PI_Municipios_2020. 100%[===================>]   1.77M  --.-KB/s    in 0.05s   \n",
            "\n",
            "2021-12-08 13:39:38 (37.8 MB/s) - ‘PI_Municipios_2020.zip’ saved [1855599/1855599]\n",
            "\n",
            "Archive:  PI_Municipios_2020.zip\n",
            "  inflating: PI_Municipios_2020.cpg  \n",
            "  inflating: PI_Municipios_2020.dbf  \n",
            "  inflating: PI_Municipios_2020.prj  \n",
            "  inflating: PI_Municipios_2020.shp  \n",
            "  inflating: PI_Municipios_2020.shx  \n"
          ]
        },
        {
          "output_type": "stream",
          "name": "stderr",
          "text": [
            "\r 63%|██████▎   | 17/27 [03:03<01:24,  8.44s/it]"
          ]
        },
        {
          "output_type": "stream",
          "name": "stdout",
          "text": [
            "--2021-12-08 13:39:44--  https://github.com/PedroHPCintra/COVID_Brasil/raw/main/Cobertura_municipios_SP%26RJ/PR_Municipios_2020.zip\n",
            "Resolving github.com (github.com)... 140.82.113.4\n",
            "Connecting to github.com (github.com)|140.82.113.4|:443... connected.\n",
            "HTTP request sent, awaiting response... 302 Found\n",
            "Location: https://raw.githubusercontent.com/PedroHPCintra/COVID_Brasil/main/Cobertura_municipios_SP%26RJ/PR_Municipios_2020.zip [following]\n",
            "--2021-12-08 13:39:44--  https://raw.githubusercontent.com/PedroHPCintra/COVID_Brasil/main/Cobertura_municipios_SP%26RJ/PR_Municipios_2020.zip\n",
            "Resolving raw.githubusercontent.com (raw.githubusercontent.com)... 185.199.109.133, 185.199.108.133, 185.199.111.133, ...\n",
            "Connecting to raw.githubusercontent.com (raw.githubusercontent.com)|185.199.109.133|:443... connected.\n",
            "HTTP request sent, awaiting response... 200 OK\n",
            "Length: 4025163 (3.8M) [application/zip]\n",
            "Saving to: ‘PR_Municipios_2020.zip’\n",
            "\n",
            "PR_Municipios_2020. 100%[===================>]   3.84M  --.-KB/s    in 0.05s   \n",
            "\n",
            "2021-12-08 13:39:45 (76.4 MB/s) - ‘PR_Municipios_2020.zip’ saved [4025163/4025163]\n",
            "\n",
            "Archive:  PR_Municipios_2020.zip\n",
            "  inflating: PR_Municipios_2020.cpg  \n",
            "  inflating: PR_Municipios_2020.dbf  \n",
            "  inflating: PR_Municipios_2020.prj  \n",
            "  inflating: PR_Municipios_2020.shp  \n",
            "  inflating: PR_Municipios_2020.shx  \n"
          ]
        },
        {
          "output_type": "stream",
          "name": "stderr",
          "text": [
            "\r 67%|██████▋   | 18/27 [03:12<01:18,  8.76s/it]"
          ]
        },
        {
          "output_type": "stream",
          "name": "stdout",
          "text": [
            "--2021-12-08 13:39:51--  https://github.com/PedroHPCintra/COVID_Brasil/raw/main/Cobertura_municipios_SP%26RJ/RJ_Municipios_2020.zip\n",
            "Resolving github.com (github.com)... 140.82.113.4\n",
            "Connecting to github.com (github.com)|140.82.113.4|:443... connected.\n",
            "HTTP request sent, awaiting response... 302 Found\n",
            "Location: https://raw.githubusercontent.com/PedroHPCintra/COVID_Brasil/main/Cobertura_municipios_SP%26RJ/RJ_Municipios_2020.zip [following]\n",
            "--2021-12-08 13:39:52--  https://raw.githubusercontent.com/PedroHPCintra/COVID_Brasil/main/Cobertura_municipios_SP%26RJ/RJ_Municipios_2020.zip\n",
            "Resolving raw.githubusercontent.com (raw.githubusercontent.com)... 185.199.108.133, 185.199.109.133, 185.199.110.133, ...\n",
            "Connecting to raw.githubusercontent.com (raw.githubusercontent.com)|185.199.108.133|:443... connected.\n",
            "HTTP request sent, awaiting response... 200 OK\n",
            "Length: 5305814 (5.1M) [application/zip]\n",
            "Saving to: ‘RJ_Municipios_2020.zip’\n",
            "\n",
            "RJ_Municipios_2020. 100%[===================>]   5.06M  --.-KB/s    in 0.06s   \n",
            "\n",
            "2021-12-08 13:39:52 (88.5 MB/s) - ‘RJ_Municipios_2020.zip’ saved [5305814/5305814]\n",
            "\n",
            "Archive:  RJ_Municipios_2020.zip\n",
            "  inflating: RJ_Municipios_2020.cpg  \n",
            "  inflating: RJ_Municipios_2020.dbf  \n",
            "  inflating: RJ_Municipios_2020.prj  \n",
            "  inflating: RJ_Municipios_2020.shp  \n",
            "  inflating: RJ_Municipios_2020.shx  \n"
          ]
        },
        {
          "output_type": "stream",
          "name": "stderr",
          "text": [
            "\r 70%|███████   | 19/27 [03:21<01:11,  8.89s/it]"
          ]
        },
        {
          "output_type": "stream",
          "name": "stdout",
          "text": [
            "--2021-12-08 13:40:01--  https://github.com/PedroHPCintra/COVID_Brasil/raw/main/Cobertura_municipios_SP%26RJ/RN_Municipios_2020.zip\n",
            "Resolving github.com (github.com)... 140.82.113.3\n",
            "Connecting to github.com (github.com)|140.82.113.3|:443... connected.\n",
            "HTTP request sent, awaiting response... 302 Found\n",
            "Location: https://raw.githubusercontent.com/PedroHPCintra/COVID_Brasil/main/Cobertura_municipios_SP%26RJ/RN_Municipios_2020.zip [following]\n",
            "--2021-12-08 13:40:01--  https://raw.githubusercontent.com/PedroHPCintra/COVID_Brasil/main/Cobertura_municipios_SP%26RJ/RN_Municipios_2020.zip\n",
            "Resolving raw.githubusercontent.com (raw.githubusercontent.com)... 185.199.109.133, 185.199.108.133, 185.199.111.133, ...\n",
            "Connecting to raw.githubusercontent.com (raw.githubusercontent.com)|185.199.109.133|:443... connected.\n",
            "HTTP request sent, awaiting response... 200 OK\n",
            "Length: 397822 (388K) [application/zip]\n",
            "Saving to: ‘RN_Municipios_2020.zip’\n",
            "\n",
            "RN_Municipios_2020. 100%[===================>] 388.50K  --.-KB/s    in 0.02s   \n",
            "\n",
            "2021-12-08 13:40:01 (18.0 MB/s) - ‘RN_Municipios_2020.zip’ saved [397822/397822]\n",
            "\n",
            "Archive:  RN_Municipios_2020.zip\n",
            "  inflating: RN_Municipios_2020.cpg  \n",
            "  inflating: RN_Municipios_2020.dbf  \n",
            "  inflating: RN_Municipios_2020.prj  \n",
            "  inflating: RN_Municipios_2020.shp  \n",
            "  inflating: RN_Municipios_2020.shx  \n"
          ]
        },
        {
          "output_type": "stream",
          "name": "stderr",
          "text": [
            "\r 74%|███████▍  | 20/27 [03:24<00:49,  7.10s/it]"
          ]
        },
        {
          "output_type": "stream",
          "name": "stdout",
          "text": [
            "--2021-12-08 13:40:03--  https://github.com/PedroHPCintra/COVID_Brasil/raw/main/Cobertura_municipios_SP%26RJ/RO_Municipios_2020.zip\n",
            "Resolving github.com (github.com)... 140.82.113.4\n",
            "Connecting to github.com (github.com)|140.82.113.4|:443... connected.\n",
            "HTTP request sent, awaiting response... 302 Found\n",
            "Location: https://raw.githubusercontent.com/PedroHPCintra/COVID_Brasil/main/Cobertura_municipios_SP%26RJ/RO_Municipios_2020.zip [following]\n",
            "--2021-12-08 13:40:03--  https://raw.githubusercontent.com/PedroHPCintra/COVID_Brasil/main/Cobertura_municipios_SP%26RJ/RO_Municipios_2020.zip\n",
            "Resolving raw.githubusercontent.com (raw.githubusercontent.com)... 185.199.109.133, 185.199.108.133, 185.199.111.133, ...\n",
            "Connecting to raw.githubusercontent.com (raw.githubusercontent.com)|185.199.109.133|:443... connected.\n",
            "HTTP request sent, awaiting response... 200 OK\n",
            "Length: 749115 (732K) [application/zip]\n",
            "Saving to: ‘RO_Municipios_2020.zip’\n",
            "\n",
            "RO_Municipios_2020. 100%[===================>] 731.56K  --.-KB/s    in 0.03s   \n",
            "\n",
            "2021-12-08 13:40:04 (23.1 MB/s) - ‘RO_Municipios_2020.zip’ saved [749115/749115]\n",
            "\n",
            "Archive:  RO_Municipios_2020.zip\n",
            "  inflating: RO_Municipios_2020.cpg  \n",
            "  inflating: RO_Municipios_2020.dbf  \n",
            "  inflating: RO_Municipios_2020.prj  \n",
            "  inflating: RO_Municipios_2020.shp  \n",
            "  inflating: RO_Municipios_2020.shx  \n"
          ]
        },
        {
          "output_type": "stream",
          "name": "stderr",
          "text": [
            "\r 78%|███████▊  | 21/27 [03:27<00:35,  5.90s/it]"
          ]
        },
        {
          "output_type": "stream",
          "name": "stdout",
          "text": [
            "--2021-12-08 13:40:06--  https://github.com/PedroHPCintra/COVID_Brasil/raw/main/Cobertura_municipios_SP%26RJ/RR_Municipios_2020.zip\n",
            "Resolving github.com (github.com)... 140.82.113.4\n",
            "Connecting to github.com (github.com)|140.82.113.4|:443... connected.\n",
            "HTTP request sent, awaiting response... 302 Found\n",
            "Location: https://raw.githubusercontent.com/PedroHPCintra/COVID_Brasil/main/Cobertura_municipios_SP%26RJ/RR_Municipios_2020.zip [following]\n",
            "--2021-12-08 13:40:06--  https://raw.githubusercontent.com/PedroHPCintra/COVID_Brasil/main/Cobertura_municipios_SP%26RJ/RR_Municipios_2020.zip\n",
            "Resolving raw.githubusercontent.com (raw.githubusercontent.com)... 185.199.108.133, 185.199.109.133, 185.199.110.133, ...\n",
            "Connecting to raw.githubusercontent.com (raw.githubusercontent.com)|185.199.108.133|:443... connected.\n",
            "HTTP request sent, awaiting response... 200 OK\n",
            "Length: 559361 (546K) [application/zip]\n",
            "Saving to: ‘RR_Municipios_2020.zip’\n",
            "\n",
            "RR_Municipios_2020. 100%[===================>] 546.25K  --.-KB/s    in 0.03s   \n",
            "\n",
            "2021-12-08 13:40:07 (18.2 MB/s) - ‘RR_Municipios_2020.zip’ saved [559361/559361]\n",
            "\n",
            "Archive:  RR_Municipios_2020.zip\n",
            "  inflating: RR_Municipios_2020.cpg  \n",
            "  inflating: RR_Municipios_2020.dbf  \n",
            "  inflating: RR_Municipios_2020.prj  \n",
            "  inflating: RR_Municipios_2020.shp  \n",
            "  inflating: RR_Municipios_2020.shx  \n"
          ]
        },
        {
          "output_type": "stream",
          "name": "stderr",
          "text": [
            "\r 81%|████████▏ | 22/27 [03:30<00:24,  4.83s/it]"
          ]
        },
        {
          "output_type": "stream",
          "name": "stdout",
          "text": [
            "--2021-12-08 13:40:11--  https://github.com/PedroHPCintra/COVID_Brasil/raw/main/Cobertura_municipios_SP%26RJ/RS_Municipios_2020.zip\n",
            "Resolving github.com (github.com)... 140.82.113.4\n",
            "Connecting to github.com (github.com)|140.82.113.4|:443... connected.\n",
            "HTTP request sent, awaiting response... 302 Found\n",
            "Location: https://raw.githubusercontent.com/PedroHPCintra/COVID_Brasil/main/Cobertura_municipios_SP%26RJ/RS_Municipios_2020.zip [following]\n",
            "--2021-12-08 13:40:12--  https://raw.githubusercontent.com/PedroHPCintra/COVID_Brasil/main/Cobertura_municipios_SP%26RJ/RS_Municipios_2020.zip\n",
            "Resolving raw.githubusercontent.com (raw.githubusercontent.com)... 185.199.108.133, 185.199.109.133, 185.199.110.133, ...\n",
            "Connecting to raw.githubusercontent.com (raw.githubusercontent.com)|185.199.108.133|:443... connected.\n",
            "HTTP request sent, awaiting response... 200 OK\n",
            "Length: 7258238 (6.9M) [application/zip]\n",
            "Saving to: ‘RS_Municipios_2020.zip’\n",
            "\n",
            "RS_Municipios_2020. 100%[===================>]   6.92M  --.-KB/s    in 0.07s   \n",
            "\n",
            "2021-12-08 13:40:12 (94.1 MB/s) - ‘RS_Municipios_2020.zip’ saved [7258238/7258238]\n",
            "\n",
            "Archive:  RS_Municipios_2020.zip\n",
            "  inflating: RS_Municipios_2020.cpg  \n",
            "  inflating: RS_Municipios_2020.dbf  \n",
            "  inflating: RS_Municipios_2020.prj  \n",
            "  inflating: RS_Municipios_2020.shp  \n",
            "  inflating: RS_Municipios_2020.shx  \n"
          ]
        },
        {
          "output_type": "stream",
          "name": "stderr",
          "text": [
            "\r 85%|████████▌ | 23/27 [03:44<00:30,  7.58s/it]"
          ]
        },
        {
          "output_type": "stream",
          "name": "stdout",
          "text": [
            "Archive:  gdrive/MyDrive/Brasil/Malha_municipal/SC_Municipios_2020.zip\n",
            "  inflating: SC_Municipios_2020.cpg  \n",
            "  inflating: SC_Municipios_2020.dbf  \n",
            "  inflating: SC_Municipios_2020.prj  \n",
            "  inflating: SC_Municipios_2020.shp  \n",
            "  inflating: SC_Municipios_2020.shx  \n",
            "unzip:  cannot find or open SC_Municipios_2020.zip, SC_Municipios_2020.zip.zip or SC_Municipios_2020.zip.ZIP.\n"
          ]
        },
        {
          "output_type": "stream",
          "name": "stderr",
          "text": [
            "\r 89%|████████▉ | 24/27 [04:27<00:54, 18.32s/it]"
          ]
        },
        {
          "output_type": "stream",
          "name": "stdout",
          "text": [
            "--2021-12-08 13:41:06--  https://github.com/PedroHPCintra/COVID_Brasil/raw/main/Cobertura_municipios_SP%26RJ/SE_Municipios_2020.zip\n",
            "Resolving github.com (github.com)... 140.82.114.3\n",
            "Connecting to github.com (github.com)|140.82.114.3|:443... connected.\n",
            "HTTP request sent, awaiting response... 302 Found\n",
            "Location: https://raw.githubusercontent.com/PedroHPCintra/COVID_Brasil/main/Cobertura_municipios_SP%26RJ/SE_Municipios_2020.zip [following]\n",
            "--2021-12-08 13:41:06--  https://raw.githubusercontent.com/PedroHPCintra/COVID_Brasil/main/Cobertura_municipios_SP%26RJ/SE_Municipios_2020.zip\n",
            "Resolving raw.githubusercontent.com (raw.githubusercontent.com)... 185.199.109.133, 185.199.108.133, 185.199.111.133, ...\n",
            "Connecting to raw.githubusercontent.com (raw.githubusercontent.com)|185.199.109.133|:443... connected.\n",
            "HTTP request sent, awaiting response... 200 OK\n",
            "Length: 1472917 (1.4M) [application/zip]\n",
            "Saving to: ‘SE_Municipios_2020.zip’\n",
            "\n",
            "SE_Municipios_2020. 100%[===================>]   1.40M  --.-KB/s    in 0.04s   \n",
            "\n",
            "2021-12-08 13:41:07 (31.8 MB/s) - ‘SE_Municipios_2020.zip’ saved [1472917/1472917]\n",
            "\n",
            "Archive:  SE_Municipios_2020.zip\n",
            "  inflating: SE_Municipios_2020.cpg  \n",
            "  inflating: SE_Municipios_2020.dbf  \n",
            "  inflating: SE_Municipios_2020.prj  \n",
            "  inflating: SE_Municipios_2020.shp  \n",
            "  inflating: SE_Municipios_2020.shx  \n"
          ]
        },
        {
          "output_type": "stream",
          "name": "stderr",
          "text": [
            "\r 93%|█████████▎| 25/27 [04:32<00:28, 14.21s/it]"
          ]
        },
        {
          "output_type": "stream",
          "name": "stdout",
          "text": [
            "--2021-12-08 13:41:15--  https://github.com/PedroHPCintra/COVID_Brasil/raw/main/Cobertura_municipios_SP%26RJ/SP_Municipios_2020.zip\n",
            "Resolving github.com (github.com)... 140.82.113.3\n",
            "Connecting to github.com (github.com)|140.82.113.3|:443... connected.\n",
            "HTTP request sent, awaiting response... 302 Found\n",
            "Location: https://raw.githubusercontent.com/PedroHPCintra/COVID_Brasil/main/Cobertura_municipios_SP%26RJ/SP_Municipios_2020.zip [following]\n",
            "--2021-12-08 13:41:15--  https://raw.githubusercontent.com/PedroHPCintra/COVID_Brasil/main/Cobertura_municipios_SP%26RJ/SP_Municipios_2020.zip\n",
            "Resolving raw.githubusercontent.com (raw.githubusercontent.com)... 185.199.108.133, 185.199.109.133, 185.199.110.133, ...\n",
            "Connecting to raw.githubusercontent.com (raw.githubusercontent.com)|185.199.108.133|:443... connected.\n",
            "HTTP request sent, awaiting response... 200 OK\n",
            "Length: 18734553 (18M) [application/zip]\n",
            "Saving to: ‘SP_Municipios_2020.zip’\n",
            "\n",
            "SP_Municipios_2020. 100%[===================>]  17.87M  --.-KB/s    in 0.1s    \n",
            "\n",
            "2021-12-08 13:41:16 (152 MB/s) - ‘SP_Municipios_2020.zip’ saved [18734553/18734553]\n",
            "\n",
            "Archive:  SP_Municipios_2020.zip\n",
            "   creating: SP_Municipios_2020/\n",
            "  inflating: SP_Municipios_2020/SP_Municipios_2020.dbf  \n",
            "  inflating: SP_Municipios_2020/SP_Municipios_2020.prj  \n",
            "  inflating: SP_Municipios_2020/SP_Municipios_2020.shx  \n",
            "  inflating: SP_Municipios_2020/SP_Municipios_2020.cpg  \n",
            "  inflating: SP_Municipios_2020/SP_Municipios_2020.geojson  \n",
            "  inflating: SP_Municipios_2020/SP_Municipios_2020.shp  \n"
          ]
        },
        {
          "output_type": "stream",
          "name": "stderr",
          "text": [
            "\r 96%|█████████▋| 26/27 [04:52<00:15, 15.96s/it]"
          ]
        },
        {
          "output_type": "stream",
          "name": "stdout",
          "text": [
            "Archive:  gdrive/MyDrive/Brasil/Malha_municipal/TO_Municipios_2020.zip\n",
            "  inflating: TO_Municipios_2020.cpg  \n",
            "  inflating: TO_Municipios_2020.dbf  \n",
            "  inflating: TO_Municipios_2020.prj  \n",
            "  inflating: TO_Municipios_2020.shp  \n",
            "  inflating: TO_Municipios_2020.shx  \n",
            "unzip:  cannot find or open TO_Municipios_2020.zip, TO_Municipios_2020.zip.zip or TO_Municipios_2020.zip.ZIP.\n"
          ]
        },
        {
          "output_type": "stream",
          "name": "stderr",
          "text": [
            "100%|██████████| 27/27 [05:29<00:00, 12.19s/it]\n"
          ]
        }
      ]
    },
    {
      "cell_type": "code",
      "metadata": {
        "id": "RVPjDDZzyXG1"
      },
      "source": [
        "br_final = {}\n",
        "\n",
        "br_final['Estados'] = names\n",
        "br_final['Siglas'] = states\n",
        "br_final['Variância'] = stds\n",
        "br_final['SD'] = np.sqrt(np.array(stds))\n",
        "br_final['Normality'] = normality\n",
        "br_final['p-value'] = norm_p\n",
        "br_final['IQR'] = iqrs\n",
        "br_final['CIs'] = np.array(cis)/100\n",
        "br_final['Homogeneidade'] = 1 - np.array(cis)/100"
      ],
      "execution_count": 316,
      "outputs": []
    },
    {
      "cell_type": "code",
      "metadata": {
        "id": "UX80AO1eyu89"
      },
      "source": [
        "br_final = pd.DataFrame(br_final)"
      ],
      "execution_count": 317,
      "outputs": []
    },
    {
      "cell_type": "code",
      "metadata": {
        "colab": {
          "base_uri": "https://localhost:8080/",
          "height": 896
        },
        "id": "3il_IgADbRZA",
        "outputId": "29c149c2-9704-4f0f-d72f-d7c5527cd31d"
      },
      "source": [
        "br_final"
      ],
      "execution_count": 318,
      "outputs": [
        {
          "output_type": "execute_result",
          "data": {
            "text/html": [
              "<div>\n",
              "<style scoped>\n",
              "    .dataframe tbody tr th:only-of-type {\n",
              "        vertical-align: middle;\n",
              "    }\n",
              "\n",
              "    .dataframe tbody tr th {\n",
              "        vertical-align: top;\n",
              "    }\n",
              "\n",
              "    .dataframe thead th {\n",
              "        text-align: right;\n",
              "    }\n",
              "</style>\n",
              "<table border=\"1\" class=\"dataframe\">\n",
              "  <thead>\n",
              "    <tr style=\"text-align: right;\">\n",
              "      <th></th>\n",
              "      <th>Estados</th>\n",
              "      <th>Siglas</th>\n",
              "      <th>Variância</th>\n",
              "      <th>SD</th>\n",
              "      <th>Normality</th>\n",
              "      <th>p-value</th>\n",
              "      <th>IQR</th>\n",
              "      <th>CIs</th>\n",
              "      <th>Homogeneidade</th>\n",
              "    </tr>\n",
              "  </thead>\n",
              "  <tbody>\n",
              "    <tr>\n",
              "      <th>0</th>\n",
              "      <td>Acre</td>\n",
              "      <td>AC</td>\n",
              "      <td>57.913895</td>\n",
              "      <td>7.610118</td>\n",
              "      <td>0.972117</td>\n",
              "      <td>7.595492e-01</td>\n",
              "      <td>7.611131</td>\n",
              "      <td>0.295607</td>\n",
              "      <td>0.704393</td>\n",
              "    </tr>\n",
              "    <tr>\n",
              "      <th>1</th>\n",
              "      <td>Alagoas</td>\n",
              "      <td>AL</td>\n",
              "      <td>108.386014</td>\n",
              "      <td>10.410860</td>\n",
              "      <td>0.953194</td>\n",
              "      <td>1.187423e-03</td>\n",
              "      <td>11.930849</td>\n",
              "      <td>0.384426</td>\n",
              "      <td>0.615574</td>\n",
              "    </tr>\n",
              "    <tr>\n",
              "      <th>2</th>\n",
              "      <td>Amazonas</td>\n",
              "      <td>AM</td>\n",
              "      <td>197.927183</td>\n",
              "      <td>14.068660</td>\n",
              "      <td>0.907929</td>\n",
              "      <td>2.042738e-04</td>\n",
              "      <td>19.982139</td>\n",
              "      <td>0.443657</td>\n",
              "      <td>0.556343</td>\n",
              "    </tr>\n",
              "    <tr>\n",
              "      <th>3</th>\n",
              "      <td>Amapá</td>\n",
              "      <td>AP</td>\n",
              "      <td>51.972045</td>\n",
              "      <td>7.209164</td>\n",
              "      <td>0.959366</td>\n",
              "      <td>6.502919e-01</td>\n",
              "      <td>11.643861</td>\n",
              "      <td>0.229462</td>\n",
              "      <td>0.770538</td>\n",
              "    </tr>\n",
              "    <tr>\n",
              "      <th>4</th>\n",
              "      <td>Bahia</td>\n",
              "      <td>BA</td>\n",
              "      <td>218.073944</td>\n",
              "      <td>14.767327</td>\n",
              "      <td>0.984374</td>\n",
              "      <td>1.803682e-04</td>\n",
              "      <td>17.188526</td>\n",
              "      <td>0.588723</td>\n",
              "      <td>0.411277</td>\n",
              "    </tr>\n",
              "    <tr>\n",
              "      <th>5</th>\n",
              "      <td>Ceará</td>\n",
              "      <td>CE</td>\n",
              "      <td>262.570915</td>\n",
              "      <td>16.204040</td>\n",
              "      <td>0.990596</td>\n",
              "      <td>2.709921e-01</td>\n",
              "      <td>21.205536</td>\n",
              "      <td>0.612149</td>\n",
              "      <td>0.387851</td>\n",
              "    </tr>\n",
              "    <tr>\n",
              "      <th>6</th>\n",
              "      <td>Distrito Federal</td>\n",
              "      <td>DF</td>\n",
              "      <td>0.000000</td>\n",
              "      <td>0.000000</td>\n",
              "      <td>NaN</td>\n",
              "      <td>NaN</td>\n",
              "      <td>0.000000</td>\n",
              "      <td>0.000000</td>\n",
              "      <td>1.000000</td>\n",
              "    </tr>\n",
              "    <tr>\n",
              "      <th>7</th>\n",
              "      <td>Espirito Santo</td>\n",
              "      <td>ES</td>\n",
              "      <td>94.908946</td>\n",
              "      <td>9.742122</td>\n",
              "      <td>0.979478</td>\n",
              "      <td>2.406576e-01</td>\n",
              "      <td>15.145979</td>\n",
              "      <td>0.363281</td>\n",
              "      <td>0.636719</td>\n",
              "    </tr>\n",
              "    <tr>\n",
              "      <th>8</th>\n",
              "      <td>Goiás</td>\n",
              "      <td>GO</td>\n",
              "      <td>222.384150</td>\n",
              "      <td>14.912550</td>\n",
              "      <td>0.988131</td>\n",
              "      <td>4.010724e-02</td>\n",
              "      <td>19.081646</td>\n",
              "      <td>0.626600</td>\n",
              "      <td>0.373400</td>\n",
              "    </tr>\n",
              "    <tr>\n",
              "      <th>9</th>\n",
              "      <td>Maranhão</td>\n",
              "      <td>MA</td>\n",
              "      <td>124.200849</td>\n",
              "      <td>11.144543</td>\n",
              "      <td>0.990629</td>\n",
              "      <td>1.739836e-01</td>\n",
              "      <td>16.031208</td>\n",
              "      <td>0.410808</td>\n",
              "      <td>0.589192</td>\n",
              "    </tr>\n",
              "    <tr>\n",
              "      <th>10</th>\n",
              "      <td>Minas Gerias</td>\n",
              "      <td>MG</td>\n",
              "      <td>178.327844</td>\n",
              "      <td>13.353945</td>\n",
              "      <td>0.996508</td>\n",
              "      <td>5.630256e-02</td>\n",
              "      <td>17.644606</td>\n",
              "      <td>0.526158</td>\n",
              "      <td>0.473842</td>\n",
              "    </tr>\n",
              "    <tr>\n",
              "      <th>11</th>\n",
              "      <td>Mato Grosso do Sul</td>\n",
              "      <td>MS</td>\n",
              "      <td>202.455150</td>\n",
              "      <td>14.228674</td>\n",
              "      <td>0.970935</td>\n",
              "      <td>6.815773e-02</td>\n",
              "      <td>16.391563</td>\n",
              "      <td>0.543443</td>\n",
              "      <td>0.456557</td>\n",
              "    </tr>\n",
              "    <tr>\n",
              "      <th>12</th>\n",
              "      <td>Mato Grosso</td>\n",
              "      <td>MT</td>\n",
              "      <td>175.273532</td>\n",
              "      <td>13.239091</td>\n",
              "      <td>0.994506</td>\n",
              "      <td>8.709201e-01</td>\n",
              "      <td>17.140382</td>\n",
              "      <td>0.472125</td>\n",
              "      <td>0.527875</td>\n",
              "    </tr>\n",
              "    <tr>\n",
              "      <th>13</th>\n",
              "      <td>Pará</td>\n",
              "      <td>PA</td>\n",
              "      <td>199.033568</td>\n",
              "      <td>14.107926</td>\n",
              "      <td>0.987581</td>\n",
              "      <td>2.255174e-01</td>\n",
              "      <td>22.178623</td>\n",
              "      <td>0.525857</td>\n",
              "      <td>0.474143</td>\n",
              "    </tr>\n",
              "    <tr>\n",
              "      <th>14</th>\n",
              "      <td>Paraíba</td>\n",
              "      <td>PB</td>\n",
              "      <td>97.490161</td>\n",
              "      <td>9.873711</td>\n",
              "      <td>0.990419</td>\n",
              "      <td>1.477211e-01</td>\n",
              "      <td>11.498236</td>\n",
              "      <td>0.409044</td>\n",
              "      <td>0.590956</td>\n",
              "    </tr>\n",
              "    <tr>\n",
              "      <th>15</th>\n",
              "      <td>Pernambuco</td>\n",
              "      <td>PE</td>\n",
              "      <td>107.402266</td>\n",
              "      <td>10.363506</td>\n",
              "      <td>0.988361</td>\n",
              "      <td>1.336496e-01</td>\n",
              "      <td>12.746358</td>\n",
              "      <td>0.392488</td>\n",
              "      <td>0.607512</td>\n",
              "    </tr>\n",
              "    <tr>\n",
              "      <th>16</th>\n",
              "      <td>Piauí</td>\n",
              "      <td>PI</td>\n",
              "      <td>110.040852</td>\n",
              "      <td>10.490036</td>\n",
              "      <td>0.984567</td>\n",
              "      <td>1.544003e-02</td>\n",
              "      <td>15.867766</td>\n",
              "      <td>0.358595</td>\n",
              "      <td>0.641405</td>\n",
              "    </tr>\n",
              "    <tr>\n",
              "      <th>17</th>\n",
              "      <td>Paraná</td>\n",
              "      <td>PR</td>\n",
              "      <td>141.078992</td>\n",
              "      <td>11.877668</td>\n",
              "      <td>0.989323</td>\n",
              "      <td>5.233961e-03</td>\n",
              "      <td>13.857671</td>\n",
              "      <td>0.488005</td>\n",
              "      <td>0.511995</td>\n",
              "    </tr>\n",
              "    <tr>\n",
              "      <th>18</th>\n",
              "      <td>Rio de Janeiro</td>\n",
              "      <td>RJ</td>\n",
              "      <td>199.441286</td>\n",
              "      <td>14.122368</td>\n",
              "      <td>0.992569</td>\n",
              "      <td>8.910449e-01</td>\n",
              "      <td>20.949187</td>\n",
              "      <td>0.497958</td>\n",
              "      <td>0.502042</td>\n",
              "    </tr>\n",
              "    <tr>\n",
              "      <th>19</th>\n",
              "      <td>Rio Grande do Norte</td>\n",
              "      <td>RN</td>\n",
              "      <td>149.399172</td>\n",
              "      <td>12.222895</td>\n",
              "      <td>0.994759</td>\n",
              "      <td>8.204312e-01</td>\n",
              "      <td>16.886086</td>\n",
              "      <td>0.465995</td>\n",
              "      <td>0.534005</td>\n",
              "    </tr>\n",
              "    <tr>\n",
              "      <th>20</th>\n",
              "      <td>Rôndonia</td>\n",
              "      <td>RO</td>\n",
              "      <td>224.909309</td>\n",
              "      <td>14.996977</td>\n",
              "      <td>0.978507</td>\n",
              "      <td>4.645121e-01</td>\n",
              "      <td>22.114967</td>\n",
              "      <td>0.518114</td>\n",
              "      <td>0.481886</td>\n",
              "    </tr>\n",
              "    <tr>\n",
              "      <th>21</th>\n",
              "      <td>Roraima</td>\n",
              "      <td>RR</td>\n",
              "      <td>106.225041</td>\n",
              "      <td>10.306553</td>\n",
              "      <td>0.806758</td>\n",
              "      <td>4.494700e-03</td>\n",
              "      <td>12.882539</td>\n",
              "      <td>0.321387</td>\n",
              "      <td>0.678613</td>\n",
              "    </tr>\n",
              "    <tr>\n",
              "      <th>22</th>\n",
              "      <td>Rio Grande do Sul</td>\n",
              "      <td>RS</td>\n",
              "      <td>112.643245</td>\n",
              "      <td>10.613352</td>\n",
              "      <td>0.984423</td>\n",
              "      <td>3.632321e-05</td>\n",
              "      <td>14.196798</td>\n",
              "      <td>0.404265</td>\n",
              "      <td>0.595735</td>\n",
              "    </tr>\n",
              "    <tr>\n",
              "      <th>23</th>\n",
              "      <td>Santa Catarina</td>\n",
              "      <td>SC</td>\n",
              "      <td>170.033411</td>\n",
              "      <td>13.039686</td>\n",
              "      <td>0.990055</td>\n",
              "      <td>4.215655e-02</td>\n",
              "      <td>18.394662</td>\n",
              "      <td>0.500762</td>\n",
              "      <td>0.499238</td>\n",
              "    </tr>\n",
              "    <tr>\n",
              "      <th>24</th>\n",
              "      <td>Sergipe</td>\n",
              "      <td>SE</td>\n",
              "      <td>146.528157</td>\n",
              "      <td>12.104882</td>\n",
              "      <td>0.914887</td>\n",
              "      <td>9.268962e-05</td>\n",
              "      <td>13.025282</td>\n",
              "      <td>0.476455</td>\n",
              "      <td>0.523545</td>\n",
              "    </tr>\n",
              "    <tr>\n",
              "      <th>25</th>\n",
              "      <td>São Paulo</td>\n",
              "      <td>SP</td>\n",
              "      <td>165.128083</td>\n",
              "      <td>12.850217</td>\n",
              "      <td>0.969015</td>\n",
              "      <td>1.951800e-10</td>\n",
              "      <td>17.649378</td>\n",
              "      <td>0.459166</td>\n",
              "      <td>0.540834</td>\n",
              "    </tr>\n",
              "    <tr>\n",
              "      <th>26</th>\n",
              "      <td>Tocantins</td>\n",
              "      <td>TO</td>\n",
              "      <td>111.583788</td>\n",
              "      <td>10.563323</td>\n",
              "      <td>0.982984</td>\n",
              "      <td>8.146971e-02</td>\n",
              "      <td>14.815019</td>\n",
              "      <td>0.400192</td>\n",
              "      <td>0.599808</td>\n",
              "    </tr>\n",
              "  </tbody>\n",
              "</table>\n",
              "</div>"
            ],
            "text/plain": [
              "                Estados Siglas   Variância  ...        IQR       CIs  Homogeneidade\n",
              "0                  Acre     AC   57.913895  ...   7.611131  0.295607       0.704393\n",
              "1               Alagoas     AL  108.386014  ...  11.930849  0.384426       0.615574\n",
              "2              Amazonas     AM  197.927183  ...  19.982139  0.443657       0.556343\n",
              "3                 Amapá     AP   51.972045  ...  11.643861  0.229462       0.770538\n",
              "4                 Bahia     BA  218.073944  ...  17.188526  0.588723       0.411277\n",
              "5                 Ceará     CE  262.570915  ...  21.205536  0.612149       0.387851\n",
              "6      Distrito Federal     DF    0.000000  ...   0.000000  0.000000       1.000000\n",
              "7        Espirito Santo     ES   94.908946  ...  15.145979  0.363281       0.636719\n",
              "8                 Goiás     GO  222.384150  ...  19.081646  0.626600       0.373400\n",
              "9              Maranhão     MA  124.200849  ...  16.031208  0.410808       0.589192\n",
              "10         Minas Gerias     MG  178.327844  ...  17.644606  0.526158       0.473842\n",
              "11   Mato Grosso do Sul     MS  202.455150  ...  16.391563  0.543443       0.456557\n",
              "12          Mato Grosso     MT  175.273532  ...  17.140382  0.472125       0.527875\n",
              "13                 Pará     PA  199.033568  ...  22.178623  0.525857       0.474143\n",
              "14              Paraíba     PB   97.490161  ...  11.498236  0.409044       0.590956\n",
              "15           Pernambuco     PE  107.402266  ...  12.746358  0.392488       0.607512\n",
              "16                Piauí     PI  110.040852  ...  15.867766  0.358595       0.641405\n",
              "17               Paraná     PR  141.078992  ...  13.857671  0.488005       0.511995\n",
              "18       Rio de Janeiro     RJ  199.441286  ...  20.949187  0.497958       0.502042\n",
              "19  Rio Grande do Norte     RN  149.399172  ...  16.886086  0.465995       0.534005\n",
              "20             Rôndonia     RO  224.909309  ...  22.114967  0.518114       0.481886\n",
              "21              Roraima     RR  106.225041  ...  12.882539  0.321387       0.678613\n",
              "22    Rio Grande do Sul     RS  112.643245  ...  14.196798  0.404265       0.595735\n",
              "23       Santa Catarina     SC  170.033411  ...  18.394662  0.500762       0.499238\n",
              "24              Sergipe     SE  146.528157  ...  13.025282  0.476455       0.523545\n",
              "25            São Paulo     SP  165.128083  ...  17.649378  0.459166       0.540834\n",
              "26            Tocantins     TO  111.583788  ...  14.815019  0.400192       0.599808\n",
              "\n",
              "[27 rows x 9 columns]"
            ]
          },
          "metadata": {},
          "execution_count": 318
        }
      ]
    },
    {
      "cell_type": "code",
      "metadata": {
        "colab": {
          "base_uri": "https://localhost:8080/"
        },
        "id": "js1gPfKtbZ7M",
        "outputId": "4cc39e42-fcde-4903-a607-377d45478e7c"
      },
      "source": [
        "st.spearmanr(br_final['SD'], br_final['CIs'])"
      ],
      "execution_count": 319,
      "outputs": [
        {
          "output_type": "execute_result",
          "data": {
            "text/plain": [
              "SpearmanrResult(correlation=0.9322344322344323, pvalue=1.5490704889513185e-12)"
            ]
          },
          "metadata": {},
          "execution_count": 319
        }
      ]
    },
    {
      "cell_type": "code",
      "metadata": {
        "colab": {
          "base_uri": "https://localhost:8080/"
        },
        "id": "yCxwAriWXaOu",
        "outputId": "f08ae071-e94d-4d00-b2ac-6420e8d52ec9"
      },
      "source": [
        "max(br_final['Homogeneidade'])"
      ],
      "execution_count": 320,
      "outputs": [
        {
          "output_type": "execute_result",
          "data": {
            "text/plain": [
              "1.0"
            ]
          },
          "metadata": {},
          "execution_count": 320
        }
      ]
    },
    {
      "cell_type": "code",
      "metadata": {
        "colab": {
          "base_uri": "https://localhost:8080/"
        },
        "id": "N8Wc2JLnV4-9",
        "outputId": "982d0f92-1325-4f21-ac6a-c26e494d732c"
      },
      "source": [
        "!unzip 'gdrive/MyDrive/Brasil/Malha_municipal/BR_UF_2020.zip'"
      ],
      "execution_count": 321,
      "outputs": [
        {
          "output_type": "stream",
          "name": "stdout",
          "text": [
            "Archive:  gdrive/MyDrive/Brasil/Malha_municipal/BR_UF_2020.zip\n",
            "  inflating: BR_UF_2020.cpg          \n",
            "  inflating: BR_UF_2020.dbf          \n",
            "  inflating: BR_UF_2020.prj          \n",
            "  inflating: BR_UF_2020.shp          \n",
            "  inflating: BR_UF_2020.shx          \n"
          ]
        }
      ]
    },
    {
      "cell_type": "code",
      "metadata": {
        "id": "huIaN2irWFrT"
      },
      "source": [
        "shp_file = gpd.read_file('BR_UF_2020.shp')"
      ],
      "execution_count": 322,
      "outputs": []
    },
    {
      "cell_type": "code",
      "metadata": {
        "id": "NYk4lGk4WMNg"
      },
      "source": [
        "shp_file.to_file('BR_UF_2020.geojson',\n",
        "                 driver='GeoJSON')"
      ],
      "execution_count": 323,
      "outputs": []
    },
    {
      "cell_type": "code",
      "metadata": {
        "id": "imz84UzLWNly"
      },
      "source": [
        "br_states = 'BR_UF_2020.geojson'"
      ],
      "execution_count": 324,
      "outputs": []
    },
    {
      "cell_type": "code",
      "metadata": {
        "id": "1CtnXU_eWRgb"
      },
      "source": [
        "geo_json_data = json.load(open(br_states))"
      ],
      "execution_count": 325,
      "outputs": []
    },
    {
      "cell_type": "code",
      "metadata": {
        "colab": {
          "base_uri": "https://localhost:8080/"
        },
        "id": "FWgYDkVnWtPx",
        "outputId": "265b7907-d33e-4085-df36-5cee868e3f1a"
      },
      "source": [
        "geo_json_data['features'][0]['properties']"
      ],
      "execution_count": 326,
      "outputs": [
        {
          "output_type": "execute_result",
          "data": {
            "text/plain": [
              "{'CD_UF': '11', 'NM_REGIAO': 'Norte', 'NM_UF': 'Rondônia', 'SIGLA_UF': 'RO'}"
            ]
          },
          "metadata": {},
          "execution_count": 326
        }
      ]
    },
    {
      "cell_type": "code",
      "metadata": {
        "id": "YsbhzrFXWUEo"
      },
      "source": [
        "map = folium.Map(width='100%', height='100%', location = [-15.8420, -47.9428], zoom_start = 5)"
      ],
      "execution_count": 327,
      "outputs": []
    },
    {
      "cell_type": "code",
      "metadata": {
        "id": "N_dRSUnaWiBF"
      },
      "source": [
        "map.choropleth(geo_data = geo_json_data, name = 'Homogeneidade na cobertura vacinal', data = br_final,\n",
        "               columns = ['Siglas', 'Homogeneidade'],\n",
        "               key_on = 'feature.properties.SIGLA_UF', fill_color = 'RdYlBu', fill_opacity = 0.9, line_color = 'black',\n",
        "               line_opacity = 0.6,\n",
        "               show = False,\n",
        "               legend_name = f'Homogeneidade na cobertura vacinal ({date})',\n",
        "               bins = [0.1,0.2,0.3,0.4,0.5,0.6,0.7,0.8,0.9,1])"
      ],
      "execution_count": 328,
      "outputs": []
    },
    {
      "cell_type": "code",
      "metadata": {
        "id": "AKuwoMGFXYpz"
      },
      "source": [
        "map.save('br_homogeneity.html')"
      ],
      "execution_count": 329,
      "outputs": []
    },
    {
      "cell_type": "markdown",
      "metadata": {
        "id": "FQXs3PO-QnLR"
      },
      "source": [
        "# Mapa mesorregiões"
      ]
    },
    {
      "cell_type": "code",
      "metadata": {
        "colab": {
          "base_uri": "https://localhost:8080/"
        },
        "id": "XF4DrQNQGq_0",
        "outputId": "6d7c5f93-660b-4776-91c3-dc40a1fe929b"
      },
      "source": [
        "idx = -1\n",
        "for state in tqdm(states):\n",
        "  idx += 1\n",
        "  state_pops = pd.read_csv(f'gdrive/MyDrive/Brasil/Populacao_municipios/{state}_info.csv')\n",
        "  if idx == 0:\n",
        "    state_pops = pd.read_csv(f'gdrive/MyDrive/Brasil/Populacao_municipios/{state}_info.csv')\n",
        "    pe_pops = state_pops\n",
        "  else:\n",
        "    pe_pops = pd.concat([pe_pops, state_pops]).reset_index(drop=True)"
      ],
      "execution_count": 14,
      "outputs": [
        {
          "output_type": "stream",
          "name": "stderr",
          "text": [
            "100%|██████████| 27/27 [00:07<00:00,  3.39it/s]\n"
          ]
        }
      ]
    },
    {
      "cell_type": "code",
      "metadata": {
        "id": "RBp8YC4IQaZY"
      },
      "source": [
        "pe = df.reset_index(drop=True)\n",
        "pe = pe.drop([len(pe)-1])\n",
        "for i in range(len(pe)):\n",
        "  municip = ''\n",
        "  if pe['Município'][i] == 'Abreu E Lima':\n",
        "    municip += 'Abreu e Lima'\n",
        "    pe['Município'][i] = municip\n",
        "  elif 'Tabocão' in pe['Município'][i] and state == 'TO':\n",
        "    municip += 'Tabocão'\n",
        "    pe['Município'][i] = municip\n",
        "  elif pe['Município'][i] == \"Alta Floresta D'Oeste\":\n",
        "    municip += \"Alta Floresta D'Oeste\"\n",
        "    pe['Município'][i] = municip\n",
        "  elif pe['Município'][i] == \"Alvorada D'Oeste\":\n",
        "    municip += \"Alvorada D'Oeste\"\n",
        "    pe['Município'][i] = municip\n",
        "  elif pe['Município'][i] == \"Espigão D'Oeste\":\n",
        "    municip += \"Espigão D'Oeste\"\n",
        "    pe['Município'][i] = municip\n",
        "  elif pe['Município'][i] == \"Machadinho D'Oeste\":\n",
        "    municip += \"Machadinho D'Oeste\"\n",
        "    pe['Município'][i] = municip\n",
        "  elif pe['Município'][i] == \"Nova Brasilândia D'Oeste\":\n",
        "    municip += \"Nova Brasilândia D'Oeste\"\n",
        "    pe['Município'][i] = municip\n",
        "  elif pe['Município'][i] == \"Santa Luzia D'Oeste\":\n",
        "    municip += \"Santa Luzia D'Oeste\"\n",
        "    pe['Município'][i] = municip\n",
        "  elif pe['Município'][i] == \"São Felipe D'Oeste\":\n",
        "    municip += \"São Felipe D'Oeste\"\n",
        "    pe['Município'][i] = municip\n",
        "  elif pe['Município'][i] == 'Passa E Fica':\n",
        "    municip += 'Passa e Fica'\n",
        "    pe['Município'][i] = municip\n",
        "  elif pe['Município'][i] == 'Biritiba-Mirim':\n",
        "    municip += 'Biritiba Mirim'\n",
        "    pe['Município'][i] = municip\n",
        "  elif pe['Município'][i] == 'Embu':\n",
        "    municip += 'Embu das Artes'\n",
        "    pe['Município'][i] = municip\n",
        "  elif pe['Município'][i] == 'Amparo De São Francisco':\n",
        "    municip += 'Amparo do São Francisco'\n",
        "    pe['Município'][i] = municip\n",
        "  elif pe['Município'][i] == 'Grão Pará':\n",
        "    municip += 'Grão-Pará'\n",
        "    pe['Município'][i] = municip\n",
        "  elif pe['Município'][i] == 'Augusto Severo':\n",
        "    municip += 'Campo Grande'\n",
        "    pe['Município'][i] = municip\n",
        "  elif pe['Município'][i] == 'Restinga Seca':\n",
        "    municip += 'Restinga Sêca'\n",
        "    pe['Município'][i] = municip\n",
        "  elif pe['Município'][i] == 'Vespasiano Correa':\n",
        "    municip += 'Vespasiano Corrêa'\n",
        "    pe['Município'][i] = municip\n",
        "  elif pe['Município'][i] == 'Xangri-Lá':\n",
        "    municip += 'Xangri-lá'\n",
        "    pe['Município'][i] = municip\n",
        "  elif pe['Município'][i] == 'Westfalia':\n",
        "    municip += 'Westfália'\n",
        "    pe['Município'][i] = municip\n",
        "  elif pe['Município'][i] == \"Sant'Ana Do Livramento\":\n",
        "    municip += \"Sant'Ana do Livramento\"\n",
        "    pe['Município'][i] = municip\n",
        "  elif pe['Município'][i] == 'Não-Me-Toque':\n",
        "    municip += 'Não-Me-Toque'\n",
        "    pe['Município'][i] = municip\n",
        "  elif pe['Município'][i] == \"Olho-D'Água Do Borges\":\n",
        "    municip += \"Olho d'Água do Borges\"\n",
        "    pe['Município'][i] = municip\n",
        "  elif pe['Município'][i] == \"Diamante D'Oeste\":\n",
        "    municip += \"Diamante D'Oeste\"\n",
        "    pe['Município'][i] = municip\n",
        "  elif pe['Município'][i] == \"Rancho Alegre D'Oeste\":\n",
        "    municip += \"Rancho Alegre D'Oeste\"\n",
        "    pe['Município'][i] = municip\n",
        "  elif pe['Município'][i] == \"Barra D'Alcântara\":\n",
        "    municip += \"Barra D'Alcântara\"\n",
        "    pe['Município'][i] = municip\n",
        "  elif pe['Município'][i] == \"Olho D'Água Do Piauí\":\n",
        "    municip += \"Olho D'Água do Piauí\"\n",
        "    pe['Município'][i] = municip\n",
        "  elif pe['Município'][i] == \"Pau D'Arco Do Piauí\":\n",
        "    municip += \"Pau D'Arco do Piauí\"\n",
        "    pe['Município'][i] = municip\n",
        "  elif pe['Município'][i] == 'Pedro Ii':\n",
        "    municip += 'Pedro II'\n",
        "    pe['Município'][i] = municip\n",
        "  elif pe['Município'][i] == 'Pio Ix':\n",
        "    municip += 'Pio IX'\n",
        "    pe['Município'][i] = municip\n",
        "  elif pe['Município'][i] == 'Pontes E Lacerda':\n",
        "    municip += 'Pontes e Lacerda'\n",
        "    pe['Município'][i] = municip\n",
        "  elif pe['Município'][i] == \"Pau D'Arco\":\n",
        "    municip += \"Pau D'Arco\"\n",
        "    pe['Município'][i] = municip\n",
        "  elif pe['Município'][i] == \"Conquista D'Oeste\":\n",
        "    municip += \"Conquista D'Oeste\"\n",
        "    pe['Município'][i] = municip\n",
        "  elif pe['Município'][i] == \"Figueirópolis D'Oeste\":\n",
        "    municip += \"Figueirópolis D'Oeste\"\n",
        "    pe['Município'][i] = municip\n",
        "  elif pe['Município'][i] == \"Glória D'Oeste\":\n",
        "    municip += \"Glória D'Oeste\"\n",
        "    pe['Município'][i] = municip\n",
        "  elif pe['Município'][i] == \"Lambari D'Oeste\":\n",
        "    municip += \"Lambari D'Oeste\"\n",
        "    pe['Município'][i] = municip\n",
        "  elif pe['Município'][i] == 'Amparo Da Serra':\n",
        "    municip += 'Amparo do Serra'\n",
        "    pe['Município'][i] = municip\n",
        "  elif pe['Município'][i] == 'Dona Euzebia':\n",
        "    municip += 'Dona Euzébia'\n",
        "    pe['Município'][i] = municip\n",
        "  elif pe['Município'][i] == \"Olhos-D'Água\":\n",
        "    municip += \"Olhos-d'Água\"\n",
        "    pe['Município'][i] = municip\n",
        "  elif pe['Município'][i] == 'Guarda-Mor':\n",
        "    municip += 'Guarda-Mor'\n",
        "    pe['Município'][i] = municip\n",
        "  elif pe['Município'][i] == 'Passa-Vinte':\n",
        "    municip += 'Passa Vinte'\n",
        "    pe['Município'][i] = municip\n",
        "  elif pe['Município'][i] == 'São João Del Rei':\n",
        "    municip += 'São João del Rei'\n",
        "    pe['Município'][i] = municip\n",
        "  elif pe['Município'][i] == \"Pingo-D'Água\":\n",
        "    municip += \"Pingo-d'Água\"\n",
        "    pe['Município'][i] = municip\n",
        "  elif pe['Município'][i] == \"São Thomé Das Letras\":\n",
        "    municip += \"São Tomé das Letras\"\n",
        "    pe['Município'][i] = municip\n",
        "  elif pe['Município'][i] == \"Sapucaí-Mirim\":\n",
        "    municip += \"Sapucaí-Mirim\"\n",
        "    pe['Município'][i] = municip\n",
        "  elif pe['Município'][i] == \"Sem-Peixe\":\n",
        "    municip += \"Sem-Peixe\"\n",
        "    pe['Município'][i] = municip\n",
        "  elif pe['Município'][i] == 'Apicum-Açu':\n",
        "    municip += 'Apicum-Açu'\n",
        "    pe['Município'][i] = municip\n",
        "  elif pe['Município'][i] == 'Conceição Do Lago-Açu':\n",
        "    municip += 'Conceição do Lago-Açu'\n",
        "    pe['Município'][i] = municip\n",
        "  elif pe['Município'][i] == \"Olho D'Água Das Cunhãs\":\n",
        "    municip += \"Olho d'Água das Cunhãs\"\n",
        "    pe['Município'][i] = municip\n",
        "  elif pe['Município'][i] == 'Pindaré-Mirim':\n",
        "    municip += 'Pindaré-Mirim'\n",
        "    pe['Município'][i] = municip\n",
        "  elif pe['Município'][i] == 'Pio Xii':\n",
        "    municip += 'Pio XII'\n",
        "    pe['Município'][i] = municip\n",
        "  elif pe['Município'][i] == 'Varre-Sai':\n",
        "    municip += 'Varre-Sai'\n",
        "    pe['Município'][i] = municip\n",
        "  elif pe['Município'][i] == \"Olho D'Água Das Flores\":\n",
        "    municip += \"Olho d'Água das Flores\"\n",
        "    pe['Município'][i] = municip\n",
        "  elif pe['Município'][i] == \"Olho D'Água Do Casado\":\n",
        "    municip += \"Olho d'Água do Casado\"\n",
        "    pe['Município'][i] = municip\n",
        "  elif pe['Município'][i] == \"Olho D'Água Grande\":\n",
        "    municip += \"Olho d'Água Grande\"\n",
        "    pe['Município'][i] = municip\n",
        "  elif pe['Município'][i] == \"Tanque D'Arca\":\n",
        "    municip += \"Tanque d'Arca\"\n",
        "    pe['Município'][i] = municip\n",
        "  elif pe['Município'][i] == \"Dias D'Ávila\":\n",
        "    municip += \"Dias d'Ávila\"\n",
        "    pe['Município'][i] = municip\n",
        "  elif pe['Município'][i] == \"Xique-Xique\":\n",
        "    municip += \"Xique-Xique\"\n",
        "    pe['Município'][i] = municip\n",
        "  elif pe['Município'][i] == \"Ererê\":\n",
        "    municip += \"Ereré\"\n",
        "    pe['Município'][i] = municip\n",
        "  elif pe['Município'][i] == \"Itapagé\":\n",
        "    municip += \"Itapajé\"\n",
        "    pe['Município'][i] = municip\n",
        "  elif pe['Município'][i] == \"Atilio Vivacqua\":\n",
        "    municip += \"Atílio Vivácqua\"\n",
        "    pe['Município'][i] = municip\n",
        "  elif pe['Município'][i] == \"São João D'Aliança\":\n",
        "    municip += \"São João d'Aliança\"\n",
        "    pe['Município'][i] = municip\n",
        "  elif pe['Município'][i] == \"Sítio D'Abadia\":\n",
        "    municip += \"Sítio d'Abadia\"\n",
        "    pe['Município'][i] = municip\n",
        "  elif pe['Município'][i] == \"Seridó\":\n",
        "    municip += \"São Vicente do Seridó\"\n",
        "    pe['Município'][i] = municip\n",
        "  elif \"D'\" in pe['Município'][i] and state != 'RO':\n",
        "    slices = pe['Município'][i].split(' ')\n",
        "    for k in range(len(slices)):\n",
        "      if \"D'\" in slices[k]:\n",
        "        if k != len(slices)-1:\n",
        "          subslices = slices[k].split(\"'\")\n",
        "          municip += \"d'\" + subslices[1] + ' '\n",
        "        else:\n",
        "          subslices = slices[k].split(\"'\")\n",
        "          municip += \"d'\" + subslices[1]\n",
        "      elif slices[k] == 'De' or slices[k] == 'Do' or slices[k] == 'Da' or slices[k] == 'Dos' or slices[k] == 'Das' or slices[k] == 'Del':\n",
        "          name = slices[k].lower()\n",
        "          municip += name + ' '\n",
        "      else:\n",
        "        if k != len(slices)-1:\n",
        "          municip += slices[k] + ' '\n",
        "        else:\n",
        "          municip += slices[k]\n",
        "    pe['Município'][i] = municip\n",
        "  elif \"D'\" in pe['Município'][i] and state == 'RO':\n",
        "    slices = pe['Município'][i].split(' ')\n",
        "    for k in range(len(slices)):\n",
        "      if \"D'\" in slices[k]:\n",
        "        if k != len(slices)-1:\n",
        "          subslices = slices[k].split(\"'\")\n",
        "          municip += \"D'\" + subslices[1] + ' '\n",
        "        else:\n",
        "          subslices = slices[k].split(\"'\")\n",
        "          municip += \"D'\" + subslices[1]\n",
        "      elif slices[k] == 'De' or slices[k] == 'Do' or slices[k] == 'Da' or slices[k] == 'Dos' or slices[k] == 'Das' or slices[k] == 'Del':\n",
        "          name = slices[k].lower()\n",
        "          municip += name + ' '\n",
        "      else:\n",
        "        if k != len(slices)-1:\n",
        "          municip += slices[k] + ' '\n",
        "        else:\n",
        "          municip += slices[k]\n",
        "    pe['Município'][i] = municip\n",
        "  elif '-' in pe['Município'][i]:\n",
        "    slices = pe['Município'][i].split(' ')\n",
        "    for k in range(len(slices)):\n",
        "      if \"-\" in slices[k]:\n",
        "        if k != len(slices)-1:\n",
        "          subslices = slices[k].split(\"-\")\n",
        "          municip += subslices[0][0] + subslices[0][1:].lower() + '-' + subslices[1][0] + subslices[1][1:].lower() + ' '\n",
        "        else:\n",
        "          subslices = slices[k].split(\"-\")\n",
        "          municip += subslices[0][0] + subslices[0][1:].lower() + '-' + subslices[1][0] + subslices[1][1:].lower()\n",
        "      elif slices[k] == 'De' or slices[k] == 'Do' or slices[k] == 'Da' or slices[k] == 'Dos' or slices[k] == 'Das' or slices[k] == 'Del':\n",
        "          name = slices[k].lower()\n",
        "          municip += name + ' '\n",
        "      else:\n",
        "        if k != len(slices)-1:\n",
        "          municip += slices[k] + ' '\n",
        "        else:\n",
        "          municip += slices[k]\n",
        "    pe['Município'][i] = municip\n",
        "  else:\n",
        "    n = pe['Município'][i].split(' ')\n",
        "    for j in range(len(n)):\n",
        "      if j < len(n)-1:\n",
        "        if n[j] == 'De' or n[j] == 'Do' or n[j] == 'Da' or n[j] == 'Dos' or n[j] == 'Das' or n[j] == 'Del' or n[j] == 'No' or n[j] == 'Na':\n",
        "          name = n[j].lower()\n",
        "          municip += name + ' '\n",
        "        else:\n",
        "          name = n[j][1:].lower()\n",
        "          municip += n[j][0] + name + ' '\n",
        "      else:\n",
        "        name = n[j][1:].lower()\n",
        "        municip += n[j][0] + name\n",
        "  pe['Município'][i] = municip"
      ],
      "execution_count": 292,
      "outputs": []
    },
    {
      "cell_type": "code",
      "metadata": {
        "id": "4UUyKBXMcJlc"
      },
      "source": [
        "pops = []\n",
        "\n",
        "for i in range(len(pe)):\n",
        "  try:\n",
        "    pops.append(pe_pops.loc[pe_pops['Município [-]'] == pe['Município'][i]]['População estimada - pessoas [2021]'].values[0])\n",
        "  except:\n",
        "    print(i, pe['Município'][i])\n",
        "\n",
        "pe['Populacao'] = pops"
      ],
      "execution_count": 293,
      "outputs": []
    },
    {
      "cell_type": "code",
      "metadata": {
        "colab": {
          "base_uri": "https://localhost:8080/",
          "height": 565
        },
        "id": "41j_d9OucMO-",
        "outputId": "4c5bc920-b391-4531-a57d-440f982a8568"
      },
      "source": [
        "pe"
      ],
      "execution_count": 294,
      "outputs": [
        {
          "output_type": "execute_result",
          "data": {
            "text/html": [
              "<div>\n",
              "<style scoped>\n",
              "    .dataframe tbody tr th:only-of-type {\n",
              "        vertical-align: middle;\n",
              "    }\n",
              "\n",
              "    .dataframe tbody tr th {\n",
              "        vertical-align: top;\n",
              "    }\n",
              "\n",
              "    .dataframe thead th {\n",
              "        text-align: right;\n",
              "    }\n",
              "</style>\n",
              "<table border=\"1\" class=\"dataframe\">\n",
              "  <thead>\n",
              "    <tr style=\"text-align: right;\">\n",
              "      <th></th>\n",
              "      <th>Município</th>\n",
              "      <th>Cód. IBGE</th>\n",
              "      <th>UF</th>\n",
              "      <th>Região</th>\n",
              "      <th>Fabricante</th>\n",
              "      <th>Total de doses aplicadas</th>\n",
              "      <th>1ª Dose D1</th>\n",
              "      <th>2ª Dose D2</th>\n",
              "      <th>Dose Adicional DA</th>\n",
              "      <th>Dose Reforço DR</th>\n",
              "      <th>Dose Única DU</th>\n",
              "      <th>Populacao</th>\n",
              "    </tr>\n",
              "  </thead>\n",
              "  <tbody>\n",
              "    <tr>\n",
              "      <th>0</th>\n",
              "      <td>Abadia de Goiás</td>\n",
              "      <td>520005</td>\n",
              "      <td>GO</td>\n",
              "      <td>Centro-Oeste</td>\n",
              "      <td>BUTANTAN/SINOVAC</td>\n",
              "      <td>6.766</td>\n",
              "      <td>3.793</td>\n",
              "      <td>2.970</td>\n",
              "      <td>1.0</td>\n",
              "      <td>2</td>\n",
              "      <td>0.0</td>\n",
              "      <td>9158</td>\n",
              "    </tr>\n",
              "    <tr>\n",
              "      <th>1</th>\n",
              "      <td>Abadia de Goiás</td>\n",
              "      <td>520005</td>\n",
              "      <td>GO</td>\n",
              "      <td>Centro-Oeste</td>\n",
              "      <td>FIOCRUZ/ASTRAZENECA</td>\n",
              "      <td>7.296</td>\n",
              "      <td>3.792</td>\n",
              "      <td>3.502</td>\n",
              "      <td>0.0</td>\n",
              "      <td>2</td>\n",
              "      <td>0.0</td>\n",
              "      <td>9158</td>\n",
              "    </tr>\n",
              "    <tr>\n",
              "      <th>2</th>\n",
              "      <td>Abadia de Goiás</td>\n",
              "      <td>520005</td>\n",
              "      <td>GO</td>\n",
              "      <td>Centro-Oeste</td>\n",
              "      <td>JANSSEN</td>\n",
              "      <td>166</td>\n",
              "      <td>0</td>\n",
              "      <td>0</td>\n",
              "      <td>0.0</td>\n",
              "      <td>0</td>\n",
              "      <td>166.0</td>\n",
              "      <td>9158</td>\n",
              "    </tr>\n",
              "    <tr>\n",
              "      <th>3</th>\n",
              "      <td>Abadia de Goiás</td>\n",
              "      <td>520005</td>\n",
              "      <td>GO</td>\n",
              "      <td>Centro-Oeste</td>\n",
              "      <td>PFIZER/BIONTECH</td>\n",
              "      <td>7.552</td>\n",
              "      <td>4.574</td>\n",
              "      <td>2.252</td>\n",
              "      <td>16.0</td>\n",
              "      <td>710</td>\n",
              "      <td>0.0</td>\n",
              "      <td>9158</td>\n",
              "    </tr>\n",
              "    <tr>\n",
              "      <th>4</th>\n",
              "      <td>Abadia dos Dourados</td>\n",
              "      <td>310010</td>\n",
              "      <td>MG</td>\n",
              "      <td>Sudeste</td>\n",
              "      <td>BUTANTAN/SINOVAC</td>\n",
              "      <td>2.670</td>\n",
              "      <td>1.384</td>\n",
              "      <td>1.285</td>\n",
              "      <td>0.0</td>\n",
              "      <td>1</td>\n",
              "      <td>0.0</td>\n",
              "      <td>7022</td>\n",
              "    </tr>\n",
              "    <tr>\n",
              "      <th>...</th>\n",
              "      <td>...</td>\n",
              "      <td>...</td>\n",
              "      <td>...</td>\n",
              "      <td>...</td>\n",
              "      <td>...</td>\n",
              "      <td>...</td>\n",
              "      <td>...</td>\n",
              "      <td>...</td>\n",
              "      <td>...</td>\n",
              "      <td>...</td>\n",
              "      <td>...</td>\n",
              "      <td>...</td>\n",
              "    </tr>\n",
              "    <tr>\n",
              "      <th>22274</th>\n",
              "      <td>Zé Doca</td>\n",
              "      <td>211400</td>\n",
              "      <td>MA</td>\n",
              "      <td>Nordeste</td>\n",
              "      <td>JANSSEN</td>\n",
              "      <td>455</td>\n",
              "      <td>0</td>\n",
              "      <td>0</td>\n",
              "      <td>0.0</td>\n",
              "      <td>9</td>\n",
              "      <td>446.0</td>\n",
              "      <td>52190</td>\n",
              "    </tr>\n",
              "    <tr>\n",
              "      <th>22275</th>\n",
              "      <td>Zé Doca</td>\n",
              "      <td>211400</td>\n",
              "      <td>MA</td>\n",
              "      <td>Nordeste</td>\n",
              "      <td>PFIZER/BIONTECH</td>\n",
              "      <td>22.315</td>\n",
              "      <td>13.136</td>\n",
              "      <td>7.336</td>\n",
              "      <td>55.0</td>\n",
              "      <td>1.788</td>\n",
              "      <td>0.0</td>\n",
              "      <td>52190</td>\n",
              "    </tr>\n",
              "    <tr>\n",
              "      <th>22276</th>\n",
              "      <td>Zortéa</td>\n",
              "      <td>421985</td>\n",
              "      <td>SC</td>\n",
              "      <td>Sul</td>\n",
              "      <td>BUTANTAN/SINOVAC</td>\n",
              "      <td>1.835</td>\n",
              "      <td>945</td>\n",
              "      <td>890</td>\n",
              "      <td>0.0</td>\n",
              "      <td>0</td>\n",
              "      <td>0.0</td>\n",
              "      <td>3432</td>\n",
              "    </tr>\n",
              "    <tr>\n",
              "      <th>22277</th>\n",
              "      <td>Zortéa</td>\n",
              "      <td>421985</td>\n",
              "      <td>SC</td>\n",
              "      <td>Sul</td>\n",
              "      <td>FIOCRUZ/ASTRAZENECA</td>\n",
              "      <td>2.040</td>\n",
              "      <td>1.038</td>\n",
              "      <td>1.002</td>\n",
              "      <td>0.0</td>\n",
              "      <td>0</td>\n",
              "      <td>0.0</td>\n",
              "      <td>3432</td>\n",
              "    </tr>\n",
              "    <tr>\n",
              "      <th>22278</th>\n",
              "      <td>Zortéa</td>\n",
              "      <td>421985</td>\n",
              "      <td>SC</td>\n",
              "      <td>Sul</td>\n",
              "      <td>JANSSEN</td>\n",
              "      <td>128</td>\n",
              "      <td>0</td>\n",
              "      <td>0</td>\n",
              "      <td>0.0</td>\n",
              "      <td>0</td>\n",
              "      <td>128.0</td>\n",
              "      <td>3432</td>\n",
              "    </tr>\n",
              "  </tbody>\n",
              "</table>\n",
              "<p>22279 rows × 12 columns</p>\n",
              "</div>"
            ],
            "text/plain": [
              "                 Município  Cód. IBGE  ... Dose Única DU Populacao\n",
              "0          Abadia de Goiás     520005  ...           0.0      9158\n",
              "1          Abadia de Goiás     520005  ...           0.0      9158\n",
              "2          Abadia de Goiás     520005  ...         166.0      9158\n",
              "3          Abadia de Goiás     520005  ...           0.0      9158\n",
              "4      Abadia dos Dourados     310010  ...           0.0      7022\n",
              "...                    ...        ...  ...           ...       ...\n",
              "22274              Zé Doca     211400  ...         446.0     52190\n",
              "22275              Zé Doca     211400  ...           0.0     52190\n",
              "22276               Zortéa     421985  ...           0.0      3432\n",
              "22277               Zortéa     421985  ...           0.0      3432\n",
              "22278               Zortéa     421985  ...         128.0      3432\n",
              "\n",
              "[22279 rows x 12 columns]"
            ]
          },
          "metadata": {},
          "execution_count": 294
        }
      ]
    },
    {
      "cell_type": "code",
      "metadata": {
        "id": "2bI7extvQxAZ"
      },
      "source": [
        "for i in range(len(pe['2ª Dose D2'])):\n",
        "  try:\n",
        "    if len(pe['2ª Dose D2'][i].split('.')) == 2:\n",
        "      pe['2ª Dose D2'][i] = int(pe['2ª Dose D2'][i].split('.')[0]+pe['2ª Dose D2'][i].split('.')[1])\n",
        "    elif len(pe['2ª Dose D2'][i].split('.')) == 3:\n",
        "      pe['2ª Dose D2'][i] = int(pe['2ª Dose D2'][i].split('.')[0]+pe['2ª Dose D2'][i].split('.')[1]+pe['2ª Dose D2'][i].split('.')[2])\n",
        "  except:\n",
        "    pass\n",
        "  \n",
        "  if str(pe['Dose Única DU'][i]).split('.')[1] == '000' or str(pe['Dose Única DU'][i]).split('.')[1] == '0':\n",
        "    pe['Dose Única DU'][i] = int(str(pe['Dose Única DU'][i]).split('.')[0])\n",
        "  elif len(str(pe['Dose Única DU'][i]).split('.')[1]) > 8:\n",
        "    pe['Dose Única DU'][i] = int(str(pe['Dose Única DU'][i]).split('.')[0]+str(pe['Dose Única DU'][i]).split('.')[1][:3])\n",
        "  elif len(str(pe['Dose Única DU'][i]).split('.')) == 2:\n",
        "    pe['Dose Única DU'][i] = int(str(pe['Dose Única DU'][i]).split('.')[0]+str(pe['Dose Única DU'][i]).split('.')[1])\n",
        "  else:\n",
        "    print(pe['Dose Única DU'][i])\n",
        "\n",
        "pe['2ª Dose D2'] = pe['2ª Dose D2'].astype('float')"
      ],
      "execution_count": 296,
      "outputs": []
    },
    {
      "cell_type": "code",
      "metadata": {
        "colab": {
          "base_uri": "https://localhost:8080/"
        },
        "id": "fu5yHQN2IdHR",
        "outputId": "4810b030-3e55-4dec-a50f-04f4cfa997c7"
      },
      "source": [
        "pe['Dose Única DU'][1334]"
      ],
      "execution_count": 297,
      "outputs": [
        {
          "output_type": "execute_result",
          "data": {
            "text/plain": [
              "3271.0"
            ]
          },
          "metadata": {},
          "execution_count": 297
        }
      ]
    },
    {
      "cell_type": "code",
      "metadata": {
        "id": "RPc3KftEXO2V"
      },
      "source": [
        "meso = pd.read_csv('gdrive/MyDrive/Brasil/Mesorregioes_e_municipios.csv')"
      ],
      "execution_count": 308,
      "outputs": []
    },
    {
      "cell_type": "code",
      "metadata": {
        "id": "h4HOXFz5XY0I"
      },
      "source": [
        "br_final = {}\n",
        "\n",
        "mesoregioes = []\n",
        "for i in range(len(meso)):\n",
        "  if i == 0:\n",
        "    mesoregiao = meso['Mesorregiao'][i]\n",
        "    mesoregioes.append(mesoregiao)\n",
        "  else:\n",
        "    mesoregiao = meso['Mesorregiao'][i]\n",
        "    if mesoregiao != mesoregioes[-1]:\n",
        "      mesoregioes.append(mesoregiao)"
      ],
      "execution_count": 309,
      "outputs": []
    },
    {
      "cell_type": "code",
      "metadata": {
        "id": "T_h-HA-FaD3S"
      },
      "source": [
        "final_populacoes = []\n",
        "final_doses = []\n",
        "\n",
        "for i in range(len(mesoregioes)):\n",
        "  populacoes = []\n",
        "  doses = []\n",
        "  df_new = meso.loc[meso['Mesorregiao'] == mesoregioes[i]].reset_index(drop=True)\n",
        "  for j in range(len(df_new)):\n",
        "    mun = pe.loc[pe['Município'] == df_new['Municipios'][j]].reset_index(drop=True)\n",
        "    try:\n",
        "      populacoes.append(mun['Populacao'].values[0])\n",
        "    except:\n",
        "      print(mun['Populacao'])\n",
        "      print(df_new['Municipios'][j])\n",
        "    try:\n",
        "      all = np.sum(mun['2ª Dose D2'].values) + mun.loc[mun['Fabricante'] == 'JANSSEN']['Dose Única DU'].values[0]\n",
        "      if all > 1e10:\n",
        "        print(mun.loc[mun['Fabricante'] == 'JANSSEN']['Dose Única DU'].values)\n",
        "      doses.append(all)\n",
        "    except:\n",
        "      doses.append(np.sum(mun['2ª Dose D2'].values))\n",
        "  populacoes = np.array(populacoes)\n",
        "  doses = np.array(doses)\n",
        "  final_populacoes.append(np.sum(populacoes))\n",
        "  final_doses.append(sum(doses))"
      ],
      "execution_count": 310,
      "outputs": []
    },
    {
      "cell_type": "code",
      "metadata": {
        "id": "SiiV9LLqiST3"
      },
      "source": [
        "br_final['Mesorregiao'] = np.array(mesoregioes)\n",
        "br_final['População'] = np.array(final_populacoes)\n",
        "br_final['Imunização completa'] = np.array(final_doses)\n",
        "br_final['Fração vacinada'] = br_final['Imunização completa']/br_final['População']"
      ],
      "execution_count": 311,
      "outputs": []
    },
    {
      "cell_type": "code",
      "metadata": {
        "id": "_YRGgWtRFUQd"
      },
      "source": [
        "for i in range(len(br_final['Fração vacinada'])):\n",
        "  if br_final['Fração vacinada'][i] > 1:\n",
        "    br_final['Fração vacinada'][i] = 1\n",
        "\n",
        "br_final = pd.DataFrame(br_final)"
      ],
      "execution_count": 312,
      "outputs": []
    },
    {
      "cell_type": "code",
      "metadata": {
        "colab": {
          "base_uri": "https://localhost:8080/",
          "height": 424
        },
        "id": "SYdUT9fYp3YF",
        "outputId": "68d0778e-94ce-4256-e5ab-9d7588d75007"
      },
      "source": [
        "br_final"
      ],
      "execution_count": 313,
      "outputs": [
        {
          "output_type": "execute_result",
          "data": {
            "text/html": [
              "<div>\n",
              "<style scoped>\n",
              "    .dataframe tbody tr th:only-of-type {\n",
              "        vertical-align: middle;\n",
              "    }\n",
              "\n",
              "    .dataframe tbody tr th {\n",
              "        vertical-align: top;\n",
              "    }\n",
              "\n",
              "    .dataframe thead th {\n",
              "        text-align: right;\n",
              "    }\n",
              "</style>\n",
              "<table border=\"1\" class=\"dataframe\">\n",
              "  <thead>\n",
              "    <tr style=\"text-align: right;\">\n",
              "      <th></th>\n",
              "      <th>Mesorregiao</th>\n",
              "      <th>População</th>\n",
              "      <th>Imunização completa</th>\n",
              "      <th>Fração vacinada</th>\n",
              "    </tr>\n",
              "  </thead>\n",
              "  <tbody>\n",
              "    <tr>\n",
              "      <th>0</th>\n",
              "      <td>Noroeste Goiano</td>\n",
              "      <td>257822</td>\n",
              "      <td>188308.0</td>\n",
              "      <td>0.730380</td>\n",
              "    </tr>\n",
              "    <tr>\n",
              "      <th>1</th>\n",
              "      <td>Norte Goiano</td>\n",
              "      <td>309665</td>\n",
              "      <td>200997.0</td>\n",
              "      <td>0.649079</td>\n",
              "    </tr>\n",
              "    <tr>\n",
              "      <th>2</th>\n",
              "      <td>Centro Goiano</td>\n",
              "      <td>3685399</td>\n",
              "      <td>2242221.0</td>\n",
              "      <td>0.608407</td>\n",
              "    </tr>\n",
              "    <tr>\n",
              "      <th>3</th>\n",
              "      <td>Leste Goiano</td>\n",
              "      <td>1454580</td>\n",
              "      <td>666387.0</td>\n",
              "      <td>0.458130</td>\n",
              "    </tr>\n",
              "    <tr>\n",
              "      <th>4</th>\n",
              "      <td>Sul Goiano</td>\n",
              "      <td>1506650</td>\n",
              "      <td>1038195.0</td>\n",
              "      <td>0.689075</td>\n",
              "    </tr>\n",
              "    <tr>\n",
              "      <th>...</th>\n",
              "      <td>...</td>\n",
              "      <td>...</td>\n",
              "      <td>...</td>\n",
              "      <td>...</td>\n",
              "    </tr>\n",
              "    <tr>\n",
              "      <th>132</th>\n",
              "      <td>Serrana</td>\n",
              "      <td>436724</td>\n",
              "      <td>315881.0</td>\n",
              "      <td>0.723297</td>\n",
              "    </tr>\n",
              "    <tr>\n",
              "      <th>133</th>\n",
              "      <td>Vale do Itajaí</td>\n",
              "      <td>1946940</td>\n",
              "      <td>1207951.0</td>\n",
              "      <td>0.620436</td>\n",
              "    </tr>\n",
              "    <tr>\n",
              "      <th>134</th>\n",
              "      <td>Grande Florianópolis</td>\n",
              "      <td>1208176</td>\n",
              "      <td>841813.0</td>\n",
              "      <td>0.696764</td>\n",
              "    </tr>\n",
              "    <tr>\n",
              "      <th>135</th>\n",
              "      <td>Sul Catarinense</td>\n",
              "      <td>1048761</td>\n",
              "      <td>922972.0</td>\n",
              "      <td>0.880059</td>\n",
              "    </tr>\n",
              "    <tr>\n",
              "      <th>136</th>\n",
              "      <td>Distrito Federal</td>\n",
              "      <td>3094325</td>\n",
              "      <td>1871089.0</td>\n",
              "      <td>0.604684</td>\n",
              "    </tr>\n",
              "  </tbody>\n",
              "</table>\n",
              "<p>137 rows × 4 columns</p>\n",
              "</div>"
            ],
            "text/plain": [
              "              Mesorregiao  População  Imunização completa  Fração vacinada\n",
              "0         Noroeste Goiano     257822             188308.0         0.730380\n",
              "1            Norte Goiano     309665             200997.0         0.649079\n",
              "2           Centro Goiano    3685399            2242221.0         0.608407\n",
              "3            Leste Goiano    1454580             666387.0         0.458130\n",
              "4              Sul Goiano    1506650            1038195.0         0.689075\n",
              "..                    ...        ...                  ...              ...\n",
              "132               Serrana     436724             315881.0         0.723297\n",
              "133        Vale do Itajaí    1946940            1207951.0         0.620436\n",
              "134  Grande Florianópolis    1208176             841813.0         0.696764\n",
              "135       Sul Catarinense    1048761             922972.0         0.880059\n",
              "136      Distrito Federal    3094325            1871089.0         0.604684\n",
              "\n",
              "[137 rows x 4 columns]"
            ]
          },
          "metadata": {},
          "execution_count": 313
        }
      ]
    },
    {
      "cell_type": "code",
      "metadata": {
        "colab": {
          "base_uri": "https://localhost:8080/"
        },
        "id": "PUWmj9rSSDuq",
        "outputId": "13a8428c-8d47-4c43-e3a3-a3e7677330dc"
      },
      "source": [
        "!unzip 'gdrive/MyDrive/Brasil/Malha_municipal/BR_Mesorregioes_2020.zip'\n",
        "shp_file = gpd.read_file(f'BR_Mesorregioes_2020.shp')\n",
        "shp_file.to_file(f'BR_Mesorregioes_2020.geojson',\n",
        "               driver='GeoJSON')\n",
        "pe_mun = f'BR_Mesorregioes_2020.geojson'\n",
        "geo_json_data = json.load(open(pe_mun))"
      ],
      "execution_count": 98,
      "outputs": [
        {
          "output_type": "stream",
          "name": "stdout",
          "text": [
            "Archive:  gdrive/MyDrive/Brasil/Malha_municipal/BR_Mesorregioes_2020.zip\n",
            "replace BR_Mesorregioes_2020.cpg? [y]es, [n]o, [A]ll, [N]one, [r]ename: A\n",
            "  inflating: BR_Mesorregioes_2020.cpg  \n",
            "  inflating: BR_Mesorregioes_2020.dbf  \n",
            "  inflating: BR_Mesorregioes_2020.prj  \n",
            "  inflating: BR_Mesorregioes_2020.shp  \n",
            "  inflating: BR_Mesorregioes_2020.shx  \n"
          ]
        }
      ]
    },
    {
      "cell_type": "code",
      "metadata": {
        "colab": {
          "base_uri": "https://localhost:8080/"
        },
        "id": "vr6g9kZwro5g",
        "outputId": "fd0c740e-1db3-46c8-beff-f43ac8ac7cba"
      },
      "source": [
        "for i in range(len(geo_json_data['features'])):\n",
        "  if geo_json_data['features'][i]['properties']['SIGLA_UF'] == 'DF':\n",
        "    print(geo_json_data['features'][i]['properties'])"
      ],
      "execution_count": 307,
      "outputs": [
        {
          "output_type": "stream",
          "name": "stdout",
          "text": [
            "{'CD_MESO': '5301', 'NM_MESO': 'Distrito Federal', 'SIGLA_UF': 'DF', 'style': {'weight': 1, 'opacity': 0.4, 'color': 'black', 'fillOpacity': 0.9, 'fillColor': 'black'}, 'highlight': {}}\n"
          ]
        }
      ]
    },
    {
      "cell_type": "code",
      "metadata": {
        "id": "Tgg5HQG7jAih"
      },
      "source": [
        "map = folium.Map(width='100%', height='100%', location = [-15.8420, -47.9428], zoom_start = 4)\n",
        "\n",
        "map.choropleth(geo_data = geo_json_data, name = 'Cobertura vacinal completa', data = br_final, columns = ['Mesorregiao', 'Fração vacinada'],\n",
        "              key_on = 'feature.properties.NM_MESO', fill_color = 'YlGnBu', fill_opacity = 0.9, line_color = 'black',\n",
        "              line_opacity = 0.4,\n",
        "              show = False,\n",
        "              legend_name = f'Cobertura vacinal completa ({date})',\n",
        "              bins = [0,0.2,0.3,0.4,0.5,0.6,0.7,0.8,0.9,1])\n",
        "\n",
        "map.save('vaccine_BR_2_dose.html')"
      ],
      "execution_count": 314,
      "outputs": []
    },
    {
      "cell_type": "code",
      "metadata": {
        "colab": {
          "base_uri": "https://localhost:8080/"
        },
        "id": "3MXBh9iIr1JM",
        "outputId": "49d0d27f-8c50-470c-96d0-462ee8dd3207"
      },
      "source": [
        "len(geo_json_data['features'])"
      ],
      "execution_count": 116,
      "outputs": [
        {
          "output_type": "execute_result",
          "data": {
            "text/plain": [
              "137"
            ]
          },
          "metadata": {},
          "execution_count": 116
        }
      ]
    },
    {
      "cell_type": "code",
      "metadata": {
        "id": "cH1sPy-NzeIo"
      },
      "source": [
        "df = pd.DataFrame({'D614G': [874.018,6587.391,10135.565,15180.517,\n",
        "                                40025.723,92238.510,\n",
        "                                 1000.000,411.183,470.451,188.302,209.719,155.949,\n",
        "                                   77.426,204.146],\n",
        "                      'Type': ['Vax + Infec','Vax + Infec','Vax + Infec','Vax + Infec',\n",
        "                               'Vax + Infec','Vax + Infec','BNT162b2','BNT162b2',\n",
        "                               'BNT162b2','BNT162b2','BNT162b2','BNT162b2','BNT162b2',\n",
        "                               'BNT162b2'],\n",
        "                      'Omicron': [1668.101,649.928,457.951,496.485,331.488,0.960,\n",
        "                                  42.813,23.045,15.386,15.386,11.441,4.833,0.960,\n",
        "                                  0.960]})"
      ],
      "execution_count": 120,
      "outputs": []
    },
    {
      "cell_type": "code",
      "metadata": {
        "id": "K2ZM9zaXyz35"
      },
      "source": [
        "th = 25"
      ],
      "execution_count": 121,
      "outputs": []
    },
    {
      "cell_type": "code",
      "metadata": {
        "colab": {
          "base_uri": "https://localhost:8080/",
          "height": 585
        },
        "id": "txWY_wiPzhvI",
        "outputId": "61ead913-e7c7-4d09-e4d6-6153e7052496"
      },
      "source": [
        "fig = plt.figure(figsize=(10,8))\n",
        "\n",
        "samples = [df.loc[df['Type'] == 'Vax + Infec']['D614G'],\n",
        "           df.loc[df['Type'] == 'BNT162b2']['D614G'],\n",
        "           df.loc[df['Type'] == 'Vax + Infec']['Omicron'],\n",
        "           df.loc[df['Type'] == 'BNT162b2']['Omicron']]\n",
        "\n",
        "position = [-0.25,0.25,1.25,1.75]\n",
        "\n",
        "colors = ['lightseagreen','olivedrab',\n",
        "          'lightseagreen','olivedrab']\n",
        "\n",
        "label = ['Imunização híbrida', '2 doses (Pfizer-BioNTech)']\n",
        "\n",
        "for i in range(len(samples)):\n",
        "  if i < 2:\n",
        "    bp1 = plt.boxplot(samples[i], patch_artist = True, medianprops=dict(color='black'),\n",
        "            whis = (2.5, 97.5), positions = [position[i]], widths = [0.4],\n",
        "            boxprops=dict(facecolor=colors[i]), flierprops=dict(marker='o',\n",
        "                                                                markerfacecolor=colors[i],\n",
        "                                                                markeredgecolor='k'))\n",
        "    plt.fill_between([-3,-2], 0, 1, label = label[i], color = colors[i])\n",
        "  else:\n",
        "    bp1 = plt.boxplot(samples[i], patch_artist = True, medianprops=dict(color='black'),\n",
        "            whis = (2.5, 97.5), positions = [position[i]], widths = [0.4],\n",
        "            boxprops=dict(facecolor=colors[i]), flierprops=dict(marker='o',\n",
        "                                                                markerfacecolor=colors[i],\n",
        "                                                                markeredgecolor='k'))\n",
        "\n",
        "plt.xticks([0, 1.5], labels = ['D614G', 'Ômicron'], fontsize = 16)\n",
        "plt.yscale('log')\n",
        "plt.ylabel('FRNT50', fontsize = 16)\n",
        "plt.hlines(th, -1, 2, linestyles='dashed')\n",
        "plt.xlim(-0.5, 2)\n",
        "plt.suptitle('Redução de neutralização pela variante Ômicron', fontsize = 20)\n",
        "plt.legend(loc='upper right', fontsize = 14)\n",
        "plt.text(0.48, 3e5, 'N amostras = 14', fontsize = 14)\n",
        "plt.title('Gráfico adaptado do preprint')\n",
        "plt.text(-0.48, 18, 'Plasma mais concentrado testado')\n",
        "plt.text(-0.5, 0.1, 'Preprint: Cele. S., Jackson. L., ... & Sigal, A. (2021). SARS-CoV-2 Omicron has extensive but'\n",
        "'\\n'\n",
        "'incomplete escape of Pfizer BNT162b2 elicited neutralization and requires ACE2 for infection', fontsize = 12)\n",
        "fig.patch.set_alpha(1)\n",
        "for ax in fig.axes:\n",
        "    ax.patch.set_alpha(1)"
      ],
      "execution_count": 166,
      "outputs": [
        {
          "output_type": "display_data",
          "data": {
            "image/png": "[encoded data removed]",
            "text/plain": [
              "<Figure size 720x576 with 1 Axes>"
            ]
          },
          "metadata": {}
        }
      ]
    },
    {
      "cell_type": "code",
      "metadata": {
        "id": "LwfDhTmRz756"
      },
      "source": [
        ""
      ],
      "execution_count": null,
      "outputs": []
    }
  ]
}