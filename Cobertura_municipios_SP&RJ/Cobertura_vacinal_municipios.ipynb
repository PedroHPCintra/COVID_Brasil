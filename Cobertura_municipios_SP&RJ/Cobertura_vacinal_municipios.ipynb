{
  "nbformat": 4,
  "nbformat_minor": 0,
  "metadata": {
    "colab": {
      "name": "Cobertura_vacinal_municipios.ipynb",
      "provenance": []
    },
    "kernelspec": {
      "name": "python3",
      "display_name": "Python 3"
    },
    "language_info": {
      "name": "python"
    }
  },
  "cells": [
    {
      "cell_type": "markdown",
      "metadata": {
        "id": "48wF2p5h_6Nk"
      },
      "source": [
        "Dados SP: [https://www.saopaulo.sp.gov.br/planosp/simi/dados-abertos/](https://www.saopaulo.sp.gov.br/planosp/simi/dados-abertos/)\n",
        "\n",
        "Dados RJ: [https://qsprod.saude.gov.br/extensions/DEMAS_C19Vacina/DEMAS_C19Vacina.html](https://qsprod.saude.gov.br/extensions/DEMAS_C19Vacina/DEMAS_C19Vacina.html)"
      ]
    },
    {
      "cell_type": "code",
      "metadata": {
        "id": "XiqSO0PF_Ulg"
      },
      "source": [
        "import matplotlib.pyplot as plt\n",
        "import numpy as np\n",
        "import pandas as pd\n",
        "import datetime\n",
        "import io\n",
        "from PIL import Image\n",
        "import folium\n",
        "from folium import plugins\n",
        "import json"
      ],
      "execution_count": null,
      "outputs": []
    },
    {
      "cell_type": "code",
      "metadata": {
        "colab": {
          "base_uri": "https://localhost:8080/"
        },
        "id": "bGLqTOvpHKp5",
        "outputId": "a7c982d8-2691-4903-b3eb-5e6f8e1dc950"
      },
      "source": [
        "!pip install geopandas\n",
        "import geopandas as gpd"
      ],
      "execution_count": 2,
      "outputs": [
        {
          "output_type": "stream",
          "name": "stdout",
          "text": [
            "Collecting geopandas\n",
            "  Downloading geopandas-0.9.0-py2.py3-none-any.whl (994 kB)\n",
            "\u001b[K     |████████████████████████████████| 994 kB 43.4 MB/s \n",
            "\u001b[?25hCollecting fiona>=1.8\n",
            "  Downloading Fiona-1.8.20-cp37-cp37m-manylinux1_x86_64.whl (15.4 MB)\n",
            "\u001b[K     |████████████████████████████████| 15.4 MB 39 kB/s \n",
            "\u001b[?25hCollecting pyproj>=2.2.0\n",
            "  Downloading pyproj-3.2.1-cp37-cp37m-manylinux2010_x86_64.whl (6.3 MB)\n",
            "\u001b[K     |████████████████████████████████| 6.3 MB 44.9 MB/s \n",
            "\u001b[?25hRequirement already satisfied: pandas>=0.24.0 in /usr/local/lib/python3.7/dist-packages (from geopandas) (1.1.5)\n",
            "Requirement already satisfied: shapely>=1.6 in /usr/local/lib/python3.7/dist-packages (from geopandas) (1.7.1)\n",
            "Requirement already satisfied: click>=4.0 in /usr/local/lib/python3.7/dist-packages (from fiona>=1.8->geopandas) (7.1.2)\n",
            "Requirement already satisfied: six>=1.7 in /usr/local/lib/python3.7/dist-packages (from fiona>=1.8->geopandas) (1.15.0)\n",
            "Requirement already satisfied: certifi in /usr/local/lib/python3.7/dist-packages (from fiona>=1.8->geopandas) (2021.5.30)\n",
            "Collecting cligj>=0.5\n",
            "  Downloading cligj-0.7.2-py3-none-any.whl (7.1 kB)\n",
            "Collecting click-plugins>=1.0\n",
            "  Downloading click_plugins-1.1.1-py2.py3-none-any.whl (7.5 kB)\n",
            "Requirement already satisfied: setuptools in /usr/local/lib/python3.7/dist-packages (from fiona>=1.8->geopandas) (57.4.0)\n",
            "Requirement already satisfied: attrs>=17 in /usr/local/lib/python3.7/dist-packages (from fiona>=1.8->geopandas) (21.2.0)\n",
            "Collecting munch\n",
            "  Downloading munch-2.5.0-py2.py3-none-any.whl (10 kB)\n",
            "Requirement already satisfied: numpy>=1.15.4 in /usr/local/lib/python3.7/dist-packages (from pandas>=0.24.0->geopandas) (1.19.5)\n",
            "Requirement already satisfied: python-dateutil>=2.7.3 in /usr/local/lib/python3.7/dist-packages (from pandas>=0.24.0->geopandas) (2.8.2)\n",
            "Requirement already satisfied: pytz>=2017.2 in /usr/local/lib/python3.7/dist-packages (from pandas>=0.24.0->geopandas) (2018.9)\n",
            "Installing collected packages: munch, cligj, click-plugins, pyproj, fiona, geopandas\n",
            "Successfully installed click-plugins-1.1.1 cligj-0.7.2 fiona-1.8.20 geopandas-0.9.0 munch-2.5.0 pyproj-3.2.1\n"
          ]
        }
      ]
    },
    {
      "cell_type": "code",
      "metadata": {
        "id": "pkT-mFKLBYGq"
      },
      "source": [
        "date = '2021-09-27'\n",
        "date_new = date.replace('-','')"
      ],
      "execution_count": 3,
      "outputs": []
    },
    {
      "cell_type": "code",
      "metadata": {
        "id": "rZUO_GItSK1w"
      },
      "source": [
        "sp = pd.read_csv('https://raw.githubusercontent.com/PedroHPCintra/COVID_Brasil/main/Cobertura_municipios_SP%26RJ/SP_info.csv')"
      ],
      "execution_count": 18,
      "outputs": []
    },
    {
      "cell_type": "code",
      "metadata": {
        "colab": {
          "base_uri": "https://localhost:8080/",
          "height": 204
        },
        "id": "I3mrHNyNiNJp",
        "outputId": "003a2081-eb5c-402f-b57d-4a2504c2b6f6"
      },
      "source": [
        "sp.head()"
      ],
      "execution_count": 19,
      "outputs": [
        {
          "output_type": "execute_result",
          "data": {
            "text/html": [
              "<div>\n",
              "<style scoped>\n",
              "    .dataframe tbody tr th:only-of-type {\n",
              "        vertical-align: middle;\n",
              "    }\n",
              "\n",
              "    .dataframe tbody tr th {\n",
              "        vertical-align: top;\n",
              "    }\n",
              "\n",
              "    .dataframe thead th {\n",
              "        text-align: right;\n",
              "    }\n",
              "</style>\n",
              "<table border=\"1\" class=\"dataframe\">\n",
              "  <thead>\n",
              "    <tr style=\"text-align: right;\">\n",
              "      <th></th>\n",
              "      <th>Unnamed: 0</th>\n",
              "      <th>Municipio</th>\n",
              "      <th>Codigo_IBGE</th>\n",
              "      <th>Populacao</th>\n",
              "      <th>Populacao_60+</th>\n",
              "    </tr>\n",
              "  </thead>\n",
              "  <tbody>\n",
              "    <tr>\n",
              "      <th>0</th>\n",
              "      <td>0</td>\n",
              "      <td>Adamantina</td>\n",
              "      <td>3500105</td>\n",
              "      <td>33894</td>\n",
              "      <td>7398</td>\n",
              "    </tr>\n",
              "    <tr>\n",
              "      <th>1</th>\n",
              "      <td>1</td>\n",
              "      <td>Adolfo</td>\n",
              "      <td>3500204</td>\n",
              "      <td>3447</td>\n",
              "      <td>761</td>\n",
              "    </tr>\n",
              "    <tr>\n",
              "      <th>2</th>\n",
              "      <td>2</td>\n",
              "      <td>Aguaí</td>\n",
              "      <td>3500303</td>\n",
              "      <td>35608</td>\n",
              "      <td>5245</td>\n",
              "    </tr>\n",
              "    <tr>\n",
              "      <th>3</th>\n",
              "      <td>3</td>\n",
              "      <td>Águas da Prata</td>\n",
              "      <td>3500402</td>\n",
              "      <td>7797</td>\n",
              "      <td>1729</td>\n",
              "    </tr>\n",
              "    <tr>\n",
              "      <th>4</th>\n",
              "      <td>4</td>\n",
              "      <td>Águas de Lindóia</td>\n",
              "      <td>3500501</td>\n",
              "      <td>18374</td>\n",
              "      <td>3275</td>\n",
              "    </tr>\n",
              "  </tbody>\n",
              "</table>\n",
              "</div>"
            ],
            "text/plain": [
              "   Unnamed: 0         Municipio  Codigo_IBGE  Populacao  Populacao_60+\n",
              "0           0        Adamantina      3500105      33894           7398\n",
              "1           1            Adolfo      3500204       3447            761\n",
              "2           2             Aguaí      3500303      35608           5245\n",
              "3           3    Águas da Prata      3500402       7797           1729\n",
              "4           4  Águas de Lindóia      3500501      18374           3275"
            ]
          },
          "metadata": {},
          "execution_count": 19
        }
      ]
    },
    {
      "cell_type": "code",
      "metadata": {
        "id": "llRTexTHRG5o"
      },
      "source": [
        "vacs = pd.read_csv(f'https://raw.githubusercontent.com/PedroHPCintra/COVID_Brasil/main/Cobertura_municipios_SP%26RJ/{date_new}_vacinometro.csv', sep = ';')"
      ],
      "execution_count": 20,
      "outputs": []
    },
    {
      "cell_type": "markdown",
      "metadata": {
        "id": "CynkqLD8K1CX"
      },
      "source": [
        "Devido à acentuação o nome de alguns municípios no arquivo de informações do estado de São Paulo não batem com a forma escrita no arquivo de cobertura vacinal. Está célula abaixo padroniza na nomenclatura em ambos os arquivos para sincronizar as vacinas aplicadas com a população de cada município."
      ]
    },
    {
      "cell_type": "code",
      "metadata": {
        "id": "_7cNZ9DERVMF"
      },
      "source": [
        "for i in range(len(vacs)):\n",
        "  municip = ''\n",
        "  if vacs['Município'][i] == 'ARCO-ÍRIS':\n",
        "    municip += 'Arco-Íris'\n",
        "    vacs['Município'][i] = municip\n",
        "  elif vacs['Município'][i] == 'EMBU-GUAÇU':\n",
        "    municip += 'Embu-Guaçu'\n",
        "    vacs['Município'][i] = municip\n",
        "  elif vacs['Município'][i] == \"ESTRELA D'OESTE\":\n",
        "    municip += \"Estrela d'Oeste\"\n",
        "    vacs['Município'][i] = municip\n",
        "  elif vacs['Município'][i] == \"APARECIDA D'OESTE\":\n",
        "    municip += \"Aparecida d'Oeste\"\n",
        "    vacs['Município'][i] = municip\n",
        "  elif vacs['Município'][i] == \"GUARANI D'OESTE\":\n",
        "    municip = \"Guarani d'Oeste\"\n",
        "    vacs['Município'][i] = municip\n",
        "  elif vacs['Município'][i] == \"SANTA CLARA D'OESTE\":\n",
        "    municip = \"Santa Clara d'Oeste\"\n",
        "    vacs['Município'][i] = municip\n",
        "  elif vacs['Município'][i] == \"PALMEIRA D'OESTE\":\n",
        "    municip = \"Palmeira d'Oeste\"\n",
        "    vacs['Município'][i] = municip\n",
        "  elif vacs['Município'][i] == \"SANTA BÁRBARA D'OESTE\":\n",
        "    municip = \"Santa Bárbara d'Oeste\"\n",
        "    vacs['Município'][i] = municip\n",
        "  elif vacs['Município'][i] == \"SÃO JOÃO DO PAU D'ALHO\":\n",
        "    municip = \"São João do Pau d'Alho\"\n",
        "    vacs['Município'][i] = municip\n",
        "  elif vacs['Município'][i] == \"SANTA RITA D'OESTE\":\n",
        "    municip = \"Santa Rita d'Oeste\"\n",
        "    vacs['Município'][i] = municip\n",
        "  elif vacs['Município'][i] == \"PARIQUERA-AÇU\":\n",
        "    municip = \"Pariquera-Açu\"\n",
        "    vacs['Município'][i] = municip\n",
        "  else:\n",
        "    n = vacs['Município'][i].split(' ')\n",
        "    for j in range(len(n)):\n",
        "      if j < len(n)-1:\n",
        "        if n[j] == 'DE' or n[j] == 'DO' or n[j] == 'DA' or n[j] == 'DOS' or n[j] == 'DAS':\n",
        "          name = n[j].lower()\n",
        "          municip += name + ' '\n",
        "        else:\n",
        "          name = n[j][1:].lower()\n",
        "          municip += n[j][0] + name + ' '\n",
        "      else:\n",
        "        name = n[j][1:].lower()\n",
        "        municip += n[j][0] + name\n",
        "    vacs['Município'][i] = municip"
      ],
      "execution_count": null,
      "outputs": []
    },
    {
      "cell_type": "code",
      "metadata": {
        "id": "4ft5WUxpTWDb"
      },
      "source": [
        "vacs_1st = vacs.loc[vacs['Dose'] == '1° DOSE'].reset_index(drop=True)"
      ],
      "execution_count": 22,
      "outputs": []
    },
    {
      "cell_type": "code",
      "metadata": {
        "id": "JsIGmnaJcAX6"
      },
      "source": [
        "vacs_2nd = vacs.loc[vacs['Dose'] == '2° DOSE'].reset_index(drop=True)\n",
        "vacs_dose_unic = vacs.loc[vacs['Dose'] == 'UNICA'].reset_index(drop=True)"
      ],
      "execution_count": 23,
      "outputs": []
    },
    {
      "cell_type": "code",
      "metadata": {
        "colab": {
          "base_uri": "https://localhost:8080/",
          "height": 419
        },
        "id": "f_4dqL1oRPIg",
        "outputId": "9652a83d-da28-4d9c-9603-6bb0f61bb59b"
      },
      "source": [
        "vacs_1st"
      ],
      "execution_count": 24,
      "outputs": [
        {
          "output_type": "execute_result",
          "data": {
            "text/html": [
              "<div>\n",
              "<style scoped>\n",
              "    .dataframe tbody tr th:only-of-type {\n",
              "        vertical-align: middle;\n",
              "    }\n",
              "\n",
              "    .dataframe tbody tr th {\n",
              "        vertical-align: top;\n",
              "    }\n",
              "\n",
              "    .dataframe thead th {\n",
              "        text-align: right;\n",
              "    }\n",
              "</style>\n",
              "<table border=\"1\" class=\"dataframe\">\n",
              "  <thead>\n",
              "    <tr style=\"text-align: right;\">\n",
              "      <th></th>\n",
              "      <th>Município</th>\n",
              "      <th>Dose</th>\n",
              "      <th>Total Doses Aplicadas</th>\n",
              "    </tr>\n",
              "  </thead>\n",
              "  <tbody>\n",
              "    <tr>\n",
              "      <th>0</th>\n",
              "      <td>Zacarias</td>\n",
              "      <td>1° DOSE</td>\n",
              "      <td>2106</td>\n",
              "    </tr>\n",
              "    <tr>\n",
              "      <th>1</th>\n",
              "      <td>Votuporanga</td>\n",
              "      <td>1° DOSE</td>\n",
              "      <td>79403</td>\n",
              "    </tr>\n",
              "    <tr>\n",
              "      <th>2</th>\n",
              "      <td>Votorantim</td>\n",
              "      <td>1° DOSE</td>\n",
              "      <td>84202</td>\n",
              "    </tr>\n",
              "    <tr>\n",
              "      <th>3</th>\n",
              "      <td>Vitória Brasil</td>\n",
              "      <td>1° DOSE</td>\n",
              "      <td>1523</td>\n",
              "    </tr>\n",
              "    <tr>\n",
              "      <th>4</th>\n",
              "      <td>Vista Alegre do Alto</td>\n",
              "      <td>1° DOSE</td>\n",
              "      <td>6358</td>\n",
              "    </tr>\n",
              "    <tr>\n",
              "      <th>...</th>\n",
              "      <td>...</td>\n",
              "      <td>...</td>\n",
              "      <td>...</td>\n",
              "    </tr>\n",
              "    <tr>\n",
              "      <th>640</th>\n",
              "      <td>Águas de Lindóia</td>\n",
              "      <td>1° DOSE</td>\n",
              "      <td>15945</td>\n",
              "    </tr>\n",
              "    <tr>\n",
              "      <th>641</th>\n",
              "      <td>Águas da Prata</td>\n",
              "      <td>1° DOSE</td>\n",
              "      <td>6508</td>\n",
              "    </tr>\n",
              "    <tr>\n",
              "      <th>642</th>\n",
              "      <td>Aguaí</td>\n",
              "      <td>1° DOSE</td>\n",
              "      <td>26429</td>\n",
              "    </tr>\n",
              "    <tr>\n",
              "      <th>643</th>\n",
              "      <td>Adolfo</td>\n",
              "      <td>1° DOSE</td>\n",
              "      <td>3638</td>\n",
              "    </tr>\n",
              "    <tr>\n",
              "      <th>644</th>\n",
              "      <td>Adamantina</td>\n",
              "      <td>1° DOSE</td>\n",
              "      <td>29292</td>\n",
              "    </tr>\n",
              "  </tbody>\n",
              "</table>\n",
              "<p>645 rows × 3 columns</p>\n",
              "</div>"
            ],
            "text/plain": [
              "                Município     Dose  Total Doses Aplicadas\n",
              "0                Zacarias  1° DOSE                   2106\n",
              "1             Votuporanga  1° DOSE                  79403\n",
              "2              Votorantim  1° DOSE                  84202\n",
              "3          Vitória Brasil  1° DOSE                   1523\n",
              "4    Vista Alegre do Alto  1° DOSE                   6358\n",
              "..                    ...      ...                    ...\n",
              "640      Águas de Lindóia  1° DOSE                  15945\n",
              "641        Águas da Prata  1° DOSE                   6508\n",
              "642                 Aguaí  1° DOSE                  26429\n",
              "643                Adolfo  1° DOSE                   3638\n",
              "644            Adamantina  1° DOSE                  29292\n",
              "\n",
              "[645 rows x 3 columns]"
            ]
          },
          "metadata": {},
          "execution_count": 24
        }
      ]
    },
    {
      "cell_type": "code",
      "metadata": {
        "id": "8Bb2VUhRTjvu"
      },
      "source": [
        "doses_1 = []\n",
        "doses_2 = {}\n",
        "doses_2['Municipio'] = sp['Municipio']\n",
        "doses_2['Doses'] = [0 for i in range(len(doses_2['Municipio']))]\n",
        "\n",
        "for i in range(len(sp)):\n",
        "  for j in range(len(vacs_1st)):\n",
        "    if sp['Municipio'][i] == vacs_1st['Município'][j]:\n",
        "      doses_1.append(vacs_1st['Total Doses Aplicadas'][j])\n",
        "\n",
        "for i in range(len(doses_2['Municipio'])):\n",
        "  for j in range(len(vacs_2nd)):\n",
        "    if doses_2['Municipio'][i] == vacs_2nd['Município'][j]:\n",
        "      doses_2['Doses'][i] += vacs_2nd['Total Doses Aplicadas'][j]\n",
        "  for k in range(len(vacs_dose_unic)):\n",
        "    if doses_2['Municipio'][i] == vacs_dose_unic['Município'][k]:\n",
        "      doses_2['Doses'][i] += vacs_dose_unic['Total Doses Aplicadas'][k]"
      ],
      "execution_count": 25,
      "outputs": []
    },
    {
      "cell_type": "code",
      "metadata": {
        "id": "7eBhEk-wUMQZ"
      },
      "source": [
        "sp['Vacina_1_dose'] = doses_1\n",
        "sp['Imunização_completa'] = doses_2['Doses']"
      ],
      "execution_count": 26,
      "outputs": []
    },
    {
      "cell_type": "code",
      "metadata": {
        "id": "uFVHaJC8T88M"
      },
      "source": [
        "sp['Cobertura vacina 1 dose'] = sp['Vacina_1_dose']/sp['Populacao']\n",
        "sp['Cobertura vacina completa'] = sp['Imunização_completa']/sp['Populacao']"
      ],
      "execution_count": 27,
      "outputs": []
    },
    {
      "cell_type": "code",
      "metadata": {
        "id": "axp6dy-ZOFn7",
        "colab": {
          "base_uri": "https://localhost:8080/"
        },
        "outputId": "542318ab-b777-4b9b-e863-0cdb75ab1523"
      },
      "source": [
        "for i in range(len(sp)):\n",
        "  if sp['Cobertura vacina 1 dose'][i] > 1:\n",
        "    sp['Cobertura vacina 1 dose'][i] = 1"
      ],
      "execution_count": 28,
      "outputs": [
        {
          "output_type": "stream",
          "name": "stderr",
          "text": [
            "/usr/local/lib/python3.7/dist-packages/ipykernel_launcher.py:3: SettingWithCopyWarning: \n",
            "A value is trying to be set on a copy of a slice from a DataFrame\n",
            "\n",
            "See the caveats in the documentation: https://pandas.pydata.org/pandas-docs/stable/user_guide/indexing.html#returning-a-view-versus-a-copy\n",
            "  This is separate from the ipykernel package so we can avoid doing imports until\n"
          ]
        }
      ]
    },
    {
      "cell_type": "code",
      "metadata": {
        "colab": {
          "base_uri": "https://localhost:8080/",
          "height": 238
        },
        "id": "CjpoCJUYYjUo",
        "outputId": "7e249427-2e9f-4901-d890-fad3337d57ef"
      },
      "source": [
        "sp.head()"
      ],
      "execution_count": 29,
      "outputs": [
        {
          "output_type": "execute_result",
          "data": {
            "text/html": [
              "<div>\n",
              "<style scoped>\n",
              "    .dataframe tbody tr th:only-of-type {\n",
              "        vertical-align: middle;\n",
              "    }\n",
              "\n",
              "    .dataframe tbody tr th {\n",
              "        vertical-align: top;\n",
              "    }\n",
              "\n",
              "    .dataframe thead th {\n",
              "        text-align: right;\n",
              "    }\n",
              "</style>\n",
              "<table border=\"1\" class=\"dataframe\">\n",
              "  <thead>\n",
              "    <tr style=\"text-align: right;\">\n",
              "      <th></th>\n",
              "      <th>Unnamed: 0</th>\n",
              "      <th>Municipio</th>\n",
              "      <th>Codigo_IBGE</th>\n",
              "      <th>Populacao</th>\n",
              "      <th>Populacao_60+</th>\n",
              "      <th>Vacina_1_dose</th>\n",
              "      <th>Imunização_completa</th>\n",
              "      <th>Cobertura vacina 1 dose</th>\n",
              "      <th>Cobertura vacina completa</th>\n",
              "    </tr>\n",
              "  </thead>\n",
              "  <tbody>\n",
              "    <tr>\n",
              "      <th>0</th>\n",
              "      <td>0</td>\n",
              "      <td>Adamantina</td>\n",
              "      <td>3500105</td>\n",
              "      <td>33894</td>\n",
              "      <td>7398</td>\n",
              "      <td>29292</td>\n",
              "      <td>21660</td>\n",
              "      <td>0.864224</td>\n",
              "      <td>0.639051</td>\n",
              "    </tr>\n",
              "    <tr>\n",
              "      <th>1</th>\n",
              "      <td>1</td>\n",
              "      <td>Adolfo</td>\n",
              "      <td>3500204</td>\n",
              "      <td>3447</td>\n",
              "      <td>761</td>\n",
              "      <td>3638</td>\n",
              "      <td>2892</td>\n",
              "      <td>1.000000</td>\n",
              "      <td>0.838990</td>\n",
              "    </tr>\n",
              "    <tr>\n",
              "      <th>2</th>\n",
              "      <td>2</td>\n",
              "      <td>Aguaí</td>\n",
              "      <td>3500303</td>\n",
              "      <td>35608</td>\n",
              "      <td>5245</td>\n",
              "      <td>26429</td>\n",
              "      <td>19681</td>\n",
              "      <td>0.742221</td>\n",
              "      <td>0.552713</td>\n",
              "    </tr>\n",
              "    <tr>\n",
              "      <th>3</th>\n",
              "      <td>3</td>\n",
              "      <td>Águas da Prata</td>\n",
              "      <td>3500402</td>\n",
              "      <td>7797</td>\n",
              "      <td>1729</td>\n",
              "      <td>6508</td>\n",
              "      <td>4823</td>\n",
              "      <td>0.834680</td>\n",
              "      <td>0.618571</td>\n",
              "    </tr>\n",
              "    <tr>\n",
              "      <th>4</th>\n",
              "      <td>4</td>\n",
              "      <td>Águas de Lindóia</td>\n",
              "      <td>3500501</td>\n",
              "      <td>18374</td>\n",
              "      <td>3275</td>\n",
              "      <td>15945</td>\n",
              "      <td>11917</td>\n",
              "      <td>0.867802</td>\n",
              "      <td>0.648580</td>\n",
              "    </tr>\n",
              "  </tbody>\n",
              "</table>\n",
              "</div>"
            ],
            "text/plain": [
              "   Unnamed: 0  ... Cobertura vacina completa\n",
              "0           0  ...                  0.639051\n",
              "1           1  ...                  0.838990\n",
              "2           2  ...                  0.552713\n",
              "3           3  ...                  0.618571\n",
              "4           4  ...                  0.648580\n",
              "\n",
              "[5 rows x 9 columns]"
            ]
          },
          "metadata": {},
          "execution_count": 29
        }
      ]
    },
    {
      "cell_type": "code",
      "metadata": {
        "colab": {
          "base_uri": "https://localhost:8080/",
          "height": 114
        },
        "id": "GSf9-u-YPzUo",
        "outputId": "4602c18f-b6ab-4999-a028-984b2880a5ef"
      },
      "source": [
        "sp.loc[sp['Cobertura vacina completa'] == max(sp['Cobertura vacina completa'])]"
      ],
      "execution_count": 30,
      "outputs": [
        {
          "output_type": "execute_result",
          "data": {
            "text/html": [
              "<div>\n",
              "<style scoped>\n",
              "    .dataframe tbody tr th:only-of-type {\n",
              "        vertical-align: middle;\n",
              "    }\n",
              "\n",
              "    .dataframe tbody tr th {\n",
              "        vertical-align: top;\n",
              "    }\n",
              "\n",
              "    .dataframe thead th {\n",
              "        text-align: right;\n",
              "    }\n",
              "</style>\n",
              "<table border=\"1\" class=\"dataframe\">\n",
              "  <thead>\n",
              "    <tr style=\"text-align: right;\">\n",
              "      <th></th>\n",
              "      <th>Unnamed: 0</th>\n",
              "      <th>Municipio</th>\n",
              "      <th>Codigo_IBGE</th>\n",
              "      <th>Populacao</th>\n",
              "      <th>Populacao_60+</th>\n",
              "      <th>Vacina_1_dose</th>\n",
              "      <th>Imunização_completa</th>\n",
              "      <th>Cobertura vacina 1 dose</th>\n",
              "      <th>Cobertura vacina completa</th>\n",
              "    </tr>\n",
              "  </thead>\n",
              "  <tbody>\n",
              "    <tr>\n",
              "      <th>6</th>\n",
              "      <td>6</td>\n",
              "      <td>Águas de São Pedro</td>\n",
              "      <td>3500600</td>\n",
              "      <td>3122</td>\n",
              "      <td>764</td>\n",
              "      <td>3375</td>\n",
              "      <td>2636</td>\n",
              "      <td>1.0</td>\n",
              "      <td>0.844331</td>\n",
              "    </tr>\n",
              "  </tbody>\n",
              "</table>\n",
              "</div>"
            ],
            "text/plain": [
              "   Unnamed: 0  ... Cobertura vacina completa\n",
              "6           6  ...                  0.844331\n",
              "\n",
              "[1 rows x 9 columns]"
            ]
          },
          "metadata": {},
          "execution_count": 30
        }
      ]
    },
    {
      "cell_type": "code",
      "metadata": {
        "colab": {
          "base_uri": "https://localhost:8080/",
          "height": 97
        },
        "id": "Q9cs2THfk0jP",
        "outputId": "024df78b-d6b8-48f9-a1ca-d2f51c79696f"
      },
      "source": [
        "sp.loc[sp['Municipio'] == 'São Paulo']"
      ],
      "execution_count": 31,
      "outputs": [
        {
          "output_type": "execute_result",
          "data": {
            "text/html": [
              "<div>\n",
              "<style scoped>\n",
              "    .dataframe tbody tr th:only-of-type {\n",
              "        vertical-align: middle;\n",
              "    }\n",
              "\n",
              "    .dataframe tbody tr th {\n",
              "        vertical-align: top;\n",
              "    }\n",
              "\n",
              "    .dataframe thead th {\n",
              "        text-align: right;\n",
              "    }\n",
              "</style>\n",
              "<table border=\"1\" class=\"dataframe\">\n",
              "  <thead>\n",
              "    <tr style=\"text-align: right;\">\n",
              "      <th></th>\n",
              "      <th>Unnamed: 0</th>\n",
              "      <th>Municipio</th>\n",
              "      <th>Codigo_IBGE</th>\n",
              "      <th>Populacao</th>\n",
              "      <th>Populacao_60+</th>\n",
              "      <th>Vacina_1_dose</th>\n",
              "      <th>Imunização_completa</th>\n",
              "      <th>Cobertura vacina 1 dose</th>\n",
              "      <th>Cobertura vacina completa</th>\n",
              "    </tr>\n",
              "  </thead>\n",
              "  <tbody>\n",
              "    <tr>\n",
              "      <th>562</th>\n",
              "      <td>562</td>\n",
              "      <td>São Paulo</td>\n",
              "      <td>3550308</td>\n",
              "      <td>11869660</td>\n",
              "      <td>1853286</td>\n",
              "      <td>10328601</td>\n",
              "      <td>7111441</td>\n",
              "      <td>0.870168</td>\n",
              "      <td>0.599128</td>\n",
              "    </tr>\n",
              "  </tbody>\n",
              "</table>\n",
              "</div>"
            ],
            "text/plain": [
              "     Unnamed: 0  Municipio  ...  Cobertura vacina 1 dose  Cobertura vacina completa\n",
              "562         562  São Paulo  ...                 0.870168                   0.599128\n",
              "\n",
              "[1 rows x 9 columns]"
            ]
          },
          "metadata": {},
          "execution_count": 31
        }
      ]
    },
    {
      "cell_type": "code",
      "metadata": {
        "colab": {
          "base_uri": "https://localhost:8080/"
        },
        "id": "19okX6gTlKce",
        "outputId": "33d7cf1e-0fb0-496d-a80d-dfe2dfb0a4a8"
      },
      "source": [
        "np.mean(sp['Cobertura vacina completa'])"
      ],
      "execution_count": null,
      "outputs": [
        {
          "output_type": "execute_result",
          "data": {
            "text/plain": [
              "0.5839839942285775"
            ]
          },
          "metadata": {},
          "execution_count": 18
        }
      ]
    },
    {
      "cell_type": "code",
      "metadata": {
        "colab": {
          "base_uri": "https://localhost:8080/"
        },
        "id": "a3NGVXsXlM5e",
        "outputId": "b72f6e36-704c-4dec-bbd8-e9c087b6aaf3"
      },
      "source": [
        "np.median(sp['Cobertura vacina completa'])"
      ],
      "execution_count": null,
      "outputs": [
        {
          "output_type": "execute_result",
          "data": {
            "text/plain": [
              "0.5786163522012578"
            ]
          },
          "metadata": {},
          "execution_count": 19
        }
      ]
    },
    {
      "cell_type": "code",
      "metadata": {
        "colab": {
          "base_uri": "https://localhost:8080/"
        },
        "id": "RHBCk134mCUo",
        "outputId": "fedf30f1-a6bc-4e11-f8d5-7898d5dbf6c3"
      },
      "source": [
        "np.std(sp['Cobertura vacina completa'])"
      ],
      "execution_count": null,
      "outputs": [
        {
          "output_type": "execute_result",
          "data": {
            "text/plain": [
              "0.07850162203766262"
            ]
          },
          "metadata": {},
          "execution_count": 20
        }
      ]
    },
    {
      "cell_type": "code",
      "metadata": {
        "colab": {
          "base_uri": "https://localhost:8080/"
        },
        "id": "f3St9AJBlPG1",
        "outputId": "b45e621a-31c5-4795-f8b0-0850079c8afd"
      },
      "source": [
        "np.percentile(sp['Cobertura vacina completa'], 2.5), np.percentile(sp['Cobertura vacina completa'], 97.5)"
      ],
      "execution_count": null,
      "outputs": [
        {
          "output_type": "execute_result",
          "data": {
            "text/plain": [
              "(0.4416581229691044, 0.7553117647058822)"
            ]
          },
          "metadata": {},
          "execution_count": 21
        }
      ]
    },
    {
      "cell_type": "code",
      "metadata": {
        "colab": {
          "base_uri": "https://localhost:8080/",
          "height": 392
        },
        "id": "b1tl8L3tiYEx",
        "outputId": "d80bef27-eea8-493e-8afe-9e1102add392"
      },
      "source": [
        "fig = plt.figure(figsize=(12,6))\n",
        "n,x,_ = plt.hist(sp['Cobertura vacina completa'], bins=np.linspace(0,1,41), color = 'lightseagreen', edgecolor='black',\n",
        "                 alpha = 0.6)\n",
        "bin_centers = 0.5*(x[1:]+x[:-1])\n",
        "plt.plot(bin_centers,n, color = 'crimson', linestyle='dashed')\n",
        "plt.xlabel('Fração completamente imunizada', fontsize = 14)\n",
        "plt.ylabel('Quantidade de municipios', fontsize = 14)\n",
        "plt.xlim(0,1)\n",
        "fig.patch.set_alpha(1)\n",
        "for ax in fig.axes:\n",
        "    ax.patch.set_alpha(1)"
      ],
      "execution_count": null,
      "outputs": [
        {
          "output_type": "display_data",
          "data": {
            "image/png": "[encoded data removed]",
            "text/plain": [
              "<Figure size 864x432 with 1 Axes>"
            ]
          },
          "metadata": {}
        }
      ]
    },
    {
      "cell_type": "code",
      "metadata": {
        "id": "B63mpZcUY-z-"
      },
      "source": [
        "sp['Codigo_IBGE'] = sp['Codigo_IBGE'].astype(str)"
      ],
      "execution_count": 32,
      "outputs": []
    },
    {
      "cell_type": "code",
      "metadata": {
        "colab": {
          "base_uri": "https://localhost:8080/"
        },
        "id": "9PjRTyHmH8zI",
        "outputId": "bfd7a484-8f68-4951-a26f-e5aff27039fe"
      },
      "source": [
        "!wget 'https://github.com/PedroHPCintra/COVID_Brasil/raw/main/Cobertura_municipios_SP%26RJ/SP_Municipios_2020.zip'"
      ],
      "execution_count": 33,
      "outputs": [
        {
          "output_type": "stream",
          "name": "stdout",
          "text": [
            "--2021-09-30 23:52:46--  https://github.com/PedroHPCintra/COVID_Brasil/raw/main/Cobertura_municipios_SP%26RJ/SP_Municipios_2020.zip\n",
            "Resolving github.com (github.com)... 140.82.114.4\n",
            "Connecting to github.com (github.com)|140.82.114.4|:443... connected.\n",
            "HTTP request sent, awaiting response... 302 Found\n",
            "Location: https://raw.githubusercontent.com/PedroHPCintra/COVID_Brasil/main/Cobertura_municipios_SP%26RJ/SP_Municipios_2020.zip [following]\n",
            "--2021-09-30 23:52:46--  https://raw.githubusercontent.com/PedroHPCintra/COVID_Brasil/main/Cobertura_municipios_SP%26RJ/SP_Municipios_2020.zip\n",
            "Resolving raw.githubusercontent.com (raw.githubusercontent.com)... 185.199.108.133, 185.199.109.133, 185.199.110.133, ...\n",
            "Connecting to raw.githubusercontent.com (raw.githubusercontent.com)|185.199.108.133|:443... connected.\n",
            "HTTP request sent, awaiting response... 200 OK\n",
            "Length: 18734553 (18M) [application/zip]\n",
            "Saving to: ‘SP_Municipios_2020.zip’\n",
            "\n",
            "SP_Municipios_2020. 100%[===================>]  17.87M  --.-KB/s    in 0.1s    \n",
            "\n",
            "2021-09-30 23:52:46 (178 MB/s) - ‘SP_Municipios_2020.zip’ saved [18734553/18734553]\n",
            "\n"
          ]
        }
      ]
    },
    {
      "cell_type": "code",
      "metadata": {
        "colab": {
          "base_uri": "https://localhost:8080/"
        },
        "id": "YM-G2qF7H_ju",
        "outputId": "8c30b2b5-310c-4514-945e-bd6956bb6106"
      },
      "source": [
        "!unzip SP_Municipios_2020.zip"
      ],
      "execution_count": 34,
      "outputs": [
        {
          "output_type": "stream",
          "name": "stdout",
          "text": [
            "Archive:  SP_Municipios_2020.zip\n",
            "   creating: SP_Municipios_2020/\n",
            "  inflating: SP_Municipios_2020/SP_Municipios_2020.dbf  \n",
            "  inflating: SP_Municipios_2020/SP_Municipios_2020.prj  \n",
            "  inflating: SP_Municipios_2020/SP_Municipios_2020.shx  \n",
            "  inflating: SP_Municipios_2020/SP_Municipios_2020.cpg  \n",
            "  inflating: SP_Municipios_2020/SP_Municipios_2020.geojson  \n",
            "  inflating: SP_Municipios_2020/SP_Municipios_2020.shp  \n"
          ]
        }
      ]
    },
    {
      "cell_type": "code",
      "metadata": {
        "id": "CHqOQ3O2LS8N"
      },
      "source": [
        "shp_file = gpd.read_file('SP_Municipios_2020/SP_Municipios_2020.shp')"
      ],
      "execution_count": 35,
      "outputs": []
    },
    {
      "cell_type": "code",
      "metadata": {
        "id": "JRnM4ENHTsIT"
      },
      "source": [
        "shp_file.to_file('SP_Municipios_2020/SP_Municipios_2020.geojson',\n",
        "                 driver='GeoJSON')"
      ],
      "execution_count": 36,
      "outputs": []
    },
    {
      "cell_type": "code",
      "metadata": {
        "id": "buDM4V2sTvR8"
      },
      "source": [
        "sp_mun = 'SP_Municipios_2020/SP_Municipios_2020.geojson'"
      ],
      "execution_count": 37,
      "outputs": []
    },
    {
      "cell_type": "code",
      "metadata": {
        "id": "yJsbKIHzTyVj"
      },
      "source": [
        "geo_json_data = json.load(open(sp_mun))"
      ],
      "execution_count": 38,
      "outputs": []
    },
    {
      "cell_type": "code",
      "metadata": {
        "id": "4PmpjfBgLFDJ"
      },
      "source": [
        "map = folium.Map(width='100%', height='100%', location = [-23.618237, -46.635197], zoom_start = 6)"
      ],
      "execution_count": null,
      "outputs": []
    },
    {
      "cell_type": "code",
      "metadata": {
        "colab": {
          "base_uri": "https://localhost:8080/"
        },
        "id": "IcdH_7ebbgZo",
        "outputId": "2a7398ff-954d-4fc5-b801-02ef4d331f7a"
      },
      "source": [
        "map.choropleth(geo_data = geo_json_data, name = 'Cobertura vacinal completa', data = sp, columns = ['Codigo_IBGE', 'Cobertura vacina completa'],\n",
        "               key_on = 'feature.properties.CD_MUN', fill_color = 'YlGnBu', fill_opacity = 0.9, line_color = 'black',\n",
        "               line_opacity = 0.6,\n",
        "               show = False,\n",
        "               legend_name = f'Cobertura vacinal completa ({date})',\n",
        "               bins = [0.1,0.2,0.3,0.4,0.5,0.6,0.7,0.8,0.9,1])"
      ],
      "execution_count": null,
      "outputs": [
        {
          "output_type": "stream",
          "name": "stderr",
          "text": [
            "/usr/local/lib/python3.7/dist-packages/folium/folium.py:426: FutureWarning: The choropleth  method has been deprecated. Instead use the new Choropleth class, which has the same arguments. See the example notebook 'GeoJSON_and_choropleth' for how to do this.\n",
            "  FutureWarning\n"
          ]
        }
      ]
    },
    {
      "cell_type": "code",
      "metadata": {
        "id": "Kkr0TkcTT6w-"
      },
      "source": [
        "map.save('vaccine_sp_2_dose.html')"
      ],
      "execution_count": null,
      "outputs": []
    },
    {
      "cell_type": "code",
      "metadata": {
        "id": "eGaFdUmhdeBr"
      },
      "source": [
        "df = pd.read_csv('https://github.com/PedroHPCintra/COVID_Brasil/raw/main/Cobertura_municipios_SP%26RJ/cobertura_vacinal_brasil_por_municipio.csv')"
      ],
      "execution_count": 40,
      "outputs": []
    },
    {
      "cell_type": "code",
      "metadata": {
        "id": "xqmkZ_KQtC4v"
      },
      "source": [
        "rj = df.loc[df['UF'] == 'RJ'].reset_index(drop=True)"
      ],
      "execution_count": 42,
      "outputs": []
    },
    {
      "cell_type": "code",
      "metadata": {
        "id": "gk36UDllva6N"
      },
      "source": [
        "for i in range(len(rj)):\n",
        "  municip = ''\n",
        "  if rj['Município'][i] == 'Varre-Sai':\n",
        "    municip += 'Varre-Sai'\n",
        "    rj['Município'][i] = municip\n",
        "  else:\n",
        "    n = rj['Município'][i].split(' ')\n",
        "    for j in range(len(n)):\n",
        "      if j < len(n)-1:\n",
        "        if n[j] == 'De' or n[j] == 'Do' or n[j] == 'Da' or n[j] == 'Dos' or n[j] == 'Das':\n",
        "          name = n[j].lower()\n",
        "          municip += name + ' '\n",
        "        else:\n",
        "          name = n[j][1:].lower()\n",
        "          municip += n[j][0] + name + ' '\n",
        "      else:\n",
        "        name = n[j][1:].lower()\n",
        "        municip += n[j][0] + name\n",
        "  rj['Município'][i] = municip"
      ],
      "execution_count": null,
      "outputs": []
    },
    {
      "cell_type": "code",
      "metadata": {
        "id": "PosKTuHC_SnT"
      },
      "source": [
        "rj = rj.drop([368])"
      ],
      "execution_count": 44,
      "outputs": []
    },
    {
      "cell_type": "code",
      "metadata": {
        "id": "f2ezwzNB9zbs"
      },
      "source": [
        "rj_pops = pd.read_csv('https://raw.githubusercontent.com/PedroHPCintra/COVID_Brasil/main/Cobertura_municipios_SP%26RJ/Rio_popula%C3%A7oes.csv')"
      ],
      "execution_count": 41,
      "outputs": []
    },
    {
      "cell_type": "code",
      "metadata": {
        "id": "StR-0Ipq9-Ya"
      },
      "source": [
        "pops = []\n",
        "\n",
        "for i in range(len(rj)):\n",
        "  pops.append(rj_pops.loc[rj_pops['Municipio'] == rj['Município'][i]]['Populacao'].values[0])\n",
        "\n",
        "rj['Populacao'] = pops"
      ],
      "execution_count": 45,
      "outputs": []
    },
    {
      "cell_type": "code",
      "metadata": {
        "colab": {
          "base_uri": "https://localhost:8080/",
          "height": 204
        },
        "id": "ylGGWl6n9HR9",
        "outputId": "6f837f07-f613-475c-8aa7-074865eed638"
      },
      "source": [
        "rj.head()"
      ],
      "execution_count": 46,
      "outputs": [
        {
          "output_type": "execute_result",
          "data": {
            "text/html": [
              "<div>\n",
              "<style scoped>\n",
              "    .dataframe tbody tr th:only-of-type {\n",
              "        vertical-align: middle;\n",
              "    }\n",
              "\n",
              "    .dataframe tbody tr th {\n",
              "        vertical-align: top;\n",
              "    }\n",
              "\n",
              "    .dataframe thead th {\n",
              "        text-align: right;\n",
              "    }\n",
              "</style>\n",
              "<table border=\"1\" class=\"dataframe\">\n",
              "  <thead>\n",
              "    <tr style=\"text-align: right;\">\n",
              "      <th></th>\n",
              "      <th>Município</th>\n",
              "      <th>Cód. IBGE</th>\n",
              "      <th>UF</th>\n",
              "      <th>Região</th>\n",
              "      <th>Fabricante</th>\n",
              "      <th>Doses Aplicadas</th>\n",
              "      <th>Dose 1</th>\n",
              "      <th>Dose 2</th>\n",
              "      <th>Populacao</th>\n",
              "    </tr>\n",
              "  </thead>\n",
              "  <tbody>\n",
              "    <tr>\n",
              "      <th>0</th>\n",
              "      <td>Angra dos Reis</td>\n",
              "      <td>330010</td>\n",
              "      <td>RJ</td>\n",
              "      <td>Sudeste</td>\n",
              "      <td>FIOCRUZ/ASTRAZENECA</td>\n",
              "      <td>95803</td>\n",
              "      <td>58145</td>\n",
              "      <td>37625</td>\n",
              "      <td>207044</td>\n",
              "    </tr>\n",
              "    <tr>\n",
              "      <th>1</th>\n",
              "      <td>Angra dos Reis</td>\n",
              "      <td>330010</td>\n",
              "      <td>RJ</td>\n",
              "      <td>Sudeste</td>\n",
              "      <td>BUTANTAN/SINOVAC</td>\n",
              "      <td>53301</td>\n",
              "      <td>28756</td>\n",
              "      <td>24545</td>\n",
              "      <td>207044</td>\n",
              "    </tr>\n",
              "    <tr>\n",
              "      <th>2</th>\n",
              "      <td>Angra dos Reis</td>\n",
              "      <td>330010</td>\n",
              "      <td>RJ</td>\n",
              "      <td>Sudeste</td>\n",
              "      <td>PFIZER/BIONTECH</td>\n",
              "      <td>45186</td>\n",
              "      <td>39217</td>\n",
              "      <td>5584</td>\n",
              "      <td>207044</td>\n",
              "    </tr>\n",
              "    <tr>\n",
              "      <th>3</th>\n",
              "      <td>Angra dos Reis</td>\n",
              "      <td>330010</td>\n",
              "      <td>RJ</td>\n",
              "      <td>Sudeste</td>\n",
              "      <td>JANSSEN</td>\n",
              "      <td>4390</td>\n",
              "      <td>0</td>\n",
              "      <td>0</td>\n",
              "      <td>207044</td>\n",
              "    </tr>\n",
              "    <tr>\n",
              "      <th>4</th>\n",
              "      <td>Aperibé</td>\n",
              "      <td>330015</td>\n",
              "      <td>RJ</td>\n",
              "      <td>Sudeste</td>\n",
              "      <td>FIOCRUZ/ASTRAZENECA</td>\n",
              "      <td>7539</td>\n",
              "      <td>4306</td>\n",
              "      <td>3233</td>\n",
              "      <td>11901</td>\n",
              "    </tr>\n",
              "  </tbody>\n",
              "</table>\n",
              "</div>"
            ],
            "text/plain": [
              "        Município  Cód. IBGE  UF  ... Dose 1 Dose 2  Populacao\n",
              "0  Angra dos Reis     330010  RJ  ...  58145  37625     207044\n",
              "1  Angra dos Reis     330010  RJ  ...  28756  24545     207044\n",
              "2  Angra dos Reis     330010  RJ  ...  39217   5584     207044\n",
              "3  Angra dos Reis     330010  RJ  ...      0      0     207044\n",
              "4         Aperibé     330015  RJ  ...   4306   3233      11901\n",
              "\n",
              "[5 rows x 9 columns]"
            ]
          },
          "metadata": {},
          "execution_count": 46
        }
      ]
    },
    {
      "cell_type": "code",
      "metadata": {
        "id": "US6YjIRbA1Gi"
      },
      "source": [
        "rj_final = {}\n",
        "muns = []\n",
        "doses = []\n",
        "\n",
        "for i in range(len(rj_pops)):\n",
        "  muns.append(rj_pops['Municipio'][i])\n",
        "  rj_doses = rj.loc[rj['Município'] == rj_pops['Municipio'][i]]\n",
        "  doses.append(np.sum(rj_doses['Dose 2'].values)+rj_doses.loc[rj_doses['Fabricante'] == 'JANSSEN']['Doses Aplicadas'].values)"
      ],
      "execution_count": 47,
      "outputs": []
    },
    {
      "cell_type": "code",
      "metadata": {
        "id": "S1PQxqV8BbEZ"
      },
      "source": [
        "rj_final['Municipio'] = muns\n",
        "rj_final['Imunização completa'] = np.array(doses)[:,0]\n",
        "rj_final['Populacao'] = rj_pops['Populacao']\n",
        "rj_final['Cobertura vacinal'] = rj_final['Imunização completa']/rj_final['Populacao']"
      ],
      "execution_count": 48,
      "outputs": []
    },
    {
      "cell_type": "code",
      "metadata": {
        "id": "rh-uB3teBisj"
      },
      "source": [
        "rj_final = pd.DataFrame(rj_final)"
      ],
      "execution_count": 49,
      "outputs": []
    },
    {
      "cell_type": "code",
      "metadata": {
        "colab": {
          "base_uri": "https://localhost:8080/",
          "height": 80
        },
        "id": "W-v-cMFaFV0d",
        "outputId": "b0a7fbb9-5f23-4385-a486-5c3c4b2ea2cb"
      },
      "source": [
        "rj_final.loc[rj_final['Municipio'] == 'Rio de Janeiro']"
      ],
      "execution_count": 50,
      "outputs": [
        {
          "output_type": "execute_result",
          "data": {
            "text/html": [
              "<div>\n",
              "<style scoped>\n",
              "    .dataframe tbody tr th:only-of-type {\n",
              "        vertical-align: middle;\n",
              "    }\n",
              "\n",
              "    .dataframe tbody tr th {\n",
              "        vertical-align: top;\n",
              "    }\n",
              "\n",
              "    .dataframe thead th {\n",
              "        text-align: right;\n",
              "    }\n",
              "</style>\n",
              "<table border=\"1\" class=\"dataframe\">\n",
              "  <thead>\n",
              "    <tr style=\"text-align: right;\">\n",
              "      <th></th>\n",
              "      <th>Municipio</th>\n",
              "      <th>Imunização completa</th>\n",
              "      <th>Populacao</th>\n",
              "      <th>Cobertura vacinal</th>\n",
              "    </tr>\n",
              "  </thead>\n",
              "  <tbody>\n",
              "    <tr>\n",
              "      <th>0</th>\n",
              "      <td>Rio de Janeiro</td>\n",
              "      <td>3637006</td>\n",
              "      <td>6747815</td>\n",
              "      <td>0.53899</td>\n",
              "    </tr>\n",
              "  </tbody>\n",
              "</table>\n",
              "</div>"
            ],
            "text/plain": [
              "        Municipio  Imunização completa  Populacao  Cobertura vacinal\n",
              "0  Rio de Janeiro              3637006    6747815            0.53899"
            ]
          },
          "metadata": {},
          "execution_count": 50
        }
      ]
    },
    {
      "cell_type": "code",
      "metadata": {
        "colab": {
          "base_uri": "https://localhost:8080/",
          "height": 80
        },
        "id": "99KGR43uGO6z",
        "outputId": "a8c1fd00-7172-4f47-a072-a4220a2baff0"
      },
      "source": [
        "rj_final.loc[rj_final['Cobertura vacinal'] == max(rj_final['Cobertura vacinal'])]"
      ],
      "execution_count": 51,
      "outputs": [
        {
          "output_type": "execute_result",
          "data": {
            "text/html": [
              "<div>\n",
              "<style scoped>\n",
              "    .dataframe tbody tr th:only-of-type {\n",
              "        vertical-align: middle;\n",
              "    }\n",
              "\n",
              "    .dataframe tbody tr th {\n",
              "        vertical-align: top;\n",
              "    }\n",
              "\n",
              "    .dataframe thead th {\n",
              "        text-align: right;\n",
              "    }\n",
              "</style>\n",
              "<table border=\"1\" class=\"dataframe\">\n",
              "  <thead>\n",
              "    <tr style=\"text-align: right;\">\n",
              "      <th></th>\n",
              "      <th>Municipio</th>\n",
              "      <th>Imunização completa</th>\n",
              "      <th>Populacao</th>\n",
              "      <th>Cobertura vacinal</th>\n",
              "    </tr>\n",
              "  </thead>\n",
              "  <tbody>\n",
              "    <tr>\n",
              "      <th>91</th>\n",
              "      <td>Macuco</td>\n",
              "      <td>4327</td>\n",
              "      <td>5623</td>\n",
              "      <td>0.769518</td>\n",
              "    </tr>\n",
              "  </tbody>\n",
              "</table>\n",
              "</div>"
            ],
            "text/plain": [
              "   Municipio  Imunização completa  Populacao  Cobertura vacinal\n",
              "91    Macuco                 4327       5623           0.769518"
            ]
          },
          "metadata": {},
          "execution_count": 51
        }
      ]
    },
    {
      "cell_type": "code",
      "metadata": {
        "colab": {
          "base_uri": "https://localhost:8080/"
        },
        "id": "6RgdsjGnJArV",
        "outputId": "483a50c9-a419-430c-87ee-b3af9067f440"
      },
      "source": [
        "!wget 'https://github.com/PedroHPCintra/COVID_Brasil/raw/main/Cobertura_municipios_SP%26RJ/RJ_Municipios_2020.zip'"
      ],
      "execution_count": 52,
      "outputs": [
        {
          "output_type": "stream",
          "name": "stdout",
          "text": [
            "--2021-09-30 23:57:21--  https://github.com/PedroHPCintra/COVID_Brasil/raw/main/Cobertura_municipios_SP%26RJ/RJ_Municipios_2020.zip\n",
            "Resolving github.com (github.com)... 140.82.114.4\n",
            "Connecting to github.com (github.com)|140.82.114.4|:443... connected.\n",
            "HTTP request sent, awaiting response... 302 Found\n",
            "Location: https://raw.githubusercontent.com/PedroHPCintra/COVID_Brasil/main/Cobertura_municipios_SP%26RJ/RJ_Municipios_2020.zip [following]\n",
            "--2021-09-30 23:57:21--  https://raw.githubusercontent.com/PedroHPCintra/COVID_Brasil/main/Cobertura_municipios_SP%26RJ/RJ_Municipios_2020.zip\n",
            "Resolving raw.githubusercontent.com (raw.githubusercontent.com)... 185.199.108.133, 185.199.109.133, 185.199.110.133, ...\n",
            "Connecting to raw.githubusercontent.com (raw.githubusercontent.com)|185.199.108.133|:443... connected.\n",
            "HTTP request sent, awaiting response... 200 OK\n",
            "Length: 5305814 (5.1M) [application/zip]\n",
            "Saving to: ‘RJ_Municipios_2020.zip’\n",
            "\n",
            "RJ_Municipios_2020. 100%[===================>]   5.06M  --.-KB/s    in 0.03s   \n",
            "\n",
            "2021-09-30 23:57:21 (187 MB/s) - ‘RJ_Municipios_2020.zip’ saved [5305814/5305814]\n",
            "\n"
          ]
        }
      ]
    },
    {
      "cell_type": "code",
      "metadata": {
        "colab": {
          "base_uri": "https://localhost:8080/"
        },
        "id": "mh5I6g6mJCnk",
        "outputId": "b57235ac-8ede-4596-b556-f0af9d33353f"
      },
      "source": [
        "!unzip 'RJ_Municipios_2020.zip'"
      ],
      "execution_count": 53,
      "outputs": [
        {
          "output_type": "stream",
          "name": "stdout",
          "text": [
            "Archive:  RJ_Municipios_2020.zip\n",
            "  inflating: RJ_Municipios_2020.cpg  \n",
            "  inflating: RJ_Municipios_2020.dbf  \n",
            "  inflating: RJ_Municipios_2020.prj  \n",
            "  inflating: RJ_Municipios_2020.shp  \n",
            "  inflating: RJ_Municipios_2020.shx  \n"
          ]
        }
      ]
    },
    {
      "cell_type": "code",
      "metadata": {
        "id": "t-lmA79auv5O"
      },
      "source": [
        "shp_file = gpd.read_file('RJ_Municipios_2020.shp')"
      ],
      "execution_count": 54,
      "outputs": []
    },
    {
      "cell_type": "code",
      "metadata": {
        "id": "XFi93lyvuv5P"
      },
      "source": [
        "shp_file.to_file('RJ_Municipios_2020.geojson',\n",
        "                 driver='GeoJSON')"
      ],
      "execution_count": 55,
      "outputs": []
    },
    {
      "cell_type": "code",
      "metadata": {
        "id": "iltNSx72uv5P"
      },
      "source": [
        "rj_mun = 'RJ_Municipios_2020.geojson'"
      ],
      "execution_count": 56,
      "outputs": []
    },
    {
      "cell_type": "code",
      "metadata": {
        "id": "klMQneCnuv5P"
      },
      "source": [
        "geo_json_data = json.load(open(rj_mun))"
      ],
      "execution_count": 57,
      "outputs": []
    },
    {
      "cell_type": "code",
      "metadata": {
        "id": "LmNKoQSTCYqa"
      },
      "source": [
        "map = folium.Map(width='100%', height='100%', location = [-22.9035, -43.2096], zoom_start = 7)"
      ],
      "execution_count": null,
      "outputs": []
    },
    {
      "cell_type": "code",
      "metadata": {
        "id": "O3DKkTZxCYkB",
        "colab": {
          "base_uri": "https://localhost:8080/"
        },
        "outputId": "523bb370-b3cb-4714-89f2-b11befd5f48d"
      },
      "source": [
        "map.choropleth(geo_data = geo_json_data, name = 'Cobertura vacinal completa', data = rj_final, columns = ['Municipio', 'Cobertura vacinal'],\n",
        "               key_on = 'feature.properties.NM_MUN', fill_color = 'YlGnBu', fill_opacity = 0.9, line_color = 'black',\n",
        "               line_opacity = 0.6,\n",
        "               show = False,\n",
        "               legend_name = 'Cobertura vacinal completa (27-09-2021)',\n",
        "               bins = [0,0.1,0.2,0.3,0.4,0.5,0.6,0.7,0.8,0.9])"
      ],
      "execution_count": null,
      "outputs": [
        {
          "output_type": "stream",
          "name": "stderr",
          "text": [
            "/usr/local/lib/python3.7/dist-packages/folium/folium.py:426: FutureWarning: The choropleth  method has been deprecated. Instead use the new Choropleth class, which has the same arguments. See the example notebook 'GeoJSON_and_choropleth' for how to do this.\n",
            "  FutureWarning\n"
          ]
        }
      ]
    },
    {
      "cell_type": "code",
      "metadata": {
        "id": "RPsjscRTCYeW"
      },
      "source": [
        "map.save('vaccine_rj_2_dose.html')"
      ],
      "execution_count": null,
      "outputs": []
    },
    {
      "cell_type": "code",
      "metadata": {
        "colab": {
          "base_uri": "https://localhost:8080/"
        },
        "id": "UMhWOXfqDfCp",
        "outputId": "c6ef5410-da57-4d31-f1b8-3d7690bb040f"
      },
      "source": [
        "np.mean(rj_final['Cobertura vacinal'])"
      ],
      "execution_count": null,
      "outputs": [
        {
          "output_type": "execute_result",
          "data": {
            "text/plain": [
              "0.3469264680932567"
            ]
          },
          "metadata": {},
          "execution_count": 58
        }
      ]
    },
    {
      "cell_type": "code",
      "metadata": {
        "colab": {
          "base_uri": "https://localhost:8080/"
        },
        "id": "pkUxYbgIEmwG",
        "outputId": "eb6d7736-e914-4fe0-ecdc-4bdedf1daeba"
      },
      "source": [
        "np.median(rj_final['Cobertura vacinal'])"
      ],
      "execution_count": null,
      "outputs": [
        {
          "output_type": "execute_result",
          "data": {
            "text/plain": [
              "0.3313303475128257"
            ]
          },
          "metadata": {},
          "execution_count": 59
        }
      ]
    },
    {
      "cell_type": "code",
      "metadata": {
        "colab": {
          "base_uri": "https://localhost:8080/"
        },
        "id": "KoWXuGSwEp-U",
        "outputId": "cbcc5b95-b380-4c97-eab3-42b625fd12e9"
      },
      "source": [
        "np.std(rj_final['Cobertura vacinal'])"
      ],
      "execution_count": null,
      "outputs": [
        {
          "output_type": "execute_result",
          "data": {
            "text/plain": [
              "0.12049844621476592"
            ]
          },
          "metadata": {},
          "execution_count": 60
        }
      ]
    },
    {
      "cell_type": "code",
      "metadata": {
        "colab": {
          "base_uri": "https://localhost:8080/",
          "height": 392
        },
        "id": "OF1GR-nDErXF",
        "outputId": "d53710da-34f6-4122-8eef-ca5125f21799"
      },
      "source": [
        "fig = plt.figure(figsize=(12,6))\n",
        "n,x,_ = plt.hist(rj_final['Cobertura vacinal'], bins=np.linspace(0,1,41), color = 'lightseagreen', edgecolor='black',\n",
        "                 alpha = 0.6)\n",
        "bin_centers = 0.5*(x[1:]+x[:-1])\n",
        "plt.plot(bin_centers,n, color = 'crimson', linestyle='dashed')\n",
        "plt.xlabel('Fração completamente imunizada', fontsize = 14)\n",
        "plt.ylabel('Quantidade de municipios', fontsize = 14)\n",
        "plt.xlim(0,1)\n",
        "fig.patch.set_alpha(1)\n",
        "for ax in fig.axes:\n",
        "    ax.patch.set_alpha(1)"
      ],
      "execution_count": null,
      "outputs": [
        {
          "output_type": "display_data",
          "data": {
            "image/png": "[encoded data removed]",
            "text/plain": [
              "<Figure size 864x432 with 1 Axes>"
            ]
          },
          "metadata": {}
        }
      ]
    }
  ]
}