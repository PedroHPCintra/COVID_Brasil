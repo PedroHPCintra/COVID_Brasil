{
 "cells": [
  {
   "cell_type": "markdown",
   "metadata": {
    "id": "nN_lEuszsLK9"
   },
   "source": [
    "# Piramide de vacinação brasileira\n",
    "\n",
    "Fontes:\n",
    "\n",
    "1. população brasileira - [Projeção da população do Brasil e das Unidades da Federação - IBGE](https://www.ibge.gov.br/apps/populacao/projecao//index.html)\n",
    "2. população vacinada - [Registros de Vacinação COVID19 - OpenDataSUS](https://opendatasus.saude.gov.br/dataset/covid-19-vacinacao/resource/ef3bd0b8-b605-474b-9ae5-c97390c197a8)"
   ]
  },
  {
   "cell_type": "markdown",
   "metadata": {
    "id": "OB84qe5tuvzs"
   },
   "source": [
    "**ANTES DE RODAR O CÓDIGO**\n",
    "\n",
    "- Baixe o ```.csv``` completo com os dados de vacinação no Brasil e salve o arquivo na mesma pasta aonde o jupyter notebook está.\n",
    "\n",
    "- No local de date coloque a data de corte para até onde você irá pegar dados. Se deseja pegar dados de vacinação até o dia 01/06/2021, por exemplo, coloque a data como 02/06/2021.\n",
    "\n",
    "- O ```.csv``` é grande demais para ser aberto sem estourar a RAM do meu computador (se o seu aguenta parabéns, você tem um ótimo computador). Portanto, este código faz um loop que abre ele em partes de 7 milhões de linhas (se quiser mudar isso, mude a variável ```rows_n``` para o valor que queira). Logo, antes de rodar o código, você precisa checar quantas pessoas já foram vacinadas até a data que deseja. Por exemplo, se já 140 milhões de pessoas já foram vacinadas até a data que você quer, o primeiro subloop deve ir até 140 milhões/7 milhões = 20\n",
    "\n",
    "- Para checar quantas pessoas já foram vacinadas, recomendo acessar [ourworldindata.org/vaccination_brazil](ourworldindata.org/vaccination_brazil)."
   ]
  },
  {
   "cell_type": "code",
   "execution_count": 1,
   "metadata": {
    "id": "mTqrxs3DsFB1"
   },
   "outputs": [],
   "source": [
    "import matplotlib.pyplot as plt\n",
    "import seaborn as sns\n",
    "import numpy as np\n",
    "import pandas as pd\n",
    "import scipy.stats as st\n",
    "import os\n",
    "import datetime\n",
    "import time\n",
    "\n",
    "from tqdm.notebook import tqdm"
   ]
  },
  {
   "cell_type": "code",
   "execution_count": 2,
   "metadata": {
    "id": "TQaMM_iasd5g"
   },
   "outputs": [],
   "source": [
    "dates = ['2021-01-24', '2021-01-31', '2021-02-07', '2021-02-14', '2021-02-21',\n",
    "         '2021-02-28', '2021-03-07', '2021-03-14', '2021-03-21', '2021-03-28',\n",
    "         '2021-04-04', '2021-04-11', '2021-04-18', '2021-04-25', '2021-05-02',\n",
    "         '2021-05-09', '2021-05-16', '2021-05-23', '2021-05-30', '2021-06-06',\n",
    "         '2021-06-13', '2021-06-20', '2021-06-27', '2021-07-04', '2021-07-11',\n",
    "         '2021-07-18', '2021-07-25', '2021-08-01', '2021-08-08', '2021-08-15',\n",
    "         '2021-08-22', '2021-08-29', '2021-09-05', '2021-09-12', '2021-09-19',\n",
    "         '2021-09-26']\n",
    "dates_pd = pd.DataFrame({'dates': dates})\n",
    "dates_pd['dates'] = pd.to_datetime(dates_pd['dates'], format = '%Y-%m-%d').dt.tz_localize(None)"
   ]
  },
  {
   "cell_type": "code",
   "execution_count": 3,
   "metadata": {
    "id": "_9sb6saOt032"
   },
   "outputs": [],
   "source": [
    "pop_br = 212981000\n",
    "cols = ['paciente_idade', 'vacina_dataaplicacao', 'vacina_descricao_dose',\n",
    "        'paciente_enumsexobiologico']\n",
    "\n",
    "man = [0.0356,0.0354,0.0357,0.0380,0.0411,0.0401,0.0403,0.0394,0.0358,0.0311,0.0285,0.0251,0.0205,\n",
    "       0.0158,0.0113,0.0073,0.0045,0.0022,0.0013]\n",
    "woman = [0.0340,0.0338,0.0342,0.0366,0.0402,0.0401,0.0410,0.0410,0.0379,0.0334,0.0311,0.0281,0.0238,\n",
    "         0.0189,0.0142,0.0098,0.0067,0.0037,0.0026]\n",
    "\n",
    "br = pd.DataFrame({'Age': ['0-4','5-9','10-14','15-19','20-24','25-29','30-34','35-39','40-44',\n",
    "                           '45-49','50-54','55-59','60-64','65-69','70-74','75-79','80-84','85-89','90+'],\n",
    "                   'Male': np.array(man)*pop_br,\n",
    "                   'Female': np.array(woman)*(-pop_br)})\n",
    "AgeClass = ['90+','85-89','80-84','75-79','70-74','65-69','60-64','55-59','50-54','45-49','40-44',\n",
    "            '35-39','30-34','25-29','20-24','15-19','10-14','5-9','0-4']"
   ]
  },
  {
   "cell_type": "code",
   "execution_count": 4,
   "metadata": {
    "id": "qFmHz_FQt2Ut"
   },
   "outputs": [],
   "source": [
    "rows_n = 1e6  # adjust it according to RAM capacity - My wsl can't handle more than 3e6 :(\n",
    "size = 34\n",
    "csv_vacinacao_brazil = '/mnt/d/Downloads/covid_vacinacao_brazil.csv'"
   ]
  },
  {
   "cell_type": "code",
   "execution_count": 5,
   "metadata": {
    "id": "QDzZVi_HsPDU"
   },
   "outputs": [
    {
     "data": {
      "application/vnd.jupyter.widget-view+json": {
       "model_id": "180f97c0b355453eb73b240e44df0939",
       "version_major": 2,
       "version_minor": 0
      },
      "text/plain": [
       "HBox(children=(FloatProgress(value=0.0, max=220.0), HTML(value='')))"
      ]
     },
     "metadata": {},
     "output_type": "display_data"
    },
    {
     "name": "stdout",
     "output_type": "stream",
     "text": [
      "\n"
     ]
    }
   ],
   "source": [
    "df_iter = pd.read_csv(csv_vacinacao_brazil, chunksize=rows_n, error_bad_lines=False, delimiter = ';')\n",
    "\n",
    "vac_dict = {}\n",
    "\n",
    "\n",
    "for vac in tqdm(df_iter, total=220):\n",
    "    # makes the vaccination date a datetime obj\n",
    "    vac['vacina_dataaplicacao'] = pd.to_datetime(vac.vacina_dataaplicacao, \n",
    "                                                     format='%Y-%m-%d').dt.tz_localize(None)\n",
    "    male_first = []\n",
    "    male_second = []\n",
    "\n",
    "    female_first = []\n",
    "    female_second = []\n",
    "\n",
    "    for date in dates:\n",
    "        # separa os grupos para as n doses\n",
    "        vacina_1_dose = vac.loc[(vac['vacina_descricao_dose'] == '1ª\\xa0Dose') &\n",
    "                                (vac['vacina_dataaplicacao'] < datetime.datetime.fromisoformat(date))\n",
    "                               ]\n",
    "        vacina_2_dose = vac.loc[(vac['vacina_descricao_dose'] == '2ª\\xa0Dose') &\n",
    "                                (vac['vacina_dataaplicacao'] < datetime.datetime.fromisoformat(date))\n",
    "                               ]\n",
    "        vacina_dose_unica = vac.loc[(vac['vacina_descricao_dose'] == 'Dose\\xa0') &\n",
    "                                    (vac['vacina_dataaplicacao'] < datetime.datetime.fromisoformat(date))\n",
    "                                   ]\n",
    "\n",
    "        # primeira dose grupos de 0 a 90+ anos separado em grupos de 4 em 4 anos\n",
    "        g_first_dose = [vacina_1_dose.loc[(vacina_1_dose['paciente_idade'] >= j*5) & \n",
    "                               (vacina_1_dose['paciente_idade'] <= j*5 + 4)] \n",
    "                        if j != 18 \n",
    "                        else vacina_1_dose.loc[vacina_1_dose['paciente_idade'] >= j*5]\n",
    "                        for j in range(19) ]\n",
    "\n",
    "        # segunda dose grupos de 0 a 90+ anos separado em grupos de 4 em 4 anos\n",
    "        g_second_dose = [vacina_2_dose.loc[(vacina_2_dose['paciente_idade'] >= j*5) & \n",
    "                                (vacina_2_dose['paciente_idade'] <= j*5 + 4)]\n",
    "                         if j != 18 \n",
    "                         else vacina_2_dose.loc[vacina_2_dose['paciente_idade'] >= j*5]\n",
    "                         for j in range(19)]\n",
    "\n",
    "        # terceira dose grupos de 0 a 90+ anos separado em grupos de 4 em 4 anos\n",
    "        g_single_dose = [vacina_dose_unica.loc[(vacina_dose_unica['paciente_idade'] >= j*5) &\n",
    "                                    (vacina_dose_unica['paciente_idade'] <= j*5 + 4)]\n",
    "                         if j != 18 \n",
    "                         else vacina_dose_unica.loc[vacina_dose_unica['paciente_idade'] >= j*5]\n",
    "                         for j in range(19)]\n",
    "\n",
    "        # faz a contagem dos pacientes de sexo masculino para a idade especificada\n",
    "        # para 1a, 2a e dose unica\n",
    "        male_first = [len(x.loc[x['paciente_enumsexobiologico'] == 'M']) for x in g_first_dose]\n",
    "        male_second = [len(x.loc[x['paciente_enumsexobiologico'] == 'M']) + \n",
    "                       len(x2.loc[x2['paciente_enumsexobiologico'] == 'M']) \n",
    "                       for x, x2 in zip(g_second_dose, g_single_dose)]\n",
    "\n",
    "        female_first = [len(x.loc[x['paciente_enumsexobiologico'] == 'F']) for x in g_first_dose]\n",
    "        female_second = [len(x.loc[x['paciente_enumsexobiologico'] == 'F']) + \n",
    "                         len(x2.loc[x2['paciente_enumsexobiologico'] == 'F']) \n",
    "                         for x, x2 in zip(g_second_dose, g_single_dose)]\n",
    "\n",
    "        male_first = np.array(male_first)\n",
    "        male_second = np.array(male_second)\n",
    "\n",
    "        female_first = np.array(female_first)\n",
    "        female_second = np.array(female_second)\n",
    "\n",
    "        vac_dict[date] = {'f_first': vac_dict[date]['f_first'] + female_first \n",
    "                                                                      if date in vac_dict else female_first, \n",
    "                                  'f_second': vac_dict[date]['f_second'] + female_second \n",
    "                                                                      if date in vac_dict else female_second, \n",
    "                                  'm_first': vac_dict[date]['m_first'] + male_first \n",
    "                                                                      if date in vac_dict else male_first, \n",
    "                                  'm_second': vac_dict[date]['m_second'] + male_second \n",
    "                                                                      if date in vac_dict else male_second}\n"
   ]
  },
  {
   "cell_type": "code",
   "execution_count": 6,
   "metadata": {
    "scrolled": true
   },
   "outputs": [],
   "source": [
    "import json\n",
    "\n",
    "class NumpyEncoder(json.JSONEncoder):\n",
    "    def default(self, obj):\n",
    "        if isinstance(obj, np.ndarray):\n",
    "            return obj.tolist()\n",
    "        return json.JSONEncoder.default(self, obj)\n",
    "\n",
    "json.dump(vac_dict, open('vac_dict.json', 'w'), cls=NumpyEncoder)"
   ]
  },
  {
   "cell_type": "code",
   "execution_count": 9,
   "metadata": {},
   "outputs": [],
   "source": [
    "# Construção dos gráficos\n",
    "\n",
    "for date in vac_dict.keys():\n",
    "    df = pd.DataFrame({'Age': ['0-4','5-9','10-14','15-19','20-24','25-29',\n",
    "                               '30-34', '35-39','40-44','45-49','50-54',\n",
    "                               '55-59','60-64','65-69','70-74','75-79',\n",
    "                               '80-84','85-89','90+'],\n",
    "                       'Male_1dose': vac_dict[date]['m_first'],\n",
    "                       'Male_2dose': vac_dict[date]['m_second'],\n",
    "                       'Female_1dose': -np.array(vac_dict[date]['f_first']),\n",
    "                       'Female_2dose': -np.array(vac_dict[date]['f_second'])})\n",
    "    plt.figure(figsize=(10,8))\n",
    "    bar_plot = sns.barplot(x='Male', \n",
    "                           y='Age', \n",
    "                           data=br, \n",
    "                           order=AgeClass, \n",
    "                           color = 'blue', \n",
    "                           alpha = 0.4, \n",
    "                           label = 'Homens população')\n",
    "    bar_plot = sns.barplot(x='Female', \n",
    "                           y='Age', \n",
    "                           data=br, \n",
    "                           order=AgeClass, \n",
    "                           color = 'red', \n",
    "                           alpha = 0.4, \n",
    "                           label = 'Mulheres população')\n",
    "    bar_plot = sns.barplot(x='Male_1dose', \n",
    "                           y='Age', \n",
    "                           data=df, \n",
    "                           order=AgeClass, \n",
    "                           color = 'blue', \n",
    "                           alpha = 0.7, \n",
    "                           label = 'Homens vacinados 1ª dose')\n",
    "    bar_plot = sns.barplot(x='Female_1dose', y='Age', \n",
    "                           data=df, \n",
    "                           order=AgeClass, \n",
    "                           color = 'red', \n",
    "                           alpha = 0.7, \n",
    "                           label = 'Mulheres vacinadas 1ª dose')\n",
    "\n",
    "    bar_plot = sns.barplot(x='Male_2dose', \n",
    "                           y='Age', \n",
    "                           data=df, \n",
    "                           order=AgeClass, \n",
    "                           color = 'darkblue', \n",
    "                           label = 'Homens vacinados 2ª dose')\n",
    "    bar_plot = sns.barplot(x='Female_2dose', \n",
    "                           y='Age', \n",
    "                           data=df, \n",
    "                           order=AgeClass, \n",
    "                           color = 'darkred', \n",
    "                           label = 'Mulheres vacinados 2ª dose')\n",
    "\n",
    "    if not os.path.exists('./results'):\n",
    "        os.mkdir('./results')\n",
    "\n",
    "    plt.ylabel('Grupo Etário', fontsize = 14)\n",
    "    plt.xlabel('População (milhões)', fontsize = 14)\n",
    "    plt.title(f'Pirâmide de vacinação ({date})', fontsize = 18)\n",
    "    plt.xticks([-10e6, -7.5e6, -5e6, -2.5e6, 0, 2.5e6, 5e6, 7.5e6, 10e6],\n",
    "            labels = ['10','7.5','5','2.5','0','2.5','5','7.5','10'])\n",
    "    plt.legend(title = 'Populações', bbox_to_anchor = (1.01,1), fontsize = 11)\n",
    "    plt.savefig(f'./results/vaccination_pyramid_{date}.png', bbox_inches = 'tight', dpi = 300)\n",
    "    plt.close()"
   ]
  },
  {
   "cell_type": "code",
   "execution_count": 10,
   "metadata": {},
   "outputs": [
    {
     "name": "stdout",
     "output_type": "stream",
     "text": [
      "Creating gif\n",
      "\n",
      "Gif saved\n",
      "\n"
     ]
    }
   ],
   "source": [
    "from glob import glob\n",
    "import imageio\n",
    "\n",
    "# Build GIF\n",
    "print('Creating gif\\n')\n",
    "list_images = sorted(glob('./results/*.png'))\n",
    "with imageio.get_writer(f'vacinacao_brasil_2021-09-26.gif', mode='I', duration=0.2, subrectangles=True) as writer:\n",
    "    for ix, filename in enumerate(list_images):\n",
    "        image = imageio.imread(filename)\n",
    "        writer.append_data(image)\n",
    "        if ix + 1 == len(list_images):\n",
    "            for i in range(10): writer.append_data(image)\n",
    "print('Gif saved\\n')"
   ]
  },
  {
   "cell_type": "code",
   "execution_count": null,
   "metadata": {},
   "outputs": [],
   "source": []
  }
 ],
 "metadata": {
  "colab": {
   "name": "Vaccination_pyramid_br.ipynb",
   "provenance": []
  },
  "kernelspec": {
   "display_name": "Python 3",
   "language": "python",
   "name": "python3"
  },
  "language_info": {
   "codemirror_mode": {
    "name": "ipython",
    "version": 3
   },
   "file_extension": ".py",
   "mimetype": "text/x-python",
   "name": "python",
   "nbconvert_exporter": "python",
   "pygments_lexer": "ipython3",
   "version": "3.7.6"
  }
 },
 "nbformat": 4,
 "nbformat_minor": 4
}
